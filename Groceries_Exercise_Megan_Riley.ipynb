{
  "nbformat": 4,
  "nbformat_minor": 0,
  "metadata": {
    "colab": {
      "provenance": [],
      "collapsed_sections": [
        "eDLu9Zvgfuvq"
      ],
      "include_colab_link": true
    },
    "kernelspec": {
      "name": "python3",
      "display_name": "Python 3"
    }
  },
  "cells": [
    {
      "cell_type": "markdown",
      "metadata": {
        "id": "view-in-github",
        "colab_type": "text"
      },
      "source": [
        "<a href=\"https://colab.research.google.com/github/mlr8658/my-notebooks-2023/blob/main/Groceries_Exercise_Megan_Riley.ipynb\" target=\"_parent\"><img src=\"https://colab.research.google.com/assets/colab-badge.svg\" alt=\"Open In Colab\"/></a>"
      ]
    },
    {
      "cell_type": "markdown",
      "source": [
        "version: 2023-07-14 (adds unit tests to setup section)"
      ],
      "metadata": {
        "id": "7ZNicZyEDvkQ"
      }
    },
    {
      "cell_type": "markdown",
      "metadata": {
        "id": "qO82jWpUzFYe"
      },
      "source": [
        "## References\n",
        "\n",
        "  + [Lists](https://github.com/prof-rossetti/intro-to-python/blob/master/notes/python/datatypes/lists.md)\n",
        "  + [Dictionaries](https://github.com/prof-rossetti/intro-to-python/blob/master/notes/python/datatypes/dictionaries.md)\n",
        "  + [List Comprehensions](https://docs.python.org/3/tutorial/datastructures.html?#list-comprehensions)"
      ]
    },
    {
      "cell_type": "markdown",
      "metadata": {
        "id": "cj2a-V0qfs8X"
      },
      "source": [
        "# Instructions\n",
        "\n",
        "Make a copy of this notebook so you can edit and save your own version of it. Do the work in your copy of the notebook.\n",
        "\n",
        "The setup cell provides a Python variable called `products` and a function called `to_usd`. Remember to run the setup cells before proceeding to development.\n",
        "\n",
        "Write Python code in the cells below to transform the provided `products` variable into the desired information outputs.\n",
        "\n",
        "# Collaboration\n",
        "\n",
        "It is OK to discuss this exercise generally with other students, to work together, and even to share some small code snippets!\n",
        "\n",
        "NOTE: if you receive any help from another student, you are expected to provide appropriate attribution in a corresponding text cell or code comment, like \"Student X helped me with this part\", or \"Student Y and I worked on this part together\".\n",
        "\n",
        "# Evaluation\n",
        "\n",
        "Exercise submissions will be evaluated according to the rubric below:\n",
        "\n",
        "Question | Weight\n",
        "-- | --\n",
        "Part I | 50%\n",
        "Part II | 50%\n",
        "\n",
        "\n",
        "This rubric is tentative, and may be subject to slight adjustments during the grading process.\n"
      ]
    },
    {
      "cell_type": "markdown",
      "metadata": {
        "id": "eDLu9Zvgfuvq"
      },
      "source": [
        "# Setup"
      ]
    },
    {
      "cell_type": "code",
      "source": [
        "#\n",
        "# SETUP CELL (run and leave as-is)\n",
        "#\n",
        "\n",
        "def to_usd(my_price):\n",
        "    \"\"\"\n",
        "    Converts a numeric value to usd-formatted string, for printing and display purposes.\n",
        "\n",
        "    Param: my_price (int or float) like 4000.444444\n",
        "\n",
        "    Example: to_usd(4000.444444)\n",
        "\n",
        "    Returns: $4,000.44\n",
        "    \"\"\"\n",
        "    return f\"${my_price:,.2f}\" #> $12,000.71\n",
        "\n",
        "\n",
        "assert to_usd(3.5) == \"$3.50\"\n",
        "assert to_usd(4.44444) == \"$4.44\"\n",
        "assert to_usd(1234567890) == \"$1,234,567,890.00\"\n",
        "\n",
        "print(to_usd(12345.6789))"
      ],
      "metadata": {
        "colab": {
          "base_uri": "https://localhost:8080/"
        },
        "id": "4_kC0rW0Dsd7",
        "outputId": "ffa0620f-66a3-4a43-d763-f6517d504174"
      },
      "execution_count": 1,
      "outputs": [
        {
          "output_type": "stream",
          "name": "stdout",
          "text": [
            "$12,345.68\n"
          ]
        }
      ]
    },
    {
      "cell_type": "code",
      "metadata": {
        "id": "bMCg7sm9UuKL"
      },
      "source": [
        "#\n",
        "# SETUP CELL (run and leave as-is)\n",
        "#\n",
        "\n",
        "products = [\n",
        "    {\"id\":1, \"name\": \"Chocolate Sandwich Cookies\", \"department\": \"snacks\", \"aisle\": \"cookies cakes\", \"price\": 3.50},\n",
        "    {\"id\":2, \"name\": \"All-Seasons Salt\", \"department\": \"pantry\", \"aisle\": \"spices seasonings\", \"price\": 4.99},\n",
        "    {\"id\":3, \"name\": \"Robust Golden Unsweetened Oolong Tea\", \"department\": \"beverages\", \"aisle\": \"tea\", \"price\": 2.49},\n",
        "    {\"id\":4, \"name\": \"Smart Ones Classic Favorites Mini Rigatoni With Vodka Cream Sauce\", \"department\": \"frozen\", \"aisle\": \"frozen meals\", \"price\": 6.99},\n",
        "    {\"id\":5, \"name\": \"Green Chile Anytime Sauce\", \"department\": \"pantry\", \"aisle\": \"marinades meat preparation\", \"price\": 7.99},\n",
        "    {\"id\":6, \"name\": \"Dry Nose Oil\", \"department\": \"personal care\", \"aisle\": \"cold flu allergy\", \"price\": 21.99},\n",
        "    {\"id\":7, \"name\": \"Pure Coconut Water With Orange\", \"department\": \"beverages\", \"aisle\": \"juice nectars\", \"price\": 3.50},\n",
        "    {\"id\":8, \"name\": \"Cut Russet Potatoes Steam N' Mash\", \"department\": \"frozen\", \"aisle\": \"frozen produce\", \"price\": 4.25},\n",
        "    {\"id\":9, \"name\": \"Light Strawberry Blueberry Yogurt\", \"department\": \"dairy eggs\", \"aisle\": \"yogurt\", \"price\": 6.50},\n",
        "    {\"id\":10, \"name\": \"Sparkling Orange Juice & Prickly Pear Beverage\", \"department\": \"beverages\", \"aisle\": \"water seltzer sparkling water\", \"price\": 2.99},\n",
        "    {\"id\":11, \"name\": \"Peach Mango Juice\", \"department\": \"beverages\", \"aisle\": \"refrigerated\", \"price\": 1.99},\n",
        "    {\"id\":12, \"name\": \"Chocolate Fudge Layer Cake\", \"department\": \"frozen\", \"aisle\": \"frozen dessert\", \"price\": 18.50},\n",
        "    {\"id\":13, \"name\": \"Saline Nasal Mist\", \"department\": \"personal care\", \"aisle\": \"cold flu allergy\", \"price\": 16.00},\n",
        "    {\"id\":14, \"name\": \"Fresh Scent Dishwasher Cleaner\", \"department\": \"household\", \"aisle\": \"dish detergents\", \"price\": 4.99},\n",
        "    {\"id\":15, \"name\": \"Overnight Diapers Size 6\", \"department\": \"babies\", \"aisle\": \"diapers wipes\", \"price\": 25.50},\n",
        "    {\"id\":16, \"name\": \"Mint Chocolate Flavored Syrup\", \"department\": \"snacks\", \"aisle\": \"ice cream toppings\", \"price\": 4.50},\n",
        "    {\"id\":17, \"name\": \"Rendered Duck Fat\", \"department\": \"meat seafood\", \"aisle\": \"poultry counter\", \"price\": 9.99},\n",
        "    {\"id\":18, \"name\": \"Pizza for One Suprema Frozen Pizza\", \"department\": \"frozen\", \"aisle\": \"frozen pizza\", \"price\": 12.50},\n",
        "    {\"id\":19, \"name\": \"Gluten Free Quinoa Three Cheese & Mushroom Blend\", \"department\": \"dry goods pasta\", \"aisle\": \"grains rice dried goods\", \"price\": 3.99},\n",
        "    {\"id\":20, \"name\": \"Pomegranate Cranberry & Aloe Vera Enrich Drink\", \"department\": \"beverages\", \"aisle\": \"juice nectars\", \"price\": 4.25}\n",
        "] # based on data from Instacart: https://www.instacart.com/datasets/grocery-shopping-2017\n"
      ],
      "execution_count": 4,
      "outputs": []
    },
    {
      "cell_type": "code",
      "metadata": {
        "id": "QbTs7ScTnsjJ",
        "colab": {
          "base_uri": "https://localhost:8080/"
        },
        "outputId": "e56238a2-bfea-4025-8ebe-088b10317707"
      },
      "source": [
        "# testing the setup process:\n",
        "print(products)\n",
        "print(to_usd(12345.6789))"
      ],
      "execution_count": 5,
      "outputs": [
        {
          "output_type": "stream",
          "name": "stdout",
          "text": [
            "[{'id': 1, 'name': 'Chocolate Sandwich Cookies', 'department': 'snacks', 'aisle': 'cookies cakes', 'price': 3.5}, {'id': 2, 'name': 'All-Seasons Salt', 'department': 'pantry', 'aisle': 'spices seasonings', 'price': 4.99}, {'id': 3, 'name': 'Robust Golden Unsweetened Oolong Tea', 'department': 'beverages', 'aisle': 'tea', 'price': 2.49}, {'id': 4, 'name': 'Smart Ones Classic Favorites Mini Rigatoni With Vodka Cream Sauce', 'department': 'frozen', 'aisle': 'frozen meals', 'price': 6.99}, {'id': 5, 'name': 'Green Chile Anytime Sauce', 'department': 'pantry', 'aisle': 'marinades meat preparation', 'price': 7.99}, {'id': 6, 'name': 'Dry Nose Oil', 'department': 'personal care', 'aisle': 'cold flu allergy', 'price': 21.99}, {'id': 7, 'name': 'Pure Coconut Water With Orange', 'department': 'beverages', 'aisle': 'juice nectars', 'price': 3.5}, {'id': 8, 'name': \"Cut Russet Potatoes Steam N' Mash\", 'department': 'frozen', 'aisle': 'frozen produce', 'price': 4.25}, {'id': 9, 'name': 'Light Strawberry Blueberry Yogurt', 'department': 'dairy eggs', 'aisle': 'yogurt', 'price': 6.5}, {'id': 10, 'name': 'Sparkling Orange Juice & Prickly Pear Beverage', 'department': 'beverages', 'aisle': 'water seltzer sparkling water', 'price': 2.99}, {'id': 11, 'name': 'Peach Mango Juice', 'department': 'beverages', 'aisle': 'refrigerated', 'price': 1.99}, {'id': 12, 'name': 'Chocolate Fudge Layer Cake', 'department': 'frozen', 'aisle': 'frozen dessert', 'price': 18.5}, {'id': 13, 'name': 'Saline Nasal Mist', 'department': 'personal care', 'aisle': 'cold flu allergy', 'price': 16.0}, {'id': 14, 'name': 'Fresh Scent Dishwasher Cleaner', 'department': 'household', 'aisle': 'dish detergents', 'price': 4.99}, {'id': 15, 'name': 'Overnight Diapers Size 6', 'department': 'babies', 'aisle': 'diapers wipes', 'price': 25.5}, {'id': 16, 'name': 'Mint Chocolate Flavored Syrup', 'department': 'snacks', 'aisle': 'ice cream toppings', 'price': 4.5}, {'id': 17, 'name': 'Rendered Duck Fat', 'department': 'meat seafood', 'aisle': 'poultry counter', 'price': 9.99}, {'id': 18, 'name': 'Pizza for One Suprema Frozen Pizza', 'department': 'frozen', 'aisle': 'frozen pizza', 'price': 12.5}, {'id': 19, 'name': 'Gluten Free Quinoa Three Cheese & Mushroom Blend', 'department': 'dry goods pasta', 'aisle': 'grains rice dried goods', 'price': 3.99}, {'id': 20, 'name': 'Pomegranate Cranberry & Aloe Vera Enrich Drink', 'department': 'beverages', 'aisle': 'juice nectars', 'price': 4.25}]\n",
            "$12,345.68\n"
          ]
        }
      ]
    },
    {
      "cell_type": "markdown",
      "metadata": {
        "id": "da-yL2tWU6R8"
      },
      "source": [
        "# Part 1\n",
        "\n",
        "Write python code which references the `products` variable to reproduce the following output, representing a human-friendly list of products:\n",
        "\n",
        "```\n",
        "--------------\n",
        "THERE ARE 20 PRODUCTS:\n",
        "--------------\n",
        " + All-Seasons Salt ($4.99)\n",
        " + Chocolate Fudge Layer Cake ($18.50)\n",
        " + Chocolate Sandwich Cookies ($3.50)\n",
        " + Cut Russet Potatoes Steam N' Mash ($4.25)\n",
        " + Dry Nose Oil ($21.99)\n",
        " + Fresh Scent Dishwasher Cleaner ($4.99)\n",
        " + Gluten Free Quinoa Three Cheese & Mushroom Blend ($3.99)\n",
        " + Green Chile Anytime Sauce ($7.99)\n",
        " + Light Strawberry Blueberry Yogurt ($6.50)\n",
        " + Mint Chocolate Flavored Syrup ($4.50)\n",
        " + Overnight Diapers Size 6 ($25.50)\n",
        " + Peach Mango Juice ($1.99)\n",
        " + Pizza For One Suprema Frozen Pizza ($12.50)\n",
        " + Pomegranate Cranberry & Aloe Vera Enrich Drink ($4.25)\n",
        " + Pure Coconut Water With Orange ($3.50)\n",
        " + Rendered Duck Fat ($9.99)\n",
        " + Robust Golden Unsweetened Oolong Tea ($2.49)\n",
        " + Saline Nasal Mist ($16.00)\n",
        " + Smart Ones Classic Favorites Mini Rigatoni With Vodka Cream Sauce ($6.99)\n",
        " + Sparkling Orange Juice & Prickly Pear Beverage ($2.99)\n",
        " ```\n"
      ]
    },
    {
      "cell_type": "code",
      "metadata": {
        "id": "H5U_nR6cgEon",
        "colab": {
          "base_uri": "https://localhost:8080/"
        },
        "outputId": "d08ce7e6-4ca1-42a8-9645-f70ec4749959"
      },
      "source": [
        "#\n",
        "# PART 1 CODE HERE!\n",
        "#\n",
        "\n",
        "print(\"---------------\")\n",
        "print(f\"THERE ARE {len(products)} PRODUCTS:\")\n",
        "print(\"---------------\")\n",
        "\n",
        "#type(products) ---- the product variable is a list of dictionaries\n",
        "#type(products[0])\n",
        "#products[0].keys()\n",
        "#keys are id, name, department, aisle, and price\n",
        "\n",
        "#item1 = products[0]\n",
        "#print(item1)\n",
        "#print(type(item1))\n",
        "\n",
        "#item1['name']\n",
        "\n",
        "#item1 = products[0][\"name\"]\n",
        "#print(item1)\n",
        "\n",
        "from operator import itemgetter\n",
        "\n",
        "sorted_products = sorted(products, key=itemgetter(\"name\")) #sorting in alphabetical order\n",
        "\n",
        "for item in sorted_products:   #goal is to loop through products list\n",
        "    #print(item)\n",
        "    print(\"+\", item[\"name\"], \"(\", to_usd(item[\"price\"]), \")\") #to_usd function ran in set up\n",
        "    print(\"-----\")\n",
        "\n",
        "print(\"BOTTOM\")"
      ],
      "execution_count": 80,
      "outputs": [
        {
          "output_type": "stream",
          "name": "stdout",
          "text": [
            "---------------\n",
            "THERE ARE 20 PRODUCTS:\n",
            "---------------\n",
            "+ All-Seasons Salt ( $4.99 )\n",
            "-----\n",
            "+ Chocolate Fudge Layer Cake ( $18.50 )\n",
            "-----\n",
            "+ Chocolate Sandwich Cookies ( $3.50 )\n",
            "-----\n",
            "+ Cut Russet Potatoes Steam N' Mash ( $4.25 )\n",
            "-----\n",
            "+ Dry Nose Oil ( $21.99 )\n",
            "-----\n",
            "+ Fresh Scent Dishwasher Cleaner ( $4.99 )\n",
            "-----\n",
            "+ Gluten Free Quinoa Three Cheese & Mushroom Blend ( $3.99 )\n",
            "-----\n",
            "+ Green Chile Anytime Sauce ( $7.99 )\n",
            "-----\n",
            "+ Light Strawberry Blueberry Yogurt ( $6.50 )\n",
            "-----\n",
            "+ Mint Chocolate Flavored Syrup ( $4.50 )\n",
            "-----\n",
            "+ Overnight Diapers Size 6 ( $25.50 )\n",
            "-----\n",
            "+ Peach Mango Juice ( $1.99 )\n",
            "-----\n",
            "+ Pizza for One Suprema Frozen Pizza ( $12.50 )\n",
            "-----\n",
            "+ Pomegranate Cranberry & Aloe Vera Enrich Drink ( $4.25 )\n",
            "-----\n",
            "+ Pure Coconut Water With Orange ( $3.50 )\n",
            "-----\n",
            "+ Rendered Duck Fat ( $9.99 )\n",
            "-----\n",
            "+ Robust Golden Unsweetened Oolong Tea ( $2.49 )\n",
            "-----\n",
            "+ Saline Nasal Mist ( $16.00 )\n",
            "-----\n",
            "+ Smart Ones Classic Favorites Mini Rigatoni With Vodka Cream Sauce ( $6.99 )\n",
            "-----\n",
            "+ Sparkling Orange Juice & Prickly Pear Beverage ( $2.99 )\n",
            "-----\n",
            "BOTTOM\n"
          ]
        }
      ]
    },
    {
      "cell_type": "code",
      "source": [],
      "metadata": {
        "id": "c4xq6EQqbY-z"
      },
      "execution_count": null,
      "outputs": []
    },
    {
      "cell_type": "code",
      "source": [],
      "metadata": {
        "id": "nUWWf7Tu29RJ"
      },
      "execution_count": null,
      "outputs": []
    },
    {
      "cell_type": "markdown",
      "metadata": {
        "id": "HJiIxGI7Vw20"
      },
      "source": [
        "# Part 2\n",
        "\n",
        "Write python code which references the `products` variable to reproduce the following output, representing a human-friendly list of departments:\n"
      ]
    },
    {
      "cell_type": "markdown",
      "metadata": {
        "id": "PHGh4bUYVgW2"
      },
      "source": [
        "\n",
        "\n",
        "\n",
        "```\n",
        "--------------\n",
        "THERE ARE 10 DEPARTMENTS:\n",
        "--------------\n",
        " + Babies (1 product)\n",
        " + Beverages (5 products)\n",
        " + Dairy Eggs (1 product)\n",
        " + Dry Goods Pasta (1 product)\n",
        " + Frozen (4 products)\n",
        " + Household (1 product)\n",
        " + Meat Seafood (1 product)\n",
        " + Pantry (2 products)\n",
        " + Personal Care (2 products)\n",
        " + Snacks (2 products)\n",
        " ```"
      ]
    },
    {
      "cell_type": "code",
      "metadata": {
        "id": "snjnvaT-gCVj",
        "colab": {
          "base_uri": "https://localhost:8080/"
        },
        "outputId": "86359837-7c99-4274-908a-8e3c7e652d37"
      },
      "source": [
        "#\n",
        "# PART 2 CODE HERE!\n",
        "#\n",
        "#print(products[0])\n",
        "#products[0].keys()\n",
        "\n",
        "#deps = [item[\"department\"] for item in products]\n",
        "#print(deps)\n",
        "#print(len(deps))\n",
        "\n",
        "#count up all deps\n",
        "#babiesnum = deps.count(\"babies\")\n",
        "#print(babiesnum)\n",
        "#beveragesnum = deps.count(\"beverages\")\n",
        "#print(beveragesnum)\n",
        "#dairynum = deps.count(\"dairy eggs\")\n",
        "#print(dairynum)\n",
        "#drynum = deps.count(\"dry goods pasta\")\n",
        "#print(drynum)\n",
        "#frozennum = deps.count(\"frozen\")\n",
        "#print(frozennum)\n",
        "#housenum = deps.count(\"household\")\n",
        "#print(housenum)\n",
        "#meatnum = deps.count(\"meat seafood\")\n",
        "#print(meatnum)\n",
        "#pantrynum = deps.count(\"pantry\")\n",
        "#print(pantrynum)\n",
        "#personalnum = deps.count(\"personal care\")\n",
        "#print(personalnum)\n",
        "#snacksnum = deps.count(\"snacks\")\n",
        "#print(snacksnum)\n",
        "\n",
        "\n",
        "departments = []\n",
        "for item in products:\n",
        "    if item[\"department\"] not in  departments:\n",
        "        item[\"department\"]\n",
        "        departments.append(item[\"department\"])\n",
        "#print(departments)\n",
        "print(\"---------------\")\n",
        "print(f\"THERE ARE {len(departments)} DEPARTMENTS\")\n",
        "print(\"---------------\")\n",
        "\n",
        "from operator import itemgetter\n",
        "\n",
        "sorted_deps = sorted(departments) #sorting in alphabetical order\n",
        "#print(sorted_deps)\n",
        "\n",
        "for dep in sorted_deps:\n",
        "    num_matches = deps.count(dep)\n",
        "    print(f\"+ {dep.title()} ... ({num_matches} products)\")\n",
        "    print(\"-----\")\n",
        "print(\"BOTTOM\")"
      ],
      "execution_count": 79,
      "outputs": [
        {
          "output_type": "stream",
          "name": "stdout",
          "text": [
            "---------------\n",
            "THERE ARE 10 DEPARTMENTS\n",
            "---------------\n",
            "+ Babies ... (1 products)\n",
            "-----\n",
            "+ Beverages ... (5 products)\n",
            "-----\n",
            "+ Dairy Eggs ... (1 products)\n",
            "-----\n",
            "+ Dry Goods Pasta ... (1 products)\n",
            "-----\n",
            "+ Frozen ... (4 products)\n",
            "-----\n",
            "+ Household ... (1 products)\n",
            "-----\n",
            "+ Meat Seafood ... (1 products)\n",
            "-----\n",
            "+ Pantry ... (2 products)\n",
            "-----\n",
            "+ Personal Care ... (2 products)\n",
            "-----\n",
            "+ Snacks ... (2 products)\n",
            "-----\n",
            "BOTTOM\n"
          ]
        }
      ]
    },
    {
      "cell_type": "code",
      "source": [],
      "metadata": {
        "id": "Lq8ClwY_28gb"
      },
      "execution_count": null,
      "outputs": []
    },
    {
      "cell_type": "code",
      "source": [],
      "metadata": {
        "id": "BQucNJGr28aY"
      },
      "execution_count": null,
      "outputs": []
    }
  ]
}