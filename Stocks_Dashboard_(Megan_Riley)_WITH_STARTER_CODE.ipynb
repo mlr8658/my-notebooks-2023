{
  "nbformat": 4,
  "nbformat_minor": 0,
  "metadata": {
    "colab": {
      "provenance": [],
      "include_colab_link": true
    },
    "kernelspec": {
      "name": "python3",
      "display_name": "Python 3"
    },
    "language_info": {
      "name": "python"
    }
  },
  "cells": [
    {
      "cell_type": "markdown",
      "metadata": {
        "id": "view-in-github",
        "colab_type": "text"
      },
      "source": [
        "<a href=\"https://colab.research.google.com/github/mlr8658/my-notebooks-2023/blob/main/Stocks_Dashboard_(Megan_Riley)_WITH_STARTER_CODE.ipynb\" target=\"_parent\"><img src=\"https://colab.research.google.com/assets/colab-badge.svg\" alt=\"Open In Colab\"/></a>"
      ]
    },
    {
      "cell_type": "markdown",
      "source": [
        "# Prompt"
      ],
      "metadata": {
        "id": "b2pqHGlnmTkk"
      }
    },
    {
      "cell_type": "markdown",
      "source": [
        "\n",
        "Create an automated data dashboard which reads data about stock prices, and produces a corresponding chart of the prices over time. The dashboard should be produced by a reusable function, which, if written correctly, can be used in the provided \"Stocks Dashboard\" section at the very bottom of this notebook. The function will produce a dataviz of the stock prices over time, as well as a summary report of key metrics.\n",
        "\n",
        "\n",
        "\n"
      ],
      "metadata": {
        "id": "6eV-RyqEmVko"
      }
    },
    {
      "cell_type": "markdown",
      "source": [
        "# Instructions"
      ],
      "metadata": {
        "id": "5QfVMuOM9lf3"
      }
    },
    {
      "cell_type": "markdown",
      "source": [
        "\n",
        "1. **Make a copy of this notebook** so you can edit and save your own version of it. Do the work in your copy of the notebook.\n",
        "2. **Update the title of your notebook** to include your name and/or net id.\n",
        "\n",
        "3. **Write Python code in your notebook** in the \"Solution\" section to meet the requirements set forth in the \"Requirements\" section.\n"
      ],
      "metadata": {
        "id": "GwSt7_Ex9mxx"
      }
    },
    {
      "cell_type": "markdown",
      "source": [
        "# Colaboration"
      ],
      "metadata": {
        "id": "3FcmaF3e9pAB"
      }
    },
    {
      "cell_type": "markdown",
      "source": [
        "\n",
        "\n",
        "It is OK to discuss this exercise generally with other students, to work together, and even to share some code snippets.\n",
        "\n",
        "It's OK to search the Internet for helpful resources like the course repository and Stack Overflow.\n",
        "\n",
        "HOWEVER: If you receive help from another student, or an Internet resource other than the course repository, you are expected to **attribute the source of help** in either a text cell or code comment.\n",
        "\n",
        "Attribution Comment Examples:\n",
        "  + \"Student _____ helped me with this part\"\n",
        "  + \"Student _____ and I worked on this part together\"\n",
        "  + \"Found this code from URL ________\"\n"
      ],
      "metadata": {
        "id": "omZl58K59rJ5"
      }
    },
    {
      "cell_type": "markdown",
      "source": [
        "# Sumbission Instructions"
      ],
      "metadata": {
        "id": "e4l0D8ph91pT"
      }
    },
    {
      "cell_type": "markdown",
      "source": [
        "\n",
        "\n",
        "To review your notebook / ensure it works as expected / prepare for evaluation:\n",
        "  1. Run it from scratch (\"Runtime\" > \"Restart and run all\"), provide any necessary user inputs, and verify you see the results you expect.\n",
        "\n",
        "\n",
        "When you're done coding and your notebook reflects your final work product, follow these steps to submit:\n",
        "\n",
        "  1. Download a copy of your notebook document in .ipynb format (\"File\" > \"Download\" > \"Download .ipynb\").\n",
        "  2. Upload the resulting .ipynb notebook file to Brightspace.\n",
        "  3. Also open up sharing on your notebook and submit a URL to your colab notebook via the deliverable submission form."
      ],
      "metadata": {
        "id": "fC0llbfG93pa"
      }
    },
    {
      "cell_type": "markdown",
      "metadata": {
        "id": "3GXGZ01eXGD0"
      },
      "source": [
        "# Evaluation\n",
        "\n",
        "Submissions will be evaluated according to their ability to meet all requirements (see sections below), as summarized by the following rubric:\n",
        "\n",
        "  + The **Function and Parameter Requirements** are worth 1 point. Only the code inside your function will be count for evaluation! Your function needs to produce all desired results. Remember to indent your code so it is within the scope of the function!\n",
        "\n",
        "  + The **Validation Requirements** are worth 1 point. Use error handling or conditional logic to avoid a red / crashed cell when the symbol is invalid.\n",
        "\n",
        "  + **Part I (Data Extraction)** is worth 1 point. The API Key will need to be handled securely, otherwise compromised keys will lead to security deductions (see `getpass` related setup cell).\n",
        "\n",
        "  + **Part II (Data Visualization)** is worth 1 point. For full points, make sure you produce a polished chart, with title and axis labels and prices formatted as USD. The further exploration challenges may earn bonus points.\n",
        "\n",
        "  + **Part III (Data Analysis)** is worth 1 point. For full points, make sure you answer all questions correctly. Each question is worth around the same weight. The last two \"further exploration\" questions are optional, and deliberately harder / more involved, and may earn bonus points.\n",
        "\n",
        "  + For any \"further exploration\" challenges tackled in Part II or Part III, those will be eligible to earn 1 point of bonus.\n",
        "\n",
        "\n"
      ]
    },
    {
      "cell_type": "markdown",
      "metadata": {
        "id": "9l-2yKihBm11"
      },
      "source": [
        "# Requirements\n",
        "\n"
      ]
    },
    {
      "cell_type": "markdown",
      "source": [
        "## Function and Parameter Requirements"
      ],
      "metadata": {
        "id": "Y1487VgLsEYG"
      }
    },
    {
      "cell_type": "markdown",
      "source": [
        "Define a function called `generate_stocks_report()`.\n",
        "\n",
        "The function should accept a stock symbol as a parameter input, called `symbol`, which is expected to be a string datatype. If the symbol parameter is not supplied by the user during function invokation, the function should use `\"NFLX\"` as the default `symbol`.\n",
        "\n",
        "Example valid invocations (all equivalent):\n",
        "  + `generate_stocks_report()` -- uses default value of \"NFLX\"\n",
        "  + `generate_stocks_report(\"NFLX\")`\n",
        "  + `generate_stocks_report(symbol=\"NFLX\")`\n",
        "\n",
        "\n"
      ],
      "metadata": {
        "id": "Hpqun_sCrCft"
      }
    },
    {
      "cell_type": "markdown",
      "source": [
        "## Validation Requirements"
      ],
      "metadata": {
        "id": "iFwmRIdx1Nuz"
      }
    },
    {
      "cell_type": "markdown",
      "source": [
        "If an invalid stock symbol is passed in, the report generation function should gracefully handle any errors and display only a friendly error message like \"OOPS, couldn't find that stock. Please check your symbol and try again.\"\n",
        "\n",
        "For the AlphaVantage API, the only valid inputs are ones that lead to successful responses. If the user tries to input a symbol that that doesn't lead to a successful corresponding API response, that symbol is considered invalid.\n",
        "\n",
        "> HINT: in either case, try wrapping your data extraction method around a `try... except` block (see [Error Handling notes](https://github.com/prof-rossetti/intro-to-python/blob/main/notes/python/errors.md)), and/or using conditional logic, to detect whether the extraction method has produced the data we need to move forward.\n",
        "\n",
        "In either case, the program should not try to process / analyze data that doesn't exist, and the program should avoid crashed / red cells."
      ],
      "metadata": {
        "id": "uHM7nMVn1MRY"
      }
    },
    {
      "cell_type": "markdown",
      "source": [
        "## Part I (Data Extraction)"
      ],
      "metadata": {
        "id": "gAn-noRWuwvN"
      }
    },
    {
      "cell_type": "markdown",
      "source": [
        "\n",
        "The program should fetch real-time stock market data from the Internet. In this case, the dashboard will be able to work with a broad range of stock symbols.\n",
        "Use the AlphaVantage API's [\"Daily Adjusted\" endpoint](https://www.alphavantage.co/documentation/#dailyadj) to fetch real-time stock market data from the Internet. This is a \"premium\" endpoint, so first obtain a premium API Key from the professor.\n",
        "\n",
        "> SECURITY NOTE: Remember to use `getpass` to securely ask for the user's API Key, to keep this credential secure and private. We shouldn't see it's value hard-coded or displayed / printed out anywhere. See the respective Setup Cell below, for an example of using `getpass`.\n",
        "\n",
        "> HINT: consult the docs for the \"Daily Adjusted\" endpoint to figure out how to request the data in CSV format instead of the default JSON format. The CSV format is much easier to work with!"
      ],
      "metadata": {
        "id": "ry2K6S4Pis67"
      }
    },
    {
      "cell_type": "markdown",
      "source": [
        "## Part II (Dataviz)"
      ],
      "metadata": {
        "id": "hblSKrSFr1Qp"
      }
    },
    {
      "cell_type": "markdown",
      "source": [
        "\n",
        "When invoked, the report generation function should also display a chart of the closing prices over time, including the following components:\n",
        "\n",
        "  1. **Chart Title**, which includes the selected stock symbol (i.e. `\"Daily Stock Prices (NFLX)\"`)\n",
        "  2. **Axis labels** (i.e. \"Closing Price\" and \"Date\" respectively).\n",
        "  3. **Prices formatted with a dollar signs**, wherever they appear (see axis ticks).\n",
        "\n",
        "\n",
        "Example:\n",
        "\n",
        "<img width=\"1266\" alt=\"Screen Shot 2021-10-21 at 10 08 39 AM\" src=\"https://user-images.githubusercontent.com/1328807/138295257-c285e730-721a-445f-868d-fab55588dab1.png\">\n",
        "\n",
        "> NOTE: It doesn't matter whether the chart is displayed before or after the stock details.\n",
        "\n",
        "> HINT: [plotly axis dollar-sign formatting](https://stackoverflow.com/a/58142945/670433)"
      ],
      "metadata": {
        "id": "GfiOnMsvr3ow"
      }
    },
    {
      "cell_type": "markdown",
      "source": [
        "**Further Exploration**\n",
        "\n",
        "In addition to the basic chart, consider also displaying a [candlestick chart](https://plotly.com/python/ohlc-charts/).\n",
        "\n",
        "If you do, consider displaying a 50-day moving average trend line as well. HINT: to add the trend line, you might need to plot two different graph objects (see [example](https://github.com/prof-rossetti/intro-to-python/blob/main/notes/python/packages/plotly.md#charting-multiple-graph-objects)).\n",
        "\n"
      ],
      "metadata": {
        "id": "-nqE2tQk3JB6"
      }
    },
    {
      "cell_type": "markdown",
      "source": [
        "## Part III (Data Analysis)"
      ],
      "metadata": {
        "id": "NyAiTk2htD_e"
      }
    },
    {
      "cell_type": "markdown",
      "source": [
        "**Basic Requirements**\n",
        "\n",
        "When invoked, the report generation function should reference the stock data obtained in Part I to display a report of details about the stock, including answers to the questions below.\n",
        "\n",
        "A) Print the **column names** / available fields (i.e. `['timestamp', 'open', 'high', 'low', 'close', 'adjusted_close', 'volume', 'dividend_amount', 'split_coefficient']`).\n",
        "\n",
        "B) Print the **number of rows** / available days (i.e. `100`).\n",
        "\n",
        "C) Print the **latest day** available (e.g. `2021-10-18`).\n",
        "\n",
        "D) Print the **earliest day** available (e.g.. `2021-05-27`).\n",
        "\n",
        "E) Print the (adjusted) **closing price on the latest day**, formatted as dollars and cents with a dollar sign and two decimal places (e.g. `$637.97`).\n",
        "\n",
        "F) Print the (adjusted) **closing price on the earliest day**, formatted as dollars and cents with a dollar sign and two decimal places (e.g. `$503.86`).\n",
        "\n",
        "G) Print the **100-day high price**, formatted as dollars and cents with a dollar sign and two decimal places (e.g. `$646.84`). NOTE: the 100-day high price is equal to the maximum of all the available high prices.\n",
        "\n",
        "\n",
        "H) Print the **100-day low price**, formatted as dollars and cents with a dollar sign and two decimal places (e.g. `$482.14`). NOTE: the 100-day low price is equal to the minimum of all the available low prices.\n",
        "\n",
        "**Further Exploration**\n",
        "\n",
        "I) Print the **percentage change** between the earliest closing price and the latest closing price, as identified in parts E and F, above, formatted with a percent sign and rounded to four decimal places (e.g. `26.6165%`). NOTE: percent change is defined as `(latest - earliest) / earliest`. HINT: leverage the `to_pct` function provided in the setup cell when printing the final percentage.\n",
        "\n",
        "J) Print the **50 day moving average price for the latest day** (e.g. something around `$581.32`, depending on your methodology). The 50-day moving average for each given day is calculated by averaging the closing prices of the previous 50 daily periods. HINT: create a separate column to store the 50-day moving average for each day, using the [`rolling` method](https://pandas.pydata.org/docs/reference/api/pandas.DataFrame.rolling.html) on the closing prices column, with a window of 50, and then taking the mean of those values.\n",
        "\n"
      ],
      "metadata": {
        "id": "MIxFLIyVsVuM"
      }
    },
    {
      "cell_type": "markdown",
      "metadata": {
        "id": "Nt4JHIjW5Sc7"
      },
      "source": [
        "# Setup"
      ]
    },
    {
      "cell_type": "code",
      "source": [
        "#\n",
        "# SETUP CELL (run and leave as-is)\n",
        "#\n",
        "\n",
        "from getpass import getpass\n",
        "\n",
        "API_KEY = getpass(\"Please input your AlphaVantage API Key: \")"
      ],
      "metadata": {
        "colab": {
          "base_uri": "https://localhost:8080/"
        },
        "id": "p8zJbagUpyJ-",
        "outputId": "19709d23-e3a0-43f8-e568-5342b1b64b12"
      },
      "execution_count": 5,
      "outputs": [
        {
          "name": "stdout",
          "output_type": "stream",
          "text": [
            "Please input your AlphaVantage API Key: ··········\n"
          ]
        }
      ]
    },
    {
      "cell_type": "code",
      "metadata": {
        "id": "IgN2IJaNaxaY"
      },
      "source": [
        "#\n",
        "# SETUP CELL (run and leave as-is, and feel free to use this function as needed later)\n",
        "#\n",
        "\n",
        "def to_usd(my_price):\n",
        "    \"\"\"\n",
        "    Converts a numeric value to usd-formatted string, for printing and display purposes.\n",
        "\n",
        "    Param: my_price (int or float) like 4000.444444\n",
        "\n",
        "    Example: to_usd(4000.444444)\n",
        "\n",
        "    Returns: $4,000.44\n",
        "    \"\"\"\n",
        "    return f\"${my_price:,.2f}\"\n",
        "\n",
        "\n",
        "# example invocations and unit tests:\n",
        "assert to_usd(4.5) == \"$4.50\"\n",
        "assert to_usd(200000.9999) == \"$200,001.00\""
      ],
      "execution_count": 6,
      "outputs": []
    },
    {
      "cell_type": "code",
      "metadata": {
        "id": "FzzR6Rw_KNA4"
      },
      "source": [
        "#\n",
        "# SETUP CELL (run and leave as-is, and feel free to use this function as needed later)\n",
        "#\n",
        "\n",
        "def to_pct(my_number):\n",
        "    \"\"\"\n",
        "    Formats a decimal number as a percentage, rounded to 4 decimal places, with a percent sign.\n",
        "\n",
        "    Param my_number (float) like 0.95555555555\n",
        "\n",
        "    Returns (str) like '95.5556%'\n",
        "    \"\"\"\n",
        "    return f\"{(my_number * 100):.2f}%\"\n",
        "\n",
        "\n",
        "# example invocations and unit tests:\n",
        "assert to_pct(0.5) == \"50.00%\"\n",
        "assert to_pct(.955555555) == \"95.56%\""
      ],
      "execution_count": 7,
      "outputs": []
    },
    {
      "cell_type": "markdown",
      "source": [
        "# Solution"
      ],
      "metadata": {
        "id": "pe3fw0QxxXx_"
      }
    },
    {
      "cell_type": "code",
      "source": [
        "#these are the individual steps (same as in stock report function below)\n",
        "#PART 1\n",
        "\n",
        "from pandas import read_csv #adding in the read csv function from pandas package\n",
        "# read the pandas docs to learn more\n",
        "\n",
        "symbol = \"NFLX\" # \"OOPS\"\n",
        "\n",
        "request_url = f\"https://www.alphavantage.co/query?function=TIME_SERIES_DAILY_ADJUSTED&symbol={symbol}&apikey={API_KEY}&datatype=csv\"\n",
        "#grab the API key from slack (its like inputting your password with the getpass function in the set up cell above ie ZA7MCBB2Y439DIXR)\n",
        "\n",
        "df = read_csv(request_url) #reading the csv from the internet\n",
        "\n",
        "if \"timestamp\" in df.columns:\n",
        "    #print(\"everything is fine\")\n",
        "    print(df.head())\n",
        "else:\n",
        "    print(\"OOPSIE! Couldn't find that stock. Please check your symbol and try again.\")"
      ],
      "metadata": {
        "colab": {
          "base_uri": "https://localhost:8080/"
        },
        "id": "p6BdQZs0VMRf",
        "outputId": "c7f577a3-7426-43c0-f20a-6eef632f5369"
      },
      "execution_count": 36,
      "outputs": [
        {
          "output_type": "stream",
          "name": "stdout",
          "text": [
            "    timestamp    open      high     low   close  adjusted_close    volume  \\\n",
            "0  2023-07-27  426.90  427.5200  411.88  413.17          413.17   6594466   \n",
            "1  2023-07-26  424.20  425.2600  415.59  422.67          422.67   6009242   \n",
            "2  2023-07-25  427.18  430.8799  426.13  427.70          427.70   4859843   \n",
            "3  2023-07-24  425.00  428.6400  419.19  428.37          428.37   8282434   \n",
            "4  2023-07-21  437.37  438.2400  423.19  427.50          427.50  17340028   \n",
            "\n",
            "   dividend_amount  split_coefficient  \n",
            "0              0.0                1.0  \n",
            "1              0.0                1.0  \n",
            "2              0.0                1.0  \n",
            "3              0.0                1.0  \n",
            "4              0.0                1.0  \n"
          ]
        }
      ]
    },
    {
      "cell_type": "code",
      "source": [
        "#PART 2\n",
        "\n",
        "import plotly.express as px #import function to plot\n",
        "\n",
        "#for closing prices over time, y variable is closing prices and x variable is dates\n",
        "fig = px.line(df, x=\"timestamp\", y=\"adjusted_close\",\n",
        "              labels = {\"timestamp\": \"Time\",\"adjusted_close\":\"Adjusted Close (USD)\"},\n",
        "              title=\"Daily Stock Prices\")\n",
        "\n",
        "#fig.show()\n",
        "fig.update_layout(yaxis_tickprefix = '$', yaxis_tickformat = ',.')\n"
      ],
      "metadata": {
        "colab": {
          "base_uri": "https://localhost:8080/",
          "height": 542
        },
        "id": "Rolg7nGqW-Bm",
        "outputId": "7931c8c7-d273-402b-c492-515d0c275539"
      },
      "execution_count": 37,
      "outputs": [
        {
          "output_type": "display_data",
          "data": {
            "text/html": [
              "<html>\n",
              "<head><meta charset=\"utf-8\" /></head>\n",
              "<body>\n",
              "    <div>            <script src=\"https://cdnjs.cloudflare.com/ajax/libs/mathjax/2.7.5/MathJax.js?config=TeX-AMS-MML_SVG\"></script><script type=\"text/javascript\">if (window.MathJax && window.MathJax.Hub && window.MathJax.Hub.Config) {window.MathJax.Hub.Config({SVG: {font: \"STIX-Web\"}});}</script>                <script type=\"text/javascript\">window.PlotlyConfig = {MathJaxConfig: 'local'};</script>\n",
              "        <script src=\"https://cdn.plot.ly/plotly-2.18.2.min.js\"></script>                <div id=\"a7689594-bc32-453f-a4f4-e2eda4979f90\" class=\"plotly-graph-div\" style=\"height:525px; width:100%;\"></div>            <script type=\"text/javascript\">                                    window.PLOTLYENV=window.PLOTLYENV || {};                                    if (document.getElementById(\"a7689594-bc32-453f-a4f4-e2eda4979f90\")) {                    Plotly.newPlot(                        \"a7689594-bc32-453f-a4f4-e2eda4979f90\",                        [{\"hovertemplate\":\"Time=%{x}<br>Adjusted Close (USD)=%{y}<extra></extra>\",\"legendgroup\":\"\",\"line\":{\"color\":\"#636efa\",\"dash\":\"solid\"},\"marker\":{\"symbol\":\"circle\"},\"mode\":\"lines\",\"name\":\"\",\"orientation\":\"v\",\"showlegend\":false,\"x\":[\"2023-07-27\",\"2023-07-26\",\"2023-07-25\",\"2023-07-24\",\"2023-07-21\",\"2023-07-20\",\"2023-07-19\",\"2023-07-18\",\"2023-07-17\",\"2023-07-14\",\"2023-07-13\",\"2023-07-12\",\"2023-07-11\",\"2023-07-10\",\"2023-07-07\",\"2023-07-06\",\"2023-07-05\",\"2023-07-03\",\"2023-06-30\",\"2023-06-29\",\"2023-06-28\",\"2023-06-27\",\"2023-06-26\",\"2023-06-23\",\"2023-06-22\",\"2023-06-21\",\"2023-06-20\",\"2023-06-16\",\"2023-06-15\",\"2023-06-14\",\"2023-06-13\",\"2023-06-12\",\"2023-06-09\",\"2023-06-08\",\"2023-06-07\",\"2023-06-06\",\"2023-06-05\",\"2023-06-02\",\"2023-06-01\",\"2023-05-31\",\"2023-05-30\",\"2023-05-26\",\"2023-05-25\",\"2023-05-24\",\"2023-05-23\",\"2023-05-22\",\"2023-05-19\",\"2023-05-18\",\"2023-05-17\",\"2023-05-16\",\"2023-05-15\",\"2023-05-12\",\"2023-05-11\",\"2023-05-10\",\"2023-05-09\",\"2023-05-08\",\"2023-05-05\",\"2023-05-04\",\"2023-05-03\",\"2023-05-02\",\"2023-05-01\",\"2023-04-28\",\"2023-04-27\",\"2023-04-26\",\"2023-04-25\",\"2023-04-24\",\"2023-04-21\",\"2023-04-20\",\"2023-04-19\",\"2023-04-18\",\"2023-04-17\",\"2023-04-14\",\"2023-04-13\",\"2023-04-12\",\"2023-04-11\",\"2023-04-10\",\"2023-04-06\",\"2023-04-05\",\"2023-04-04\",\"2023-04-03\",\"2023-03-31\",\"2023-03-30\",\"2023-03-29\",\"2023-03-28\",\"2023-03-27\",\"2023-03-24\",\"2023-03-23\",\"2023-03-22\",\"2023-03-21\",\"2023-03-20\",\"2023-03-17\",\"2023-03-16\",\"2023-03-15\",\"2023-03-14\",\"2023-03-13\",\"2023-03-10\",\"2023-03-09\",\"2023-03-08\",\"2023-03-07\",\"2023-03-06\"],\"xaxis\":\"x\",\"y\":[413.17,422.67,427.7,428.37,427.5,437.42,477.59,474.8,450.05,441.91,450.38,444.05,440.21,441.71,438.1,438.84,445.9,441.44,440.49,428.24,429.84,417.08,415.94,424.02,422.48,424.45,434.7,431.96,445.27,440.86,435.73,423.97,420.02,409.37,399.77,399.29,403.54,400.47,403.13,395.23,392.98,378.88,359.0,364.85,355.99,363.01,365.36,371.29,339.96,333.75,335.89,339.89,344.76,335.42,332.14,331.21,322.76,320.78,319.3,317.55,324.12,329.93,325.85,321.15,322.55,329.02,327.98,325.35,323.12,333.7,332.72,338.63,346.19,331.03,338.21,338.99,339.33,342.35,346.75,348.28,345.48,338.43,332.03,323.52,327.66,328.39,320.37,293.9,305.79,305.13,303.5,310.06,303.79,294.94,293.51,292.76,297.78,311.79,308.47,312.03],\"yaxis\":\"y\",\"type\":\"scatter\"}],                        {\"template\":{\"data\":{\"histogram2dcontour\":[{\"type\":\"histogram2dcontour\",\"colorbar\":{\"outlinewidth\":0,\"ticks\":\"\"},\"colorscale\":[[0.0,\"#0d0887\"],[0.1111111111111111,\"#46039f\"],[0.2222222222222222,\"#7201a8\"],[0.3333333333333333,\"#9c179e\"],[0.4444444444444444,\"#bd3786\"],[0.5555555555555556,\"#d8576b\"],[0.6666666666666666,\"#ed7953\"],[0.7777777777777778,\"#fb9f3a\"],[0.8888888888888888,\"#fdca26\"],[1.0,\"#f0f921\"]]}],\"choropleth\":[{\"type\":\"choropleth\",\"colorbar\":{\"outlinewidth\":0,\"ticks\":\"\"}}],\"histogram2d\":[{\"type\":\"histogram2d\",\"colorbar\":{\"outlinewidth\":0,\"ticks\":\"\"},\"colorscale\":[[0.0,\"#0d0887\"],[0.1111111111111111,\"#46039f\"],[0.2222222222222222,\"#7201a8\"],[0.3333333333333333,\"#9c179e\"],[0.4444444444444444,\"#bd3786\"],[0.5555555555555556,\"#d8576b\"],[0.6666666666666666,\"#ed7953\"],[0.7777777777777778,\"#fb9f3a\"],[0.8888888888888888,\"#fdca26\"],[1.0,\"#f0f921\"]]}],\"heatmap\":[{\"type\":\"heatmap\",\"colorbar\":{\"outlinewidth\":0,\"ticks\":\"\"},\"colorscale\":[[0.0,\"#0d0887\"],[0.1111111111111111,\"#46039f\"],[0.2222222222222222,\"#7201a8\"],[0.3333333333333333,\"#9c179e\"],[0.4444444444444444,\"#bd3786\"],[0.5555555555555556,\"#d8576b\"],[0.6666666666666666,\"#ed7953\"],[0.7777777777777778,\"#fb9f3a\"],[0.8888888888888888,\"#fdca26\"],[1.0,\"#f0f921\"]]}],\"heatmapgl\":[{\"type\":\"heatmapgl\",\"colorbar\":{\"outlinewidth\":0,\"ticks\":\"\"},\"colorscale\":[[0.0,\"#0d0887\"],[0.1111111111111111,\"#46039f\"],[0.2222222222222222,\"#7201a8\"],[0.3333333333333333,\"#9c179e\"],[0.4444444444444444,\"#bd3786\"],[0.5555555555555556,\"#d8576b\"],[0.6666666666666666,\"#ed7953\"],[0.7777777777777778,\"#fb9f3a\"],[0.8888888888888888,\"#fdca26\"],[1.0,\"#f0f921\"]]}],\"contourcarpet\":[{\"type\":\"contourcarpet\",\"colorbar\":{\"outlinewidth\":0,\"ticks\":\"\"}}],\"contour\":[{\"type\":\"contour\",\"colorbar\":{\"outlinewidth\":0,\"ticks\":\"\"},\"colorscale\":[[0.0,\"#0d0887\"],[0.1111111111111111,\"#46039f\"],[0.2222222222222222,\"#7201a8\"],[0.3333333333333333,\"#9c179e\"],[0.4444444444444444,\"#bd3786\"],[0.5555555555555556,\"#d8576b\"],[0.6666666666666666,\"#ed7953\"],[0.7777777777777778,\"#fb9f3a\"],[0.8888888888888888,\"#fdca26\"],[1.0,\"#f0f921\"]]}],\"surface\":[{\"type\":\"surface\",\"colorbar\":{\"outlinewidth\":0,\"ticks\":\"\"},\"colorscale\":[[0.0,\"#0d0887\"],[0.1111111111111111,\"#46039f\"],[0.2222222222222222,\"#7201a8\"],[0.3333333333333333,\"#9c179e\"],[0.4444444444444444,\"#bd3786\"],[0.5555555555555556,\"#d8576b\"],[0.6666666666666666,\"#ed7953\"],[0.7777777777777778,\"#fb9f3a\"],[0.8888888888888888,\"#fdca26\"],[1.0,\"#f0f921\"]]}],\"mesh3d\":[{\"type\":\"mesh3d\",\"colorbar\":{\"outlinewidth\":0,\"ticks\":\"\"}}],\"scatter\":[{\"fillpattern\":{\"fillmode\":\"overlay\",\"size\":10,\"solidity\":0.2},\"type\":\"scatter\"}],\"parcoords\":[{\"type\":\"parcoords\",\"line\":{\"colorbar\":{\"outlinewidth\":0,\"ticks\":\"\"}}}],\"scatterpolargl\":[{\"type\":\"scatterpolargl\",\"marker\":{\"colorbar\":{\"outlinewidth\":0,\"ticks\":\"\"}}}],\"bar\":[{\"error_x\":{\"color\":\"#2a3f5f\"},\"error_y\":{\"color\":\"#2a3f5f\"},\"marker\":{\"line\":{\"color\":\"#E5ECF6\",\"width\":0.5},\"pattern\":{\"fillmode\":\"overlay\",\"size\":10,\"solidity\":0.2}},\"type\":\"bar\"}],\"scattergeo\":[{\"type\":\"scattergeo\",\"marker\":{\"colorbar\":{\"outlinewidth\":0,\"ticks\":\"\"}}}],\"scatterpolar\":[{\"type\":\"scatterpolar\",\"marker\":{\"colorbar\":{\"outlinewidth\":0,\"ticks\":\"\"}}}],\"histogram\":[{\"marker\":{\"pattern\":{\"fillmode\":\"overlay\",\"size\":10,\"solidity\":0.2}},\"type\":\"histogram\"}],\"scattergl\":[{\"type\":\"scattergl\",\"marker\":{\"colorbar\":{\"outlinewidth\":0,\"ticks\":\"\"}}}],\"scatter3d\":[{\"type\":\"scatter3d\",\"line\":{\"colorbar\":{\"outlinewidth\":0,\"ticks\":\"\"}},\"marker\":{\"colorbar\":{\"outlinewidth\":0,\"ticks\":\"\"}}}],\"scattermapbox\":[{\"type\":\"scattermapbox\",\"marker\":{\"colorbar\":{\"outlinewidth\":0,\"ticks\":\"\"}}}],\"scatterternary\":[{\"type\":\"scatterternary\",\"marker\":{\"colorbar\":{\"outlinewidth\":0,\"ticks\":\"\"}}}],\"scattercarpet\":[{\"type\":\"scattercarpet\",\"marker\":{\"colorbar\":{\"outlinewidth\":0,\"ticks\":\"\"}}}],\"carpet\":[{\"aaxis\":{\"endlinecolor\":\"#2a3f5f\",\"gridcolor\":\"white\",\"linecolor\":\"white\",\"minorgridcolor\":\"white\",\"startlinecolor\":\"#2a3f5f\"},\"baxis\":{\"endlinecolor\":\"#2a3f5f\",\"gridcolor\":\"white\",\"linecolor\":\"white\",\"minorgridcolor\":\"white\",\"startlinecolor\":\"#2a3f5f\"},\"type\":\"carpet\"}],\"table\":[{\"cells\":{\"fill\":{\"color\":\"#EBF0F8\"},\"line\":{\"color\":\"white\"}},\"header\":{\"fill\":{\"color\":\"#C8D4E3\"},\"line\":{\"color\":\"white\"}},\"type\":\"table\"}],\"barpolar\":[{\"marker\":{\"line\":{\"color\":\"#E5ECF6\",\"width\":0.5},\"pattern\":{\"fillmode\":\"overlay\",\"size\":10,\"solidity\":0.2}},\"type\":\"barpolar\"}],\"pie\":[{\"automargin\":true,\"type\":\"pie\"}]},\"layout\":{\"autotypenumbers\":\"strict\",\"colorway\":[\"#636efa\",\"#EF553B\",\"#00cc96\",\"#ab63fa\",\"#FFA15A\",\"#19d3f3\",\"#FF6692\",\"#B6E880\",\"#FF97FF\",\"#FECB52\"],\"font\":{\"color\":\"#2a3f5f\"},\"hovermode\":\"closest\",\"hoverlabel\":{\"align\":\"left\"},\"paper_bgcolor\":\"white\",\"plot_bgcolor\":\"#E5ECF6\",\"polar\":{\"bgcolor\":\"#E5ECF6\",\"angularaxis\":{\"gridcolor\":\"white\",\"linecolor\":\"white\",\"ticks\":\"\"},\"radialaxis\":{\"gridcolor\":\"white\",\"linecolor\":\"white\",\"ticks\":\"\"}},\"ternary\":{\"bgcolor\":\"#E5ECF6\",\"aaxis\":{\"gridcolor\":\"white\",\"linecolor\":\"white\",\"ticks\":\"\"},\"baxis\":{\"gridcolor\":\"white\",\"linecolor\":\"white\",\"ticks\":\"\"},\"caxis\":{\"gridcolor\":\"white\",\"linecolor\":\"white\",\"ticks\":\"\"}},\"coloraxis\":{\"colorbar\":{\"outlinewidth\":0,\"ticks\":\"\"}},\"colorscale\":{\"sequential\":[[0.0,\"#0d0887\"],[0.1111111111111111,\"#46039f\"],[0.2222222222222222,\"#7201a8\"],[0.3333333333333333,\"#9c179e\"],[0.4444444444444444,\"#bd3786\"],[0.5555555555555556,\"#d8576b\"],[0.6666666666666666,\"#ed7953\"],[0.7777777777777778,\"#fb9f3a\"],[0.8888888888888888,\"#fdca26\"],[1.0,\"#f0f921\"]],\"sequentialminus\":[[0.0,\"#0d0887\"],[0.1111111111111111,\"#46039f\"],[0.2222222222222222,\"#7201a8\"],[0.3333333333333333,\"#9c179e\"],[0.4444444444444444,\"#bd3786\"],[0.5555555555555556,\"#d8576b\"],[0.6666666666666666,\"#ed7953\"],[0.7777777777777778,\"#fb9f3a\"],[0.8888888888888888,\"#fdca26\"],[1.0,\"#f0f921\"]],\"diverging\":[[0,\"#8e0152\"],[0.1,\"#c51b7d\"],[0.2,\"#de77ae\"],[0.3,\"#f1b6da\"],[0.4,\"#fde0ef\"],[0.5,\"#f7f7f7\"],[0.6,\"#e6f5d0\"],[0.7,\"#b8e186\"],[0.8,\"#7fbc41\"],[0.9,\"#4d9221\"],[1,\"#276419\"]]},\"xaxis\":{\"gridcolor\":\"white\",\"linecolor\":\"white\",\"ticks\":\"\",\"title\":{\"standoff\":15},\"zerolinecolor\":\"white\",\"automargin\":true,\"zerolinewidth\":2},\"yaxis\":{\"gridcolor\":\"white\",\"linecolor\":\"white\",\"ticks\":\"\",\"title\":{\"standoff\":15},\"zerolinecolor\":\"white\",\"automargin\":true,\"zerolinewidth\":2},\"scene\":{\"xaxis\":{\"backgroundcolor\":\"#E5ECF6\",\"gridcolor\":\"white\",\"linecolor\":\"white\",\"showbackground\":true,\"ticks\":\"\",\"zerolinecolor\":\"white\",\"gridwidth\":2},\"yaxis\":{\"backgroundcolor\":\"#E5ECF6\",\"gridcolor\":\"white\",\"linecolor\":\"white\",\"showbackground\":true,\"ticks\":\"\",\"zerolinecolor\":\"white\",\"gridwidth\":2},\"zaxis\":{\"backgroundcolor\":\"#E5ECF6\",\"gridcolor\":\"white\",\"linecolor\":\"white\",\"showbackground\":true,\"ticks\":\"\",\"zerolinecolor\":\"white\",\"gridwidth\":2}},\"shapedefaults\":{\"line\":{\"color\":\"#2a3f5f\"}},\"annotationdefaults\":{\"arrowcolor\":\"#2a3f5f\",\"arrowhead\":0,\"arrowwidth\":1},\"geo\":{\"bgcolor\":\"white\",\"landcolor\":\"#E5ECF6\",\"subunitcolor\":\"white\",\"showland\":true,\"showlakes\":true,\"lakecolor\":\"white\"},\"title\":{\"x\":0.05},\"mapbox\":{\"style\":\"light\"}}},\"xaxis\":{\"anchor\":\"y\",\"domain\":[0.0,1.0],\"title\":{\"text\":\"Time\"}},\"yaxis\":{\"anchor\":\"x\",\"domain\":[0.0,1.0],\"title\":{\"text\":\"Adjusted Close (USD)\"},\"tickprefix\":\"$\",\"tickformat\":\",.\"},\"legend\":{\"tracegroupgap\":0},\"title\":{\"text\":\"Daily Stock Prices\"}},                        {\"responsive\": true}                    ).then(function(){\n",
              "                            \n",
              "var gd = document.getElementById('a7689594-bc32-453f-a4f4-e2eda4979f90');\n",
              "var x = new MutationObserver(function (mutations, observer) {{\n",
              "        var display = window.getComputedStyle(gd).display;\n",
              "        if (!display || display === 'none') {{\n",
              "            console.log([gd, 'removed!']);\n",
              "            Plotly.purge(gd);\n",
              "            observer.disconnect();\n",
              "        }}\n",
              "}});\n",
              "\n",
              "// Listen for the removal of the full notebook cells\n",
              "var notebookContainer = gd.closest('#notebook-container');\n",
              "if (notebookContainer) {{\n",
              "    x.observe(notebookContainer, {childList: true});\n",
              "}}\n",
              "\n",
              "// Listen for the clearing of the current output cell\n",
              "var outputEl = gd.closest('.output');\n",
              "if (outputEl) {{\n",
              "    x.observe(outputEl, {childList: true});\n",
              "}}\n",
              "\n",
              "                        })                };                            </script>        </div>\n",
              "</body>\n",
              "</html>"
            ]
          },
          "metadata": {}
        }
      ]
    },
    {
      "cell_type": "code",
      "source": [
        "#PART 3\n",
        "#A) Print the column names / available fields (i.e. ['timestamp', 'open', 'high', 'low', 'close', 'adjusted_close', 'volume', 'dividend_amount', 'split_coefficient']).\n",
        "\n",
        "print(\"Available Fields:\")\n",
        "df.columns"
      ],
      "metadata": {
        "colab": {
          "base_uri": "https://localhost:8080/"
        },
        "id": "V-d9W6F3W9yw",
        "outputId": "aa693a79-c5a4-487a-c410-f72874879115"
      },
      "execution_count": 61,
      "outputs": [
        {
          "output_type": "stream",
          "name": "stdout",
          "text": [
            "Available Fields:\n"
          ]
        },
        {
          "output_type": "execute_result",
          "data": {
            "text/plain": [
              "Index(['timestamp', 'open', 'high', 'low', 'close', 'adjusted_close', 'volume',\n",
              "       'dividend_amount', 'split_coefficient'],\n",
              "      dtype='object')"
            ]
          },
          "metadata": {},
          "execution_count": 61
        }
      ]
    },
    {
      "cell_type": "code",
      "source": [
        "#B) Print the number of rows / available days (i.e. 100).\n",
        "\n",
        "print(\"Available Days:\")\n",
        "len(df)"
      ],
      "metadata": {
        "colab": {
          "base_uri": "https://localhost:8080/"
        },
        "id": "_BnShSu9XQGh",
        "outputId": "f0f8a59e-7ee9-4d7e-b020-f9b87bda3745"
      },
      "execution_count": 62,
      "outputs": [
        {
          "output_type": "stream",
          "name": "stdout",
          "text": [
            "Available Days:\n"
          ]
        },
        {
          "output_type": "execute_result",
          "data": {
            "text/plain": [
              "100"
            ]
          },
          "metadata": {},
          "execution_count": 62
        }
      ]
    },
    {
      "cell_type": "code",
      "source": [
        "#C) Print the latest day available (e.g. 2021-10-18).\n",
        "\n",
        "#row-centric approach - can use a column centric approach as well, listed in scratch work\n",
        "\n",
        "first_row = df.iloc[0]\n",
        "#print(type(first_row))\n",
        "\n",
        "print(\"Latest Day Available:\")\n",
        "first_row[\"timestamp\"]\n",
        "\n",
        "#alternative method to above\n",
        "#df.iloc[0][\"timestamp\"]"
      ],
      "metadata": {
        "colab": {
          "base_uri": "https://localhost:8080/",
          "height": 35
        },
        "id": "UmLPQav3Zs1z",
        "outputId": "ca251802-9490-4ddf-f5ce-f835ce233572"
      },
      "execution_count": 40,
      "outputs": [
        {
          "output_type": "execute_result",
          "data": {
            "text/plain": [
              "'2023-07-27'"
            ],
            "application/vnd.google.colaboratory.intrinsic+json": {
              "type": "string"
            }
          },
          "metadata": {},
          "execution_count": 40
        }
      ]
    },
    {
      "cell_type": "code",
      "source": [
        "#D) Print the earliest day available (e.g.. 2021-05-27).\n",
        "\n",
        "last_row = df.iloc[-1]\n",
        "\n",
        "print(\"Earliest Day Available:\")\n",
        "last_row[\"timestamp\"]\n",
        "#alternative to above\n",
        "#df.iloc[-1][\"timestamp\"]"
      ],
      "metadata": {
        "colab": {
          "base_uri": "https://localhost:8080/",
          "height": 35
        },
        "id": "QAWSWxCEZsqp",
        "outputId": "9bc03274-27b7-4573-db00-82e997668897"
      },
      "execution_count": 41,
      "outputs": [
        {
          "output_type": "execute_result",
          "data": {
            "text/plain": [
              "'2023-03-06'"
            ],
            "application/vnd.google.colaboratory.intrinsic+json": {
              "type": "string"
            }
          },
          "metadata": {},
          "execution_count": 41
        }
      ]
    },
    {
      "cell_type": "code",
      "source": [
        "#E) Print the (adjusted) closing price on the latest day\n",
        "#formatted as dollars and cents with a dollar sign and two decimal places (e.g. $637.97).\n",
        "#from contextlib import closing\n",
        "\n",
        "print(\"Latest Day Closing Price:\")\n",
        "closing_prices = df[\"adjusted_close\"]\n",
        "to_usd(closing_prices[0]) #to_usd function is from set up cell earlier and needs to be ran before this cell"
      ],
      "metadata": {
        "colab": {
          "base_uri": "https://localhost:8080/",
          "height": 35
        },
        "id": "iSt98zmPZsh6",
        "outputId": "ff8e666d-d0cf-4557-ae4c-d49fa9684497"
      },
      "execution_count": 42,
      "outputs": [
        {
          "output_type": "execute_result",
          "data": {
            "text/plain": [
              "'$413.17'"
            ],
            "application/vnd.google.colaboratory.intrinsic+json": {
              "type": "string"
            }
          },
          "metadata": {},
          "execution_count": 42
        }
      ]
    },
    {
      "cell_type": "code",
      "source": [
        "#F) Print the (adjusted) closing price on the earliest day, formatted as dollars and cents with a dollar sign and two decimal places (e.g. $503.86).\n",
        "\n",
        "print(\"Earliest Day Closing Price:\")\n",
        "df.iloc[-1][\"adjusted_close\"]\n",
        "to_usd(df.iloc[-1][\"adjusted_close\"]) #to_usd function is from set up cell earlier and needs to be ran before this cell"
      ],
      "metadata": {
        "colab": {
          "base_uri": "https://localhost:8080/",
          "height": 35
        },
        "id": "2Z1jjbU6ZsYr",
        "outputId": "b465c5c4-259e-4cab-f04b-fdd1a561bd86"
      },
      "execution_count": 43,
      "outputs": [
        {
          "output_type": "execute_result",
          "data": {
            "text/plain": [
              "'$312.03'"
            ],
            "application/vnd.google.colaboratory.intrinsic+json": {
              "type": "string"
            }
          },
          "metadata": {},
          "execution_count": 43
        }
      ]
    },
    {
      "cell_type": "code",
      "source": [
        "#G) Print the 100-day high price, formatted as dollars and cents with a dollar sign and two decimal places (e.g. $646.84). NOTE: the 100-day high price is equal to the maximum of all the available high prices.\n",
        "\n",
        "#you could sort this, but easier would be to take the max which is available through panda series\n",
        "print(\"100 Day High Price:\")\n",
        "to_usd(df['high'].max())"
      ],
      "metadata": {
        "colab": {
          "base_uri": "https://localhost:8080/",
          "height": 35
        },
        "id": "lj3d97SFZsOi",
        "outputId": "c16228be-02e4-4d2a-9c53-e8e3b2d61038"
      },
      "execution_count": 44,
      "outputs": [
        {
          "output_type": "execute_result",
          "data": {
            "text/plain": [
              "'$485.00'"
            ],
            "application/vnd.google.colaboratory.intrinsic+json": {
              "type": "string"
            }
          },
          "metadata": {},
          "execution_count": 44
        }
      ]
    },
    {
      "cell_type": "code",
      "source": [
        "#H) Print the 100-day low price, formatted as dollars and cents with a dollar sign and two decimal places (e.g. $482.14). NOTE: the 100-day low price is equal to the minimum of all the available low prices.\n",
        "\n",
        "print(\"100 Day Low Price:\")\n",
        "to_usd(df['low'].min()) #more convenient to just invoke .min instead of min()\n",
        "\n",
        "#alternative\n",
        "#to_usd(min(df['low']))"
      ],
      "metadata": {
        "colab": {
          "base_uri": "https://localhost:8080/",
          "height": 35
        },
        "id": "_48vdSo0ZsCz",
        "outputId": "7c6e256e-e5e8-4333-c340-91ad96a0531c"
      },
      "execution_count": 45,
      "outputs": [
        {
          "output_type": "execute_result",
          "data": {
            "text/plain": [
              "'$285.33'"
            ],
            "application/vnd.google.colaboratory.intrinsic+json": {
              "type": "string"
            }
          },
          "metadata": {},
          "execution_count": 45
        }
      ]
    },
    {
      "cell_type": "code",
      "source": [],
      "metadata": {
        "id": "n4N6D13cXQAp"
      },
      "execution_count": 33,
      "outputs": []
    },
    {
      "cell_type": "markdown",
      "metadata": {
        "id": "b7MgzGtogBMq"
      },
      "source": [
        "## Stocks Data Dashboard\n",
        "\n",
        "If your function works, we should be able to use it within the context of the dashboard below:\n",
        "\n",
        " 1. Use the dropdown to select a stock symbol.\n",
        " 2. Run the cell to generate a report and chart chart of prices over time."
      ]
    },
    {
      "cell_type": "code",
      "metadata": {
        "id": "tQ9-AlkkQJ8F"
      },
      "source": [
        "# @title Stock Selection Form\n",
        "selected_symbol = \"NFLX\" # @param ['MSFT', 'GOOGL', 'AAPL', 'NFLX', \"SBUX\", \"TSLA\", \"DIS\", \"NVDA\"]\n",
        "#generate_stocks_report(selected_symbol)"
      ],
      "execution_count": 11,
      "outputs": []
    },
    {
      "cell_type": "markdown",
      "metadata": {
        "id": "0YvtE8jBLUnQ"
      },
      "source": [
        "## Report Generation Function\n"
      ]
    },
    {
      "cell_type": "code",
      "source": [
        "#GENERATE STOCK REPORT FUNCTION\n",
        "#(this is the stock report function, above I have each piece of the\n",
        "# assignment step by step if you needed to grade it individually)\n",
        "\n",
        "from pandas import read_csv #adding in the read csv function from pandas package\n",
        "# read the pandas docs to learn more\n",
        "\n",
        "selected_symbol = \"NFLX\" # @param ['MSFT', 'GOOGL', 'AAPL', 'NFLX', \"SBUX\", \"TSLA\", \"DIS\", \"NVDA\"]\n",
        "\n",
        "\n",
        "def stock_report(selected_symbol):\n",
        "\n",
        "    request_url = f\"https://www.alphavantage.co/query?function=TIME_SERIES_DAILY_ADJUSTED&symbol={selected_symbol}&apikey={API_KEY}&datatype=csv\"\n",
        "    #grab the API key from slack (its like inputting your password with the getpass function in the set up cell above ie ZA7MCBB2Y439DIXR)\n",
        "\n",
        "    df = read_csv(request_url) #reading the csv from the internet\n",
        "\n",
        "    import plotly.express as px #import function to plot\n",
        "\n",
        "    plot_title = \"Daily Stock Prices For {}\".format(selected_symbol)\n",
        "\n",
        "    #for closing prices over time, y variable is closing prices and x variable is dates\n",
        "    fig = px.line(df, x=\"timestamp\", y=\"adjusted_close\",\n",
        "                labels = {\"timestamp\": \"Time\",\"adjusted_close\":\"Adjusted Close (USD)\"},\n",
        "                title=plot_title)\n",
        "\n",
        "    fig.update_layout(yaxis_tickprefix = '$', yaxis_tickformat = ',.')\n",
        "    fig.show()\n",
        "\n",
        "    #generate_stocks_report(selected_symbol)\n",
        "    print(\"Stock Report For\", selected_symbol)\n",
        "\n",
        "    #part A\n",
        "    print(\"Available Fields:\")\n",
        "    print(df.columns)\n",
        "\n",
        "    #part B\n",
        "    print(\"Available Days:\")\n",
        "    print(len(df))\n",
        "\n",
        "    #part C\n",
        "    first_row = df.iloc[0]\n",
        "    #print(type(first_row))\n",
        "\n",
        "    print(\"Latest Day Available:\")\n",
        "    print(first_row[\"timestamp\"])\n",
        "\n",
        "    #part D\n",
        "    last_row = df.iloc[-1]\n",
        "\n",
        "    print(\"Earliest Day Available:\")\n",
        "    print(last_row[\"timestamp\"])\n",
        "\n",
        "    #part E\n",
        "    print(\"Latest Day Closing Price:\")\n",
        "    closing_prices = df[\"adjusted_close\"]\n",
        "    print(to_usd(closing_prices[0])) #to_usd function is from set up cell earlier and needs to be ran before this cell\n",
        "\n",
        "    #part F\n",
        "    print(\"Earliest Day Closing Price:\")\n",
        "    df.iloc[-1][\"adjusted_close\"]\n",
        "    print(to_usd(df.iloc[-1][\"adjusted_close\"]))\n",
        "\n",
        "    #part G\n",
        "    print(\"100 Day High Price:\")\n",
        "    print(to_usd(df['high'].max()))\n",
        "\n",
        "    #part H\n",
        "    print(\"100 Day Low Price:\")\n",
        "    print(to_usd(df['low'].min()))\n",
        "\n",
        "    print(\"END OF REPORT\")\n",
        "\n",
        "\n",
        "stock_report(selected_symbol)\n",
        "\n"
      ],
      "metadata": {
        "colab": {
          "base_uri": "https://localhost:8080/",
          "height": 899
        },
        "id": "miA9cc1-xTpq",
        "outputId": "8cb7486d-38f8-4084-ea9d-27a454c6181a"
      },
      "execution_count": 10,
      "outputs": [
        {
          "output_type": "display_data",
          "data": {
            "text/html": [
              "<html>\n",
              "<head><meta charset=\"utf-8\" /></head>\n",
              "<body>\n",
              "    <div>            <script src=\"https://cdnjs.cloudflare.com/ajax/libs/mathjax/2.7.5/MathJax.js?config=TeX-AMS-MML_SVG\"></script><script type=\"text/javascript\">if (window.MathJax && window.MathJax.Hub && window.MathJax.Hub.Config) {window.MathJax.Hub.Config({SVG: {font: \"STIX-Web\"}});}</script>                <script type=\"text/javascript\">window.PlotlyConfig = {MathJaxConfig: 'local'};</script>\n",
              "        <script src=\"https://cdn.plot.ly/plotly-2.18.2.min.js\"></script>                <div id=\"2037f2ce-af81-4e4b-a108-2da45c980d58\" class=\"plotly-graph-div\" style=\"height:525px; width:100%;\"></div>            <script type=\"text/javascript\">                                    window.PLOTLYENV=window.PLOTLYENV || {};                                    if (document.getElementById(\"2037f2ce-af81-4e4b-a108-2da45c980d58\")) {                    Plotly.newPlot(                        \"2037f2ce-af81-4e4b-a108-2da45c980d58\",                        [{\"hovertemplate\":\"Time=%{x}<br>Adjusted Close (USD)=%{y}<extra></extra>\",\"legendgroup\":\"\",\"line\":{\"color\":\"#636efa\",\"dash\":\"solid\"},\"marker\":{\"symbol\":\"circle\"},\"mode\":\"lines\",\"name\":\"\",\"orientation\":\"v\",\"showlegend\":false,\"x\":[\"2023-07-31\",\"2023-07-28\",\"2023-07-27\",\"2023-07-26\",\"2023-07-25\",\"2023-07-24\",\"2023-07-21\",\"2023-07-20\",\"2023-07-19\",\"2023-07-18\",\"2023-07-17\",\"2023-07-14\",\"2023-07-13\",\"2023-07-12\",\"2023-07-11\",\"2023-07-10\",\"2023-07-07\",\"2023-07-06\",\"2023-07-05\",\"2023-07-03\",\"2023-06-30\",\"2023-06-29\",\"2023-06-28\",\"2023-06-27\",\"2023-06-26\",\"2023-06-23\",\"2023-06-22\",\"2023-06-21\",\"2023-06-20\",\"2023-06-16\",\"2023-06-15\",\"2023-06-14\",\"2023-06-13\",\"2023-06-12\",\"2023-06-09\",\"2023-06-08\",\"2023-06-07\",\"2023-06-06\",\"2023-06-05\",\"2023-06-02\",\"2023-06-01\",\"2023-05-31\",\"2023-05-30\",\"2023-05-26\",\"2023-05-25\",\"2023-05-24\",\"2023-05-23\",\"2023-05-22\",\"2023-05-19\",\"2023-05-18\",\"2023-05-17\",\"2023-05-16\",\"2023-05-15\",\"2023-05-12\",\"2023-05-11\",\"2023-05-10\",\"2023-05-09\",\"2023-05-08\",\"2023-05-05\",\"2023-05-04\",\"2023-05-03\",\"2023-05-02\",\"2023-05-01\",\"2023-04-28\",\"2023-04-27\",\"2023-04-26\",\"2023-04-25\",\"2023-04-24\",\"2023-04-21\",\"2023-04-20\",\"2023-04-19\",\"2023-04-18\",\"2023-04-17\",\"2023-04-14\",\"2023-04-13\",\"2023-04-12\",\"2023-04-11\",\"2023-04-10\",\"2023-04-06\",\"2023-04-05\",\"2023-04-04\",\"2023-04-03\",\"2023-03-31\",\"2023-03-30\",\"2023-03-29\",\"2023-03-28\",\"2023-03-27\",\"2023-03-24\",\"2023-03-23\",\"2023-03-22\",\"2023-03-21\",\"2023-03-20\",\"2023-03-17\",\"2023-03-16\",\"2023-03-15\",\"2023-03-14\",\"2023-03-13\",\"2023-03-10\",\"2023-03-09\",\"2023-03-08\"],\"xaxis\":\"x\",\"y\":[438.97,425.78,413.17,422.67,427.7,428.37,427.5,437.42,477.59,474.8,450.05,441.91,450.38,444.05,440.21,441.71,438.1,438.84,445.9,441.44,440.49,428.24,429.84,417.08,415.94,424.02,422.48,424.45,434.7,431.96,445.27,440.86,435.73,423.97,420.02,409.37,399.77,399.29,403.54,400.47,403.13,395.23,392.98,378.88,359.0,364.85,355.99,363.01,365.36,371.29,339.96,333.75,335.89,339.89,344.76,335.42,332.14,331.21,322.76,320.78,319.3,317.55,324.12,329.93,325.85,321.15,322.55,329.02,327.98,325.35,323.12,333.7,332.72,338.63,346.19,331.03,338.21,338.99,339.33,342.35,346.75,348.28,345.48,338.43,332.03,323.52,327.66,328.39,320.37,293.9,305.79,305.13,303.5,310.06,303.79,294.94,293.51,292.76,297.78,311.79],\"yaxis\":\"y\",\"type\":\"scatter\"}],                        {\"template\":{\"data\":{\"histogram2dcontour\":[{\"type\":\"histogram2dcontour\",\"colorbar\":{\"outlinewidth\":0,\"ticks\":\"\"},\"colorscale\":[[0.0,\"#0d0887\"],[0.1111111111111111,\"#46039f\"],[0.2222222222222222,\"#7201a8\"],[0.3333333333333333,\"#9c179e\"],[0.4444444444444444,\"#bd3786\"],[0.5555555555555556,\"#d8576b\"],[0.6666666666666666,\"#ed7953\"],[0.7777777777777778,\"#fb9f3a\"],[0.8888888888888888,\"#fdca26\"],[1.0,\"#f0f921\"]]}],\"choropleth\":[{\"type\":\"choropleth\",\"colorbar\":{\"outlinewidth\":0,\"ticks\":\"\"}}],\"histogram2d\":[{\"type\":\"histogram2d\",\"colorbar\":{\"outlinewidth\":0,\"ticks\":\"\"},\"colorscale\":[[0.0,\"#0d0887\"],[0.1111111111111111,\"#46039f\"],[0.2222222222222222,\"#7201a8\"],[0.3333333333333333,\"#9c179e\"],[0.4444444444444444,\"#bd3786\"],[0.5555555555555556,\"#d8576b\"],[0.6666666666666666,\"#ed7953\"],[0.7777777777777778,\"#fb9f3a\"],[0.8888888888888888,\"#fdca26\"],[1.0,\"#f0f921\"]]}],\"heatmap\":[{\"type\":\"heatmap\",\"colorbar\":{\"outlinewidth\":0,\"ticks\":\"\"},\"colorscale\":[[0.0,\"#0d0887\"],[0.1111111111111111,\"#46039f\"],[0.2222222222222222,\"#7201a8\"],[0.3333333333333333,\"#9c179e\"],[0.4444444444444444,\"#bd3786\"],[0.5555555555555556,\"#d8576b\"],[0.6666666666666666,\"#ed7953\"],[0.7777777777777778,\"#fb9f3a\"],[0.8888888888888888,\"#fdca26\"],[1.0,\"#f0f921\"]]}],\"heatmapgl\":[{\"type\":\"heatmapgl\",\"colorbar\":{\"outlinewidth\":0,\"ticks\":\"\"},\"colorscale\":[[0.0,\"#0d0887\"],[0.1111111111111111,\"#46039f\"],[0.2222222222222222,\"#7201a8\"],[0.3333333333333333,\"#9c179e\"],[0.4444444444444444,\"#bd3786\"],[0.5555555555555556,\"#d8576b\"],[0.6666666666666666,\"#ed7953\"],[0.7777777777777778,\"#fb9f3a\"],[0.8888888888888888,\"#fdca26\"],[1.0,\"#f0f921\"]]}],\"contourcarpet\":[{\"type\":\"contourcarpet\",\"colorbar\":{\"outlinewidth\":0,\"ticks\":\"\"}}],\"contour\":[{\"type\":\"contour\",\"colorbar\":{\"outlinewidth\":0,\"ticks\":\"\"},\"colorscale\":[[0.0,\"#0d0887\"],[0.1111111111111111,\"#46039f\"],[0.2222222222222222,\"#7201a8\"],[0.3333333333333333,\"#9c179e\"],[0.4444444444444444,\"#bd3786\"],[0.5555555555555556,\"#d8576b\"],[0.6666666666666666,\"#ed7953\"],[0.7777777777777778,\"#fb9f3a\"],[0.8888888888888888,\"#fdca26\"],[1.0,\"#f0f921\"]]}],\"surface\":[{\"type\":\"surface\",\"colorbar\":{\"outlinewidth\":0,\"ticks\":\"\"},\"colorscale\":[[0.0,\"#0d0887\"],[0.1111111111111111,\"#46039f\"],[0.2222222222222222,\"#7201a8\"],[0.3333333333333333,\"#9c179e\"],[0.4444444444444444,\"#bd3786\"],[0.5555555555555556,\"#d8576b\"],[0.6666666666666666,\"#ed7953\"],[0.7777777777777778,\"#fb9f3a\"],[0.8888888888888888,\"#fdca26\"],[1.0,\"#f0f921\"]]}],\"mesh3d\":[{\"type\":\"mesh3d\",\"colorbar\":{\"outlinewidth\":0,\"ticks\":\"\"}}],\"scatter\":[{\"fillpattern\":{\"fillmode\":\"overlay\",\"size\":10,\"solidity\":0.2},\"type\":\"scatter\"}],\"parcoords\":[{\"type\":\"parcoords\",\"line\":{\"colorbar\":{\"outlinewidth\":0,\"ticks\":\"\"}}}],\"scatterpolargl\":[{\"type\":\"scatterpolargl\",\"marker\":{\"colorbar\":{\"outlinewidth\":0,\"ticks\":\"\"}}}],\"bar\":[{\"error_x\":{\"color\":\"#2a3f5f\"},\"error_y\":{\"color\":\"#2a3f5f\"},\"marker\":{\"line\":{\"color\":\"#E5ECF6\",\"width\":0.5},\"pattern\":{\"fillmode\":\"overlay\",\"size\":10,\"solidity\":0.2}},\"type\":\"bar\"}],\"scattergeo\":[{\"type\":\"scattergeo\",\"marker\":{\"colorbar\":{\"outlinewidth\":0,\"ticks\":\"\"}}}],\"scatterpolar\":[{\"type\":\"scatterpolar\",\"marker\":{\"colorbar\":{\"outlinewidth\":0,\"ticks\":\"\"}}}],\"histogram\":[{\"marker\":{\"pattern\":{\"fillmode\":\"overlay\",\"size\":10,\"solidity\":0.2}},\"type\":\"histogram\"}],\"scattergl\":[{\"type\":\"scattergl\",\"marker\":{\"colorbar\":{\"outlinewidth\":0,\"ticks\":\"\"}}}],\"scatter3d\":[{\"type\":\"scatter3d\",\"line\":{\"colorbar\":{\"outlinewidth\":0,\"ticks\":\"\"}},\"marker\":{\"colorbar\":{\"outlinewidth\":0,\"ticks\":\"\"}}}],\"scattermapbox\":[{\"type\":\"scattermapbox\",\"marker\":{\"colorbar\":{\"outlinewidth\":0,\"ticks\":\"\"}}}],\"scatterternary\":[{\"type\":\"scatterternary\",\"marker\":{\"colorbar\":{\"outlinewidth\":0,\"ticks\":\"\"}}}],\"scattercarpet\":[{\"type\":\"scattercarpet\",\"marker\":{\"colorbar\":{\"outlinewidth\":0,\"ticks\":\"\"}}}],\"carpet\":[{\"aaxis\":{\"endlinecolor\":\"#2a3f5f\",\"gridcolor\":\"white\",\"linecolor\":\"white\",\"minorgridcolor\":\"white\",\"startlinecolor\":\"#2a3f5f\"},\"baxis\":{\"endlinecolor\":\"#2a3f5f\",\"gridcolor\":\"white\",\"linecolor\":\"white\",\"minorgridcolor\":\"white\",\"startlinecolor\":\"#2a3f5f\"},\"type\":\"carpet\"}],\"table\":[{\"cells\":{\"fill\":{\"color\":\"#EBF0F8\"},\"line\":{\"color\":\"white\"}},\"header\":{\"fill\":{\"color\":\"#C8D4E3\"},\"line\":{\"color\":\"white\"}},\"type\":\"table\"}],\"barpolar\":[{\"marker\":{\"line\":{\"color\":\"#E5ECF6\",\"width\":0.5},\"pattern\":{\"fillmode\":\"overlay\",\"size\":10,\"solidity\":0.2}},\"type\":\"barpolar\"}],\"pie\":[{\"automargin\":true,\"type\":\"pie\"}]},\"layout\":{\"autotypenumbers\":\"strict\",\"colorway\":[\"#636efa\",\"#EF553B\",\"#00cc96\",\"#ab63fa\",\"#FFA15A\",\"#19d3f3\",\"#FF6692\",\"#B6E880\",\"#FF97FF\",\"#FECB52\"],\"font\":{\"color\":\"#2a3f5f\"},\"hovermode\":\"closest\",\"hoverlabel\":{\"align\":\"left\"},\"paper_bgcolor\":\"white\",\"plot_bgcolor\":\"#E5ECF6\",\"polar\":{\"bgcolor\":\"#E5ECF6\",\"angularaxis\":{\"gridcolor\":\"white\",\"linecolor\":\"white\",\"ticks\":\"\"},\"radialaxis\":{\"gridcolor\":\"white\",\"linecolor\":\"white\",\"ticks\":\"\"}},\"ternary\":{\"bgcolor\":\"#E5ECF6\",\"aaxis\":{\"gridcolor\":\"white\",\"linecolor\":\"white\",\"ticks\":\"\"},\"baxis\":{\"gridcolor\":\"white\",\"linecolor\":\"white\",\"ticks\":\"\"},\"caxis\":{\"gridcolor\":\"white\",\"linecolor\":\"white\",\"ticks\":\"\"}},\"coloraxis\":{\"colorbar\":{\"outlinewidth\":0,\"ticks\":\"\"}},\"colorscale\":{\"sequential\":[[0.0,\"#0d0887\"],[0.1111111111111111,\"#46039f\"],[0.2222222222222222,\"#7201a8\"],[0.3333333333333333,\"#9c179e\"],[0.4444444444444444,\"#bd3786\"],[0.5555555555555556,\"#d8576b\"],[0.6666666666666666,\"#ed7953\"],[0.7777777777777778,\"#fb9f3a\"],[0.8888888888888888,\"#fdca26\"],[1.0,\"#f0f921\"]],\"sequentialminus\":[[0.0,\"#0d0887\"],[0.1111111111111111,\"#46039f\"],[0.2222222222222222,\"#7201a8\"],[0.3333333333333333,\"#9c179e\"],[0.4444444444444444,\"#bd3786\"],[0.5555555555555556,\"#d8576b\"],[0.6666666666666666,\"#ed7953\"],[0.7777777777777778,\"#fb9f3a\"],[0.8888888888888888,\"#fdca26\"],[1.0,\"#f0f921\"]],\"diverging\":[[0,\"#8e0152\"],[0.1,\"#c51b7d\"],[0.2,\"#de77ae\"],[0.3,\"#f1b6da\"],[0.4,\"#fde0ef\"],[0.5,\"#f7f7f7\"],[0.6,\"#e6f5d0\"],[0.7,\"#b8e186\"],[0.8,\"#7fbc41\"],[0.9,\"#4d9221\"],[1,\"#276419\"]]},\"xaxis\":{\"gridcolor\":\"white\",\"linecolor\":\"white\",\"ticks\":\"\",\"title\":{\"standoff\":15},\"zerolinecolor\":\"white\",\"automargin\":true,\"zerolinewidth\":2},\"yaxis\":{\"gridcolor\":\"white\",\"linecolor\":\"white\",\"ticks\":\"\",\"title\":{\"standoff\":15},\"zerolinecolor\":\"white\",\"automargin\":true,\"zerolinewidth\":2},\"scene\":{\"xaxis\":{\"backgroundcolor\":\"#E5ECF6\",\"gridcolor\":\"white\",\"linecolor\":\"white\",\"showbackground\":true,\"ticks\":\"\",\"zerolinecolor\":\"white\",\"gridwidth\":2},\"yaxis\":{\"backgroundcolor\":\"#E5ECF6\",\"gridcolor\":\"white\",\"linecolor\":\"white\",\"showbackground\":true,\"ticks\":\"\",\"zerolinecolor\":\"white\",\"gridwidth\":2},\"zaxis\":{\"backgroundcolor\":\"#E5ECF6\",\"gridcolor\":\"white\",\"linecolor\":\"white\",\"showbackground\":true,\"ticks\":\"\",\"zerolinecolor\":\"white\",\"gridwidth\":2}},\"shapedefaults\":{\"line\":{\"color\":\"#2a3f5f\"}},\"annotationdefaults\":{\"arrowcolor\":\"#2a3f5f\",\"arrowhead\":0,\"arrowwidth\":1},\"geo\":{\"bgcolor\":\"white\",\"landcolor\":\"#E5ECF6\",\"subunitcolor\":\"white\",\"showland\":true,\"showlakes\":true,\"lakecolor\":\"white\"},\"title\":{\"x\":0.05},\"mapbox\":{\"style\":\"light\"}}},\"xaxis\":{\"anchor\":\"y\",\"domain\":[0.0,1.0],\"title\":{\"text\":\"Time\"}},\"yaxis\":{\"anchor\":\"x\",\"domain\":[0.0,1.0],\"title\":{\"text\":\"Adjusted Close (USD)\"},\"tickprefix\":\"$\",\"tickformat\":\",.\"},\"legend\":{\"tracegroupgap\":0},\"title\":{\"text\":\"Daily Stock Prices For NFLX\"}},                        {\"responsive\": true}                    ).then(function(){\n",
              "                            \n",
              "var gd = document.getElementById('2037f2ce-af81-4e4b-a108-2da45c980d58');\n",
              "var x = new MutationObserver(function (mutations, observer) {{\n",
              "        var display = window.getComputedStyle(gd).display;\n",
              "        if (!display || display === 'none') {{\n",
              "            console.log([gd, 'removed!']);\n",
              "            Plotly.purge(gd);\n",
              "            observer.disconnect();\n",
              "        }}\n",
              "}});\n",
              "\n",
              "// Listen for the removal of the full notebook cells\n",
              "var notebookContainer = gd.closest('#notebook-container');\n",
              "if (notebookContainer) {{\n",
              "    x.observe(notebookContainer, {childList: true});\n",
              "}}\n",
              "\n",
              "// Listen for the clearing of the current output cell\n",
              "var outputEl = gd.closest('.output');\n",
              "if (outputEl) {{\n",
              "    x.observe(outputEl, {childList: true});\n",
              "}}\n",
              "\n",
              "                        })                };                            </script>        </div>\n",
              "</body>\n",
              "</html>"
            ]
          },
          "metadata": {}
        },
        {
          "output_type": "stream",
          "name": "stdout",
          "text": [
            "Stock Report For NFLX\n",
            "Available Fields:\n",
            "Index(['timestamp', 'open', 'high', 'low', 'close', 'adjusted_close', 'volume',\n",
            "       'dividend_amount', 'split_coefficient'],\n",
            "      dtype='object')\n",
            "Available Days:\n",
            "100\n",
            "Latest Day Available:\n",
            "2023-07-31\n",
            "Earliest Day Available:\n",
            "2023-03-08\n",
            "Latest Day Closing Price:\n",
            "$438.97\n",
            "Earliest Day Closing Price:\n",
            "$311.79\n",
            "100 Day High Price:\n",
            "$485.00\n",
            "100 Day Low Price:\n",
            "$285.33\n",
            "END OF REPORT\n"
          ]
        }
      ]
    },
    {
      "cell_type": "code",
      "source": [],
      "metadata": {
        "id": "lDaBw9fbx7KH"
      },
      "execution_count": null,
      "outputs": []
    },
    {
      "cell_type": "markdown",
      "source": [
        "\n",
        "# Scratch Work\n"
      ],
      "metadata": {
        "id": "bVmfvyo6dTDo"
      }
    },
    {
      "cell_type": "markdown",
      "source": [
        "\n",
        "Optionally use these cells as scratch-work to practice your ability to produce the desired dataviz.\n",
        "\n",
        "> NOTE: These practice cells won't be evaluated. Only the report generation function above will be evaluated. So make sure that your final work ends up in the report generation function!\n",
        "\n",
        "\n",
        "\n"
      ],
      "metadata": {
        "id": "i0Ufh9nP4L5u"
      }
    },
    {
      "cell_type": "code",
      "source": [
        "#Part 2\n",
        "#for closing prices over time, we must pull those first, then plot them in the chart\n",
        "#can do this with variables or in one line\n",
        "\n",
        "#creating variables for my approach\n",
        "#closing_prices = df[\"adjusted_close\"]\n",
        "#print(type(closing_prices))\n",
        "\n",
        "#dates = df[\"timestamp\"]\n",
        "#print(dates)"
      ],
      "metadata": {
        "id": "jhUriA2YAgJH"
      },
      "execution_count": null,
      "outputs": []
    },
    {
      "cell_type": "code",
      "source": [
        "# PART C continued, column-centric\n",
        "\n",
        "dates_col = df[\"timestamp\"]\n",
        "print(type(dates_col))\n",
        "\n",
        "dates_col[0]\n",
        "\n",
        "#alternative method to above\n",
        "df[\"timestamp\"][0]"
      ],
      "metadata": {
        "id": "yEcklk4jAgQC"
      },
      "execution_count": null,
      "outputs": []
    },
    {
      "cell_type": "code",
      "source": [],
      "metadata": {
        "id": "U6QieqLsAf4I"
      },
      "execution_count": null,
      "outputs": []
    },
    {
      "cell_type": "code",
      "source": [
        "#PART 1\n",
        "\n",
        "from pandas import read_csv #adding in the read csv function from pandas package\n",
        "# read the pandas docs to learn more\n",
        "\n",
        "symbol = \"NFLX\" # \"OOPS\"\n",
        "\n",
        "request_url = f\"https://www.alphavantage.co/query?function=TIME_SERIES_DAILY_ADJUSTED&symbol={symbol}&apikey={API_KEY}&datatype=csv\"\n",
        "#grab the API key from slack (its like inputting your password with the getpass function in the set up cell above)\n",
        "\n",
        "df = read_csv(request_url) #reading the csv from the internet\n",
        "df.head() if symbol in stonks else print(\"OOPSIE! Couldn't find that stock. Please check your symbol and try again.\")\n",
        "\n",
        "#stonks = [\"MSFT\", \"GOOGL\", \"AAPL\", \"NFLX\", \"SBUX\", \"TSLA\", \"DIS\", \"NVDA\"]\n",
        "\n",
        "# if not symbol in stonks:\n",
        "#     print(\"OOPSIE! Couldn't find that stock. Please check your symbol and try again.\")\n",
        "# else:\n",
        "#     print(\"EVERYTHING IS GOING FINE\") # this never gets reached\n",
        "#     #print(\"timestamp\" in df.columns) # example VALIDATION LOGIC\n",
        "#     df.head() #data frame specific way to see the first 5 rows - if you put this here without print() then it shows up in better format\n",
        "#wont return df.head properly in the if statement\n",
        "\n",
        "\n",
        "# try:\n",
        "    #try to do all this stuff, but if it causes an error, then do whats under 'except' - invalid API call isnt triggering error?\n",
        "    # print(\"EVERYTHING IS GOING FINE\") # this never gets reached\n",
        "    # df = read_csv(request_url) #reading the csv from the internet\n",
        "    # print(\"timestamp\" in df.columns) # example VALIDATION LOGIC\n",
        "    # df.head() #data frame specific way to see the first 5 rows - if you put this here without print() then it shows up in better format\n",
        "\n",
        "# except:\n",
        "#     print(\"OOPSIE! Couldn't find that stock. Please check your symbol and try again.\")"
      ],
      "metadata": {
        "id": "-Suaz2wsAgXQ"
      },
      "execution_count": null,
      "outputs": []
    },
    {
      "cell_type": "code",
      "source": [
        "# example invocation (for testing purposes):\n",
        "generate_stocks_report(symbol=\"NFLX\")"
      ],
      "metadata": {
        "id": "9nGoho4xDCop",
        "colab": {
          "base_uri": "https://localhost:8080/",
          "height": 187
        },
        "outputId": "1cbb1196-187b-4a29-e47a-4e55058ff10f"
      },
      "execution_count": 47,
      "outputs": [
        {
          "output_type": "error",
          "ename": "NameError",
          "evalue": "ignored",
          "traceback": [
            "\u001b[0;31m---------------------------------------------------------------------------\u001b[0m",
            "\u001b[0;31mNameError\u001b[0m                                 Traceback (most recent call last)",
            "\u001b[0;32m<ipython-input-47-6b620b10f460>\u001b[0m in \u001b[0;36m<cell line: 2>\u001b[0;34m()\u001b[0m\n\u001b[1;32m      1\u001b[0m \u001b[0;31m# example invocation (for testing purposes):\u001b[0m\u001b[0;34m\u001b[0m\u001b[0;34m\u001b[0m\u001b[0m\n\u001b[0;32m----> 2\u001b[0;31m \u001b[0mgenerate_stocks_report\u001b[0m\u001b[0;34m(\u001b[0m\u001b[0msymbol\u001b[0m\u001b[0;34m=\u001b[0m\u001b[0;34m\"NFLX\"\u001b[0m\u001b[0;34m)\u001b[0m\u001b[0;34m\u001b[0m\u001b[0;34m\u001b[0m\u001b[0m\n\u001b[0m",
            "\u001b[0;31mNameError\u001b[0m: name 'generate_stocks_report' is not defined"
          ]
        }
      ]
    },
    {
      "cell_type": "code",
      "source": [
        "# example invocation (for testing purposes):\n",
        "#generate_stocks_report(symbol=\"OOPS\")"
      ],
      "metadata": {
        "id": "9ibtitFhNNs2"
      },
      "execution_count": null,
      "outputs": []
    }
  ]
}