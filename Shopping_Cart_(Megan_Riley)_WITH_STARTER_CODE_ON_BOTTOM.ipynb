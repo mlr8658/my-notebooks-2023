{
  "nbformat": 4,
  "nbformat_minor": 0,
  "metadata": {
    "colab": {
      "provenance": [],
      "collapsed_sections": [
        "51K5AbeHSORR",
        "Eo4jTk_9ZtH3",
        "HCMLilbO4rtr",
        "tnj6eer-RnND",
        "sToAMIV9EnJZ",
        "ISAWSzE392Wn",
        "A-yI-FT4-Nwb"
      ],
      "toc_visible": true,
      "include_colab_link": true
    },
    "kernelspec": {
      "name": "python3",
      "display_name": "Python 3"
    },
    "language_info": {
      "name": "python"
    }
  },
  "cells": [
    {
      "cell_type": "markdown",
      "metadata": {
        "id": "view-in-github",
        "colab_type": "text"
      },
      "source": [
        "<a href=\"https://colab.research.google.com/github/mlr8658/my-notebooks-2023/blob/main/Shopping_Cart_(Megan_Riley)_WITH_STARTER_CODE_ON_BOTTOM.ipynb\" target=\"_parent\"><img src=\"https://colab.research.google.com/assets/colab-badge.svg\" alt=\"Open In Colab\"/></a>"
      ]
    },
    {
      "cell_type": "markdown",
      "source": [
        "Develop a Python application to facilitate a real life grocery store's customer checkout process."
      ],
      "metadata": {
        "id": "4Srdlse6bI5q"
      }
    },
    {
      "cell_type": "markdown",
      "source": [
        "## Instructions\n"
      ],
      "metadata": {
        "id": "51K5AbeHSORR"
      }
    },
    {
      "cell_type": "markdown",
      "source": [
        "\n",
        "\n",
        "\n",
        "\n",
        "\n",
        "\n",
        "1. **Make a copy of this notebook** so you can edit and save your own version of it. Do the work in your copy of the notebook.\n",
        "2. **Update the title of your notebook** to include your name and/or net id.\n",
        "\n",
        "3. **Write Python code in your notebook** in the \"Solution\" section (and in the \"Setup\" section as well if tackling bonus challenges) to meet the requirements set forth in the \"Requirements\" section.\n",
        "\n",
        "\n"
      ],
      "metadata": {
        "id": "i_II8VyWSpyL"
      }
    },
    {
      "cell_type": "markdown",
      "source": [
        "## Collaboration"
      ],
      "metadata": {
        "id": "Eo4jTk_9ZtH3"
      }
    },
    {
      "cell_type": "markdown",
      "source": [
        "Feel free to discuss this exercise with classmates, and even to help each other out in reasonable ways.\n",
        "\n",
        "If you obtain code or \"inspiration\" for code from an outside source, let's endeavor to **A) provide a citation or attribution comment** like the following:\n",
        "\n",
        "  + \"Student XYZ (xyz@school.edu) helped with this section\"\n",
        "  + \"Inspired by code from Robot XYZ\"\n",
        "  + \"Adapted from code found at URL: _________\"\n",
        "\n",
        "Citations like this will go a long way to foster a culture of transparency and help avoid academic integrity concerns.\n",
        "\n",
        "For any code obtained this way, also **provide code comments discussing B) your own interpretation of the code, and C) your lessons learned**.\n",
        "\n",
        "If you have any questions, please ask. Thank you!"
      ],
      "metadata": {
        "id": "o2N_neLYzVgo"
      }
    },
    {
      "cell_type": "markdown",
      "source": [
        "## Business Prompt"
      ],
      "metadata": {
        "id": "HCMLilbO4rtr"
      }
    },
    {
      "cell_type": "markdown",
      "source": [
        "\n",
        "Your local corner grocery store has hired you as a technology consultant to help modernize their checkout system.\n",
        "\n",
        "**Current State (As Is) Process**\n",
        "\n",
        "Currently, when managing inventory, store employees affix a price tag sticker on each grocery item in stock. And when a customer visits the checkout counter with their selected items, a checkout clerk uses a calculator to add product prices, calculate tax, and calculate the total amount due. But this process takes more time than necessary, and is prone to manual error.\n",
        "\n",
        "**Future State (To Be) Process**\n",
        "\n",
        "Instead, the store owner describes a desired checkout process which involves the checkout clerk scanning each product's barcode to automatically lookup prices, perform tax and total calculations, and print a customer receipt. To facilitate this process, the store owner has authorized the purchase of a few inexpensive [barcode scanners](https://www.amazon.com/UNIDEEPLY-Barcode-Scanner-Handheld-Scanning/dp/B07GYLKX4J/ref=sr_1_1_sspa), as well as checkout computers capable of running Python applications.\n",
        "\n",
        "The store owner says it would be \"acceptable but not preferable\" to manage the inventory of products via the application's source code, that it would be \"better\" to manage the inventory of products via a local CSV file stored on the checkout computer (i.e. updloaded or downloaded into the notebook's filesystem), and that it would be \"ideal\" to be able to manage the inventory of products via a centralized Google Sheet [spreadsheet document](https://docs.google.com/spreadsheets/d/1ItN7Cc2Yn4K90cMIsxi2P045Gzw0y2JHB_EkV4mXXpI/edit?usp=sharing).\n",
        "\n",
        "The store owner also says it would be \"nice to have\" a feature which prompts the checkout clerk or the customer to input the customer's email address in order to send them a receipt via email. And that it would be \"ideal\" to also save the customer's email addresses somewhere (if the customer consents to opt-in to the customer loyalty program)."
      ],
      "metadata": {
        "id": "dqaJ_O5H4wRC"
      }
    },
    {
      "cell_type": "markdown",
      "source": [
        "## Requirements\n",
        "\n"
      ],
      "metadata": {
        "id": "tnj6eer-RnND"
      }
    },
    {
      "cell_type": "markdown",
      "source": [
        "### Basic Requirements"
      ],
      "metadata": {
        "id": "9GpF6Z2OrmkR"
      }
    },
    {
      "cell_type": "markdown",
      "source": [
        "\n",
        "Write a Python program that asks the user to input one or more product identifiers, then looks up the prices for each, then prints an itemized customer receipt including the total amount owed.\n",
        "\n",
        "The program should use one of the provided datastores (see \"Setup\" section) to represent the store owner's inventory of products and prices.\n",
        "\n",
        "The program should prompt the checkout clerk to input (or scan) the identifier of each shopping cart item, one at a time. It should also let the user know how to stop the process, by inputting the word \"DONE\" instead.\n",
        "\n",
        "When the clerk inputs a product identifier, the program should validate it, displaying a helpful message like \"Hey, are you sure that product identifier is correct? Please try again!\" if there are no products matching the given identifier.\n",
        "\n",
        "At any time the clerk should be able to indicate there are no more shopping cart items by inputting the word \"DONE\" or otherwise indicating they are done with the process. Before asking for identifiers, the program should provide clear instructions to the user about how to use the \"DONE\" keyword.\n",
        "\n",
        "After the clerk indicates there are no more items, the program should print a custom receipt on the screen. The receipt should include the following components:\n",
        "\n",
        "  + A grocery store name of your choice\n",
        "  + A grocery store phone number and/or website URL and/or address of choice\n",
        "  + The date and time of the beginning of the checkout process, formatted in a human-friendly way (e.g. `2020-02-07 03:54 PM`)\n",
        "  + The name and price of each shopping cart item, price being formatted as US dollars and cents (e.g. `$3.50`, etc.)\n",
        "  + The total cost of all shopping cart items (i.e. the \"subtotal\"), formatted as US dollars and cents (e.g. `$19.47`), calculated as the sum of their prices\n",
        "  + The amount of tax owed (e.g. `$1.70`), calculated by multiplying the total cost by a New York City sales tax rate of 8.75% (for the purposes of this project, groceries are not exempt from sales tax)\n",
        "  + The total amount owed, formatted as US dollars and cents (e.g. `$21.17`), calculated by adding together the amount of tax owed plus the total cost of all shopping cart items\n",
        "  + A friendly message thanking the customer and/or encouraging the customer to shop again\n",
        "\n",
        "The program should be able to process multiple shopping cart items of the same kind, but need not display any groupings or aggregations of those items (although it may optionally do so).\n",
        "\n"
      ],
      "metadata": {
        "id": "aLxBOtV_Cimv"
      }
    },
    {
      "cell_type": "markdown",
      "source": [
        "### Further Exploration\n",
        "\n",
        "\n"
      ],
      "metadata": {
        "id": "sToAMIV9EnJZ"
      }
    },
    {
      "cell_type": "markdown",
      "source": [
        "\n",
        "This section provides **OPTIONAL** project challenges for students seeking a greater level of difficulty.\n",
        "\n",
        "> GUIDANCE: only attempt these challenges if you have completely and accurately addressed the basic requirements in their entirety.\n",
        "\n",
        "\n",
        "**Alternative Inventory Options**\n",
        "\n",
        "Instead of using the hard-coded data provided in Inventory Option A, use the CSV file referenced in Inventory Option B, or ideally use the Google Sheet referenced in Inventory Option C.\n",
        "\n",
        "See the corresponding \"Setup\" cell(s) for more links and hints about implementing each inventory option.\n",
        "\n",
        "> NOTE: choose ONE inventory option only (hard coded, or CSV file, or Google Sheet). Which ever solution you choose, you should end up with either a `products` variable that is a list of dictionaries, or a `products_df` variable that is a pandas DataFrame, and your solution may differ depending on which you choose.\n",
        "\n",
        "**Writing Receipts to File**\n",
        "\n",
        "In addition to displaying a receipt at the end of the checkout process, the program should write the receipt information into a new \".txt\" file saved to the notebook's filesystem. After downloading the file, the clerk's printer-connected computer should be able to actually print a paper receipt from the information contained in this file.\n",
        "\n",
        "Each text file should be named according to the date and time the checkout process started (e.g. \"receipt-2019-07-04-15-43-13-579531.txt\", where the numbers represent the year, month, day, 24-hour-style hour, minute, second, and milliseconds/microseconds, respectively).\n",
        "\n",
        "> HINT: consult the notes on [file management](https://github.com/prof-rossetti/intro-to-python/blob/main/notes/python/file-management.md) for examples of how to write to file in Python\n",
        "\n",
        "**Sending Receipts via Email**\n",
        "\n",
        "\n",
        "In addition to displaying a receipt at the end of the checkout process, the program should prompt the checkout clerk or the customer to indicate whether the customer would like to receive the receipt by email. And if so, it should prompt the checkout clerk or the customer to input the customer's email address, and then it should send the receipt information to the customer by email. The clerk's network-connected computer should be able to send these emails.\n",
        "\n",
        "At the very least, the email should display the checkout timestamp and the total price. But ideally it should contain all the receipt information described in the basic requirements.\n",
        "\n",
        "> HINT: leverage the email-sending capabilities of [the `sendgrid` package](https://github.com/prof-rossetti/intro-to-python/blob/main/notes/python/packages/sendgrid.md).\n",
        "\n",
        "> NOTE: your notebook must contain text cell instructions for how someone can signup for the service and obtain their own credentials (i.e. API Key). Prefer not to use a template for this assignment, otherwise you must include instructions for how someone could re-create that template (including sample HTML and sample data).\n",
        "\n",
        "\n",
        "> NOTE: we should take all precautions to hide our secret credentials and prevent their exposure - for example by asking for a secure input via the `getpass` method (see corresponding \"Setup\" cell), and by never printing the secret values.\n",
        "\n",
        "\n",
        "**Displaying Product Images**\n",
        "\n",
        "Optionally display the product images in the printed and/or emailed receipt.\n",
        "\n",
        "Use the same height for each image so they look  somewhat uniform.\n",
        "\n",
        "> HINT: see corresponding \"Setup\" cell for some image display examples."
      ],
      "metadata": {
        "id": "WUNpEywROMRY"
      }
    },
    {
      "cell_type": "markdown",
      "source": [
        "### Example Output\n"
      ],
      "metadata": {
        "id": "w109Lk3SCmNw"
      }
    },
    {
      "cell_type": "markdown",
      "source": [
        "\n",
        "\n",
        "``` sh\n",
        "Please input a product identifier: 1\n",
        "Please input a product identifier: 2\n",
        "Please input a product identifier: 3\n",
        "Please input a product identifier: 2\n",
        "Please input a product identifier: 1\n",
        "Please input a product identifier: DONE\n",
        "\n",
        "#> ---------------------------------\n",
        "#> GREEN FOODS GROCERY\n",
        "#> WWW.GREEN-FOODS-GROCERY.COM\n",
        "#> ---------------------------------\n",
        "#> CHECKOUT AT: 2020-02-07 03:54 PM\n",
        "#> ---------------------------------\n",
        "#> SELECTED PRODUCTS:\n",
        "#>  ... Chocolate Sandwich Cookies ($3.50)\n",
        "#>  ... All-Seasons Salt ($4.99)\n",
        "#>  ... Robust Golden Unsweetened Oolong Tea ($2.49)\n",
        "#>  ... All-Seasons Salt ($4.99)\n",
        "#>  ... Chocolate Sandwich Cookies ($3.50)\n",
        "#> ---------------------------------\n",
        "#> SUBTOTAL: $19.47\n",
        "#> TAX: $1.70\n",
        "#> TOTAL: $21.17\n",
        "#> ---------------------------------\n",
        "#> THANKS, SEE YOU AGAIN SOON!\n",
        "#> ---------------------------------\n",
        "\n",
        "```"
      ],
      "metadata": {
        "id": "o9XEJ2RTClB8"
      }
    },
    {
      "cell_type": "markdown",
      "source": [
        "## Evaluation\n"
      ],
      "metadata": {
        "id": "GWj6HNQQSzZA"
      }
    },
    {
      "cell_type": "markdown",
      "source": [
        "Project submissions will be evaluated according to the requirements set forth above, as summarized by the rubric below:\n",
        "\n",
        "\n",
        "\n",
        "Category | Requirement | Weight\n",
        "--- | --- | ---\n",
        "Instructions | Provides setup instructions, as necessary <br> (only if project requires additional setup, such as obtaining Sendgrid API keys, must include those instructions in a text cell. <br> Otherwise full credit. | 10%\n",
        "Security | Protects secret credentials as necessary <br> (only if using secret credentials to send emails, must ask for them via secure inputs using `getpass` approach). <br> Otherwise full points / no deduction if not using secret credentials. | 10%\n",
        "Info Inputs | Captures / scans product identifiers. | 10%\n",
        "Info Inputs | Handles invalid inputs <br> (like \"OOPS\" and/or out of range identifiers), fails gracefully on invalid product lookups. <br> Does not try to process invalid inputs. Avoids a red / crashed cell. | 15%\n",
        "Info Inputs | Instructs the user about, and handles, the \"DONE\" signal. | 10%\n",
        "Info Outputs (Receipt) | Displays store info. | 10%\n",
        "Info Outputs (Receipt) | Displays checkout date and time, in a human-friendly format. | 10%\n",
        "Info Outputs (Receipt) | Displays names and prices of all scanned products, with prices formatted as USD. | 10%\n",
        "Info Outputs (Receipt) | Displays tax and totals, formatted as USD. | 15%\n",
        "\n",
        "This rubric is tentative, and may be subject to slight adjustments during the grading process.\n",
        "\n",
        "If experiencing execution error(s) while evaluating the application's required functionality, evaluators are advised to reduce the project's grade by between 4% and 25%, depending on the circumstances and severity of the error(s).\n",
        "\n",
        "Additionally, the professor reserves the right to apply bonus / extra credit for successfully completed further exploration challenges (for a maximum possible bonus total of around 12%):\n",
        "  + Inventory Bonus: +3% for CSV file inventory OR +6% for Google Sheets inventory\n",
        "  + Receipt Bonus: +3% for writing receipt to TXT file AND/OR +6% for sending receipt via email\n",
        "  + Image Bonus: +2% for displaying the product images in a reasonable,  semi-uniform way\n",
        "\n",
        "\n",
        "\n",
        "\n",
        "\n"
      ],
      "metadata": {
        "id": "ME5s2Ek6S1Dd"
      }
    },
    {
      "cell_type": "markdown",
      "source": [
        "# Solution"
      ],
      "metadata": {
        "id": "PaHSX83Qrx8j"
      }
    },
    {
      "cell_type": "markdown",
      "source": [
        "This is the only section that will be evaluated. Make sure the final working version of the code is completely contained within this section."
      ],
      "metadata": {
        "id": "LLtxUAzrzfh_"
      }
    },
    {
      "cell_type": "markdown",
      "source": [
        "##SET UP\n",
        "Run all set up cells."
      ],
      "metadata": {
        "id": "ASx4PbvxSdJb"
      }
    },
    {
      "cell_type": "code",
      "source": [
        "#SET UP\n",
        "\n",
        "%%capture\n",
        "\n",
        "# !pip install gspread==5.5.0\n",
        "\n",
        "# installing the newest version of the gspread package:\n",
        "!pip uninstall gspread -y\n",
        "!pip install gspread --upgrade"
      ],
      "metadata": {
        "id": "dnvXKwCAdrXN"
      },
      "execution_count": 1,
      "outputs": []
    },
    {
      "cell_type": "code",
      "execution_count": 2,
      "metadata": {
        "id": "Us45iDdv5f2q"
      },
      "outputs": [],
      "source": [
        "#SET UP\n",
        "from google.colab import auth\n",
        "\n",
        "# asks you to login\n",
        "auth.authenticate_user()"
      ]
    },
    {
      "cell_type": "code",
      "source": [
        "#SET UP\n",
        "from google.auth import default\n",
        "\n",
        "# uses your login credentials\n",
        "creds, _ = default()\n",
        "print(creds)"
      ],
      "metadata": {
        "colab": {
          "base_uri": "https://localhost:8080/"
        },
        "id": "ZBwQ6UwA59l8",
        "outputId": "6dc6f8c7-e566-4840-f766-ccb2aa94feae"
      },
      "execution_count": 3,
      "outputs": [
        {
          "output_type": "stream",
          "name": "stdout",
          "text": [
            "<google.auth.compute_engine.credentials.Credentials object at 0x7ceac43b6800>\n"
          ]
        }
      ]
    },
    {
      "cell_type": "code",
      "source": [
        "#SET UP\n",
        "import gspread\n",
        "\n",
        "# authorizes the gspread package to use your login credentials (in case we were using a private document)\n",
        "client = gspread.authorize(creds)"
      ],
      "metadata": {
        "id": "ouQZ0rGb6dF3"
      },
      "execution_count": 4,
      "outputs": []
    },
    {
      "cell_type": "code",
      "source": [
        "#SET UP\n",
        "# see: https://docs.google.com/spreadsheets/d/1ItN7Cc2Yn4K90cMIsxi2P045Gzw0y2JHB_EkV4mXXpI/edit?usp=sharing\n",
        "DOCUMENT_ID = \"1ItN7Cc2Yn4K90cMIsxi2P045Gzw0y2JHB_EkV4mXXpI\" # identifier of the public access database (see document URL)\n",
        "#SHEET_NAME = \"products-default\"\n",
        "SHEET_NAME = \"products-custom\"\n",
        "\n",
        "doc = client.open_by_key(DOCUMENT_ID)\n",
        "sheet = doc.worksheet(SHEET_NAME)\n",
        "\n",
        "print(\"DOC:\", doc)\n",
        "print(\"SHEET:\", sheet)"
      ],
      "metadata": {
        "colab": {
          "base_uri": "https://localhost:8080/"
        },
        "id": "SebrDNqx5pJV",
        "outputId": "9b034df7-b246-429a-fe0a-db40427a046b"
      },
      "execution_count": 5,
      "outputs": [
        {
          "output_type": "stream",
          "name": "stdout",
          "text": [
            "DOC: <Spreadsheet 'Shopping Cart Project - Datastore (PUBLIC)' id:1ItN7Cc2Yn4K90cMIsxi2P045Gzw0y2JHB_EkV4mXXpI>\n",
            "SHEET: <Worksheet 'products-custom' id:139638459>\n"
          ]
        }
      ]
    },
    {
      "cell_type": "code",
      "source": [
        "#SET UP\n",
        "# get all rows from the sheet (will need to re-run to re-fetch if the inventory gets updated)\n",
        "\n",
        "products = sheet.get_all_records(numericise_ignore=[1])\n",
        "print(type(products))\n",
        "print(len(products))\n",
        "print(products)"
      ],
      "metadata": {
        "id": "19b3HLvc_xVN",
        "colab": {
          "base_uri": "https://localhost:8080/"
        },
        "outputId": "6112aad6-0cdf-4e34-9060-c3a5af1cec86"
      },
      "execution_count": 6,
      "outputs": [
        {
          "output_type": "stream",
          "name": "stdout",
          "text": [
            "<class 'list'>\n",
            "34\n",
            "[{'id': '1', 'name': 'Chocolate Sandwich Cookies', 'aisle': 'cookies cakes', 'department': 'snacks', 'price': 3.5, 'img_url': 'https://tmbidigitalassetsazure.blob.core.windows.net/toh/GoogleImagesPostCard/Quick-Chocolate-Sandwich-Cookies_exps12928_CK133085D05_07_5bC_RMS.jpg'}, {'id': '2', 'name': 'All-Seasons Salt', 'aisle': 'spices seasonings', 'department': 'pantry', 'price': 4.99, 'img_url': 'https://i5.walmartimages.com/asr/46a4e05c-4b00-4b8d-851f-5b6c489c05ce_2.0e41c87b7366e49ef0a19f4f8f89b5bf.png'}, {'id': '3', 'name': 'Robust Golden Unsweetened Oolong Tea', 'aisle': 'tea', 'department': 'beverages', 'price': 2.49, 'img_url': 'https://cdn11.bigcommerce.com/s-tfv7q8thbe/images/stencil/800x800/products/430/1252/apifh3coi__16441.1560953606.jpg?c=2'}, {'id': '4', 'name': 'Smart Ones Classic Favorites Mini Rigatoni With Vodka Cream Sauce', 'aisle': 'frozen meals', 'department': 'frozen', 'price': 6.99, 'img_url': 'https://i.pinimg.com/736x/96/84/3f/96843f17057b78561a3ad4edb18c59aa--homemade-vodka-sauce-weight-watchers-smart-ones.jpg'}, {'id': '5', 'name': 'Green Chile Anytime Sauce', 'aisle': 'marinades meat preparation', 'department': 'pantry', 'price': 7.99, 'img_url': 'https://cdn11.bigcommerce.com/s-qqb56hyrha/images/stencil/1280x1280/products/2799/8558/1084__90291.1565126801.jpg?c=2'}, {'id': '6', 'name': 'Dry Nose Oil', 'aisle': 'cold flu allergy', 'department': 'personal care', 'price': 21.99, 'img_url': 'https://fess.com.au/wp-content/uploads/2017/11/CPC-FESS-DryNoseOil-600x600px-600x600.jpg'}, {'id': '7', 'name': 'Pure Coconut Water With Orange', 'aisle': 'juice nectars', 'department': 'beverages', 'price': 3.5, 'img_url': 'https://i5.walmartimages.com/asr/0a98b9f4-349c-4d3a-b532-e19c130af4ce_1.29d7d4633c110aa83d7c877912a70969.jpeg'}, {'id': '8', 'name': \"Cut Russet Potatoes Steam N' Mash\", 'aisle': 'frozen produce', 'department': 'frozen', 'price': 4.25, 'img_url': 'https://i5.walmartimages.com/asr/332e0593-be1c-4bbc-b5a0-d628e9e068cb.84c7a077aa428b8dd7e96c4db7e63f73.jpeg'}, {'id': '9', 'name': 'Light Strawberry Blueberry Yogurt', 'aisle': 'yogurt', 'department': 'dairy eggs', 'price': 6.5, 'img_url': 'https://res.cloudinary.com/general-mills/image/upload/products/00070470403953_C3N1_s105_9b1aa1a3-2987-4344-b18b-b350d64cead2.jpg'}, {'id': '10', 'name': 'Sparkling Orange Juice & Prickly Pear Beverage', 'aisle': 'water seltzer sparkling water', 'department': 'beverages', 'price': 2.99, 'img_url': 'https://www.foodiesgeneralstore.com/assets/images/san%20pellegrino%20prickly%20pear%20%20orange%20sparkling%20drink.jpeg'}, {'id': '11', 'name': 'Peach Mango Juice', 'aisle': 'refrigerated', 'department': 'beverages', 'price': 1.99, 'img_url': 'https://i5.walmartimages.com/asr/0f6eb4f5-51f9-4d79-8d19-c38f70e94410_1.468c1962ae62faf1254aef723c13f110.jpeg'}, {'id': '12', 'name': 'Chocolate Fudge Layer Cake', 'aisle': 'frozen dessert', 'department': 'frozen', 'price': 18.5, 'img_url': 'https://images.heb.com/is/image/HEBGrocery/000148555'}, {'id': '13', 'name': 'Saline Nasal Mist', 'aisle': 'cold flu allergy', 'department': 'personal care', 'price': 16, 'img_url': 'https://m.media-amazon.com/images/W/WEBP_402378-T1/images/I/71A-NvoVMIL._AC_SX679_.jpg'}, {'id': '14', 'name': 'Fresh Scent Dishwasher Cleaner', 'aisle': 'dish detergents', 'department': 'household', 'price': 4.99, 'img_url': 'https://i5.walmartimages.com/asr/d69352cc-8b5a-4919-b040-fc728f308499.38d9ea88b5da4f73d9c1937f4ca0272c.jpeg'}, {'id': '15', 'name': 'Overnight Diapers Size 6', 'aisle': 'diapers wipes', 'department': 'babies', 'price': 25.5, 'img_url': 'https://i5.walmartimages.com/asr/d769c4ea-f71c-46b6-9f1c-18be40985374.9419d580efb58b5642bd563b720ad0c8.jpeg'}, {'id': '16', 'name': 'Mint Chocolate Flavored Syrup', 'aisle': 'ice cream toppings', 'department': 'snacks', 'price': 4.5, 'img_url': 'https://m.media-amazon.com/images/I/81BCniKRzkL._SL1500_.jpg'}, {'id': '17', 'name': 'Rendered Duck Fat', 'aisle': 'poultry counter', 'department': 'meat seafood', 'price': 9.99, 'img_url': 'https://i5.peapod.com/c/3U/3U5OU.png'}, {'id': '18', 'name': 'Pizza for One Suprema Frozen Pizza', 'aisle': 'frozen pizza', 'department': 'frozen', 'price': 12.5, 'img_url': 'https://ipcdn.freshop.com/resize?url=https://images.freshop.com/00019600046707/4b32e88d8ce88b66492de400816e4b7b_large.png&width=512&type=webp&quality=90'}, {'id': '19', 'name': 'Gluten Free Quinoa Three Cheese & Mushroom Blend', 'aisle': 'grains rice dried goods', 'department': 'dry goods pasta', 'price': 3.99, 'img_url': 'https://www.foodservicedirect.com/media/catalog/product/8/5/859331002012.jpg?width=1200&height=1200&quality=85&fit=bounds'}, {'id': '20', 'name': 'Pomegranate Cranberry & Aloe Vera Enrich Drink', 'aisle': 'juice nectars', 'department': 'beverages', 'price': 4.25, 'img_url': 'https://images.albertsons-media.com/is/image/ABS/960071018-ECOM?$ng-ecom-pdp-mobile$&defaultImage=Not_Available'}, {'id': '012000161155', 'name': 'LIFE WTR (33.8 oz)', 'aisle': 'water', 'department': 'beverages', 'price': 1.99, 'img_url': 'https://i5.walmartimages.com/asr/41d7c500-39de-4408-aa4b-8fe2a8cd8499.14ba48641c9f2e98fd3b92406f0297db.jpeg?odnHeight=612&odnWidth=612&odnBg=FFFFFF'}, {'id': '742365005176', 'name': 'Horizon Organic Lowfat Milk (8 oz)', 'aisle': 'dairy', 'department': 'beverages', 'price': 2.49, 'img_url': 'https://horizon.com/wp-content/uploads/horizon-shelf-stable-organic-plain-1-percent-milk.jpg'}, {'id': '855569003029', 'name': 'Perfect Bar (Peanut Butter)', 'aisle': 'protein bars', 'department': 'snacks', 'price': 2.69, 'img_url': 'https://images.heb.com/is/image/HEBGrocery/001797251?fit=constrain,1&wid=800&hei=800&fmt=jpg&qlt=85,0&resMode=sharp2&op_usm=1.75,0.3,2,0'}, {'id': '189928399189', 'name': 'Genoa Tortellini', 'aisle': 'pasta', 'department': 'pasta', 'price': 4.99, 'img_url': 'https://images.squarespace-cdn.com/content/v1/57d9af33e3df281fe622a44b/1500410633071-GSU3TOGH4FQNBEJO5LDF/Cropped_TortelliniwithPesto.jpg'}, {'id': '073390010379', 'name': 'Mentos', 'aisle': 'mints', 'department': 'mints', 'price': 3.5, 'img_url': 'https://thumbs.dreamstime.com/b/mentos-chewy-mints-london-uk-december-th-packet-mint-over-plain-white-background-107076203.jpg'}, {'id': '095008023182', 'name': 'Essie Off Tropic Nail Polish', 'aisle': 'nail care', 'department': 'beauty', 'price': 5.5, 'img_url': 'https://www.essie.com/-/media/Project/loreal/brand-sites/essie/Americas/US/products_nailpolish/enamels/greens/off_tropic/offtropic-removebg-preview.png'}, {'id': '04357209', 'name': 'Kool-Aid Liquid Tropical Punch', 'aisle': 'juice ', 'department': 'beverages', 'price': 3.99, 'img_url': 'https://m.media-amazon.com/images/W/IMAGERENDERING_521856-T1/images/I/71+-d-QrtVL.jpg'}, {'id': '04389208', 'name': 'Mio Lemonade', 'aisle': 'juice', 'department': 'beverages', 'price': 2.99, 'img_url': 'https://m.media-amazon.com/images/W/IMAGERENDERING_521856-T1/images/I/71ZQHMkLxzL.jpg'}, {'id': '747599421815', 'name': 'Ghiradelli Minis', 'aisle': 'chocolate', 'department': 'snacks', 'price': 7.99, 'img_url': 'https://www.ghirardelli.com/media/catalog/product/1/0/10747599419703_pi_ecom.png?quality=80&fit=bounds&height=500&width=500&canvas=500:500'}, {'id': '611269331240', 'name': 'Red Bull Watermelon', 'aisle': 'energy drinks', 'department': 'beverages', 'price': 3.5, 'img_url': 'https://images.ctfassets.net/lcr8qbvxj7mh/1ADleIaY71gu6STEVZhqra/c4ae7c971dd685042a815e3333634a8a/US_RBRE_250_Single_Unit_close_ambient_ORIGINAL_DRES.png'}, {'id': '077326612255', 'name': \"Wild Lavender Tom's Deodorant\", 'aisle': 'hygiene', 'department': 'personal care', 'price': 6.5, 'img_url': 'https://www.tomsofmaine.com/content/dam/cp-sites/toms/toms-of-maine/global/products/antiperspirant-and-deodorant/wht-na-wild-lavender-ll-deodorant.png'}, {'id': '3606000537743', 'name': 'CeraVe Daily Moisturizing Lotion', 'aisle': 'lotions', 'department': 'personal care', 'price': 5.99, 'img_url': 'https://m.media-amazon.com/images/W/IMAGERENDERING_521856-T1/images/I/51nFUxdgIZL.jpg'}, {'id': '075720008513', 'name': 'Poland Spring 20 oz', 'aisle': 'water', 'department': 'beverages', 'price': 3.33, 'img_url': 'https://www.polandspring.com/sites/g/files/zmtnxh116/files/2023-01/poland_spring-spring_water-20oz-feature.png'}, {'id': '00986823', 'name': \"Trader Joe's Pistachio's\", 'aisle': 'nuts', 'department': 'snacks', 'price': 4.49, 'img_url': 'https://m.media-amazon.com/images/I/71+TO8n6ulL.jpg'}]\n"
          ]
        }
      ]
    },
    {
      "cell_type": "code",
      "source": [
        "#SET UP\n",
        "#product_id will be whatever input is typed or scanned by user\n",
        "def lookup_product(product_id):\n",
        "    \"\"\"Assumes the \"products\" variable is in memory as a list of dictionaries.\n",
        "\n",
        "        Params: product_id (int or string) the identifier or bar code of the product you want to look up.\n",
        "\n",
        "        Returns: a product dictionary, or None if not found.\n",
        "    \"\"\"\n",
        "    try:\n",
        "        matching_products = [p for p in products if str(p[\"id\"]) == str(product_id)]\n",
        "        product = matching_products[0] # triggers IndexError if there are no matches / no first item in the list\n",
        "        return product\n",
        "    except IndexError as err:\n",
        "        return None\n",
        "\n",
        "\n",
        "assert lookup_product(2)[\"name\"] == \"All-Seasons Salt\"\n",
        "assert lookup_product(18)[\"name\"] == \"Pizza for One Suprema Frozen Pizza\"\n",
        "assert lookup_product(999) == None\n",
        "assert lookup_product(\"OOPS\") == None\n",
        "print(\"TESTS PASS\")\n",
        "\n"
      ],
      "metadata": {
        "colab": {
          "base_uri": "https://localhost:8080/"
        },
        "id": "s9R5gi8uytkd",
        "outputId": "b7bdd985-8c4a-4cb8-cbd2-fec7214324a7"
      },
      "execution_count": 13,
      "outputs": [
        {
          "output_type": "stream",
          "name": "stdout",
          "text": [
            "TESTS PASS\n",
            "Pizza for One Suprema Frozen Pizza\n"
          ]
        }
      ]
    },
    {
      "cell_type": "code",
      "source": [
        "#SET UP\n",
        "import datetime #needed to get the current time"
      ],
      "metadata": {
        "id": "5XtBulIuE2Ut"
      },
      "execution_count": 82,
      "outputs": []
    },
    {
      "cell_type": "code",
      "source": [
        "#SET UP\n",
        "#email receipt portion below - unable to get sendgrid access to work\n"
      ],
      "metadata": {
        "id": "V6LxN1E6Q0s8"
      },
      "execution_count": null,
      "outputs": []
    },
    {
      "cell_type": "code",
      "source": [
        "#SET UP\n",
        "%%capture\n",
        "\n",
        "# install sendgrid package (specific version that will work with the email sending function provided below)\n",
        "!pip install sendgrid==6.5.0"
      ],
      "metadata": {
        "id": "ZAn_aiFsJmmJ"
      },
      "execution_count": 107,
      "outputs": []
    },
    {
      "cell_type": "code",
      "source": [
        "#SET UP\n",
        "from getpass import getpass\n",
        "\n",
        "SENDGRID_API_KEY = getpass(\"Please input your Sendgrid API Key: \")\n",
        "SENDER_ADDRESS = getpass(\"Please input your Sender Email Address: \")"
      ],
      "metadata": {
        "id": "JjlSSRB7JOSM"
      },
      "execution_count": null,
      "outputs": []
    },
    {
      "cell_type": "code",
      "source": [
        "#SET UP\n",
        "from sendgrid import SendGridAPIClient\n",
        "from sendgrid.helpers.mail import Mail\n",
        "\n",
        "def send_email(subject=\"[Shopping Cart App] This is a test\", html=\"<p>Hello World</p>\", recipient_address=SENDER_ADDRESS):\n",
        "    \"\"\"\n",
        "        Sends an email with the specified subject and html contents to the specified recipient,\n",
        "\n",
        "        If recipient is not specified, sends to the admin's sender address by default.\n",
        "    \"\"\"\n",
        "    client = SendGridAPIClient(SENDGRID_API_KEY) #> <class 'sendgrid.sendgrid.SendGridAPIClient>\n",
        "    print(\"CLIENT:\", type(client))\n",
        "    print(\"SUBJECT:\", subject)\n",
        "    #print(\"HTML:\", html)\n",
        "\n",
        "    message = Mail(from_email=SENDER_ADDRESS, to_emails=recipient_address, subject=subject, html_content=html)\n",
        "    try:\n",
        "        response = client.send(message)\n",
        "        print(\"RESPONSE:\", type(response)) #> <class 'python_http_client.client.Response'>\n",
        "        print(response.status_code) #> 202 indicates SUCCESS\n",
        "        return response\n",
        "    except Exception as e:\n",
        "        print(\"OOPS\", type(e), e)\n",
        "        return None\n"
      ],
      "metadata": {
        "id": "zQbrdsIQeb5p"
      },
      "execution_count": null,
      "outputs": []
    },
    {
      "cell_type": "markdown",
      "source": [
        "##LOOP FOR SCANNING PROCESS AND RECEIPT\n",
        "This section is the part of the solution that runs scans the product id's and outputs a total and receipt"
      ],
      "metadata": {
        "id": "D9-rUHJcSlpo"
      }
    },
    {
      "cell_type": "code",
      "source": [
        "#LOOP FOR SCANNING PROCESS FINISHING WITH TOTAL\n",
        "\n",
        "making_list = True\n",
        "\n",
        "total = 0\n",
        "items_price = []\n",
        "items_nameandprice = []\n",
        "\n",
        "while making_list:\n",
        "    x = input(\"SCAN BARCODE OR INPUT PRODUCT ID (IF NO MORE ITEMS TYPE 'DONE'): \")\n",
        "\n",
        "    if x.upper() == \"DONE\":     #make it so any case works, if its done then break while loop\n",
        "        making_list = False\n",
        "    else:\n",
        "        if (bool(lookup_product(x))):       #bool makes it either true or false, if the look up doesnt work then false, if works then true\n",
        "            price = to_usd(lookup_product(x)[\"price\"])\n",
        "            item_name = lookup_product(x)[\"name\"]\n",
        "            #print((lookup_product(x)[\"price\"]))\n",
        "            items_price.append(price)\n",
        "            total+=lookup_product(x)[\"price\"]\n",
        "            items_nameandprice.append(f\"+ {item_name} ({price})\")\n",
        "\n",
        "        else:\n",
        "            print(\"INVALID PRODUCT ID, PLEASE TRY AGAIN.\")      #if the bool(lookup) was false then try again\n",
        "\n",
        "\n",
        "print(\"---------------\")\n",
        "print(\"MEG'S MUNCHIES GROCERY STORE\")\n",
        "print(\"www.megsmunchies\")\n",
        "print(\"---------------\")\n",
        "#why does it take this much effort to print the time in that format, must be a better way\n",
        "t_str = datetime.datetime.now()\n",
        "t_obj = t_str.strftime( '%Y-%m-%d')\n",
        "t_ob2 = t_str.strftime( ':%M:%S')\n",
        "hr = int(t_str.strftime( '%H'))\n",
        "ampm = \"AM\"\n",
        "if hr>12:\n",
        "    hr=hr-12\n",
        "    ampm = \"PM\"\n",
        "print(f\"CHECKOUT AT: {t_obj}  {hr}{t_ob2} {ampm}\")\n",
        "print(\"---------------\")\n",
        "print(\"SELECTED PRODUCTS:\")\n",
        "\n",
        "ind = 0\n",
        "for item in items_nameandprice:   #goal is to loop through products list\n",
        "   print(item)\n",
        "\n",
        "\n",
        "print(\"---------------\")\n",
        "print(\"SUBTOTAL:\", to_usd(total))\n",
        "print(\"TAX:\", to_usd(total*.0875))\n",
        "print(\"TOTAL:\", to_usd(total*1.0875))\n",
        "print(\"---------------\")\n",
        "print(\"THANK YOU FOR SHOPPING AT MEG'S MUNCHIES!\")\n",
        "print(\"---------------\")\n",
        "\n",
        "\n",
        "\n",
        "\n"
      ],
      "metadata": {
        "colab": {
          "base_uri": "https://localhost:8080/"
        },
        "id": "zL7diAAEkSXl",
        "outputId": "a2078b50-0106-444a-8c01-2679554b0418"
      },
      "execution_count": 109,
      "outputs": [
        {
          "output_type": "stream",
          "name": "stdout",
          "text": [
            "SCAN BARCODE OR INPUT PRODUCT ID (IF NO MORE ITEMS TYPE 'DONE'): 1\n",
            "SCAN BARCODE OR INPUT PRODUCT ID (IF NO MORE ITEMS TYPE 'DONE'): 2\n",
            "SCAN BARCODE OR INPUT PRODUCT ID (IF NO MORE ITEMS TYPE 'DONE'): DONE\n",
            "---------------\n",
            "MEG'S MUNCHIES GROCERY STORE\n",
            "www.megsmunchies\n",
            "---------------\n",
            "CHECKOUT AT: 2023-08-04  8:46:48 PM\n",
            "---------------\n",
            "SELECTED PRODUCTS:\n",
            "+ Chocolate Sandwich Cookies ($3.50)\n",
            "+ All-Seasons Salt ($4.99)\n",
            "---------------\n",
            "SUBTOTAL: $8.49\n",
            "TAX: $0.74\n",
            "TOTAL: $9.23\n",
            "---------------\n",
            "THANK YOU FOR SHOPPING AT MEG'S MUNCHIES!\n",
            "---------------\n"
          ]
        }
      ]
    },
    {
      "cell_type": "markdown",
      "source": [
        "##EMAIL RECEIPT\n",
        "(unable to get SendGrid access, this would go in under the code above to prompt asking for a receipt after check out is done)"
      ],
      "metadata": {
        "id": "5Bc74fwXSs9B"
      }
    },
    {
      "cell_type": "code",
      "source": [
        "#email receipt - unable to get sendgrid access to work\n",
        "#this is the portion that would get put in the loop in the solution code\n",
        "#all lines above would get put in set up\n",
        "asking_receipt = True\n",
        "\n",
        "while asking_receipt:\n",
        "    y = input(\"EMAIL RECEIPT Y/N?\")\n",
        "    if y.upper() == \"N\":\n",
        "        print(\"CHECK OUT PROCESS COMPLETE\")\n",
        "        asking_receipt = False\n",
        "    else:\n",
        "        if y.upper() == \"Y\":\n",
        "            email = input(\"INPUT EMAIL ADDRESS:\")\n",
        "            #use the sendgrid email function here once you can get it to work\n",
        "            send_email(email)\n",
        "            print(\"EMAIL SENT TO\", email)\n",
        "            asking_receipt = False\n",
        "\n",
        "        else:\n",
        "            print(\"INVALID INPUT, PLEASE TRY AGAIN\")\n"
      ],
      "metadata": {
        "id": "aZrZqcYQQjfR"
      },
      "execution_count": null,
      "outputs": []
    },
    {
      "cell_type": "code",
      "source": [],
      "metadata": {
        "id": "1H9B_Q_5zsGA"
      },
      "execution_count": null,
      "outputs": []
    },
    {
      "cell_type": "markdown",
      "source": [
        "# Scratch Work and Starter Code"
      ],
      "metadata": {
        "id": "ekIj0aU66R9M"
      }
    },
    {
      "cell_type": "markdown",
      "source": [
        "This section contains some example code you may find helpful. If you would like to use any of this code in your solution, make sure to move those cells up into the solution section (or copy the code into the solution section).\n",
        "\n",
        "You can then comment-out or remove any of the unusued code below, as desired.\n",
        "\n",
        "Remember, code below will not be evaluated. Make sure the solution section above has all the code you need to make the app work."
      ],
      "metadata": {
        "id": "9GRq-wa3rRzc"
      }
    },
    {
      "cell_type": "markdown",
      "source": [
        "This code uses the `sendgrid` Python package to interface with the [SendGrid](https://sendgrid.com/) email sending service.\n",
        "\n",
        "In order to use this code, you'll first need to create a SendGrid account, verify your single sender address, and obtain an API Key. You will be asked to supply your sender address and API Key via the `getpass` secure input cell below.\n",
        "\n",
        "> HINT: see the [sendgrid package docs](https://github.com/prof-rossetti/intro-to-python/blob/main/notes/python/packages/sendgrid.md#setup) for more info"
      ],
      "metadata": {
        "id": "kKzO2Mhzws-x"
      }
    },
    {
      "cell_type": "code",
      "source": [
        "#%%capture\n",
        "#!pip install inquirer"
      ],
      "metadata": {
        "id": "H0DLNrQzz7kg"
      },
      "execution_count": 57,
      "outputs": []
    },
    {
      "cell_type": "markdown",
      "source": [
        "This is perhaps the most real world applicable inventory option. If you use this inventory option, there is no need to use other inventory options.\n",
        "\n",
        "> Indented block\n",
        "\n",
        "\n",
        "\n",
        "Here is a link to the [Google Sheet document](https://docs.google.com/spreadsheets/d/1ItN7Cc2Yn4K90cMIsxi2P045Gzw0y2JHB_EkV4mXXpI/edit#gid=1430039847). Choose one of these two sheets:\n",
        "\n",
        "  + [\"products-default\" sheet](https://docs.google.com/spreadsheets/d/1ItN7Cc2Yn4K90cMIsxi2P045Gzw0y2JHB_EkV4mXXpI/edit#gid=837633200) -- contains the basic products, with a column of image URLs (same as similarly named CSV Inventory option)\n",
        "  + [\"products-custom\" sheet](https://docs.google.com/spreadsheets/d/1ItN7Cc2Yn4K90cMIsxi2P045Gzw0y2JHB_EkV4mXXpI/edit#gid=139638459) -- contains even more products, including ones with barcode identifiers\n",
        "\n",
        "\n",
        "> HINT: see the [`gspread` package notes](https://github.com/prof-rossetti/intro-to-python/blob/main/notes/python/packages/gspread.md) for starter code (use the colab credentials option, not the local credentials file option)"
      ],
      "metadata": {
        "id": "RVBm-Un7tQ1e"
      }
    },
    {
      "cell_type": "code",
      "source": [
        " import inquirer\n",
        "# confirm = {inquirer.Confirm('confirmed',\n",
        "#                             message=\"EMAIL RECEIPT? (Y/N)\",\n",
        "#                             default=True)\n",
        "# }"
      ],
      "metadata": {
        "id": "RcarA1y7ClXK"
      },
      "execution_count": null,
      "outputs": []
    },
    {
      "cell_type": "code",
      "source": [
        "example_matching_product = lookup_product(2)\n",
        "print(example_matching_product)\n",
        "print(to_usd(lookup_product(16)[\"price\"]))"
      ],
      "metadata": {
        "colab": {
          "base_uri": "https://localhost:8080/"
        },
        "id": "bwHX3P5I1WgW",
        "outputId": "69610ba1-3f72-4698-bfe6-f40f094155f0"
      },
      "execution_count": 16,
      "outputs": [
        {
          "output_type": "stream",
          "name": "stdout",
          "text": [
            "{'id': '2', 'name': 'All-Seasons Salt', 'aisle': 'spices seasonings', 'department': 'pantry', 'price': 4.99, 'img_url': 'https://i5.walmartimages.com/asr/46a4e05c-4b00-4b8d-851f-5b6c489c05ce_2.0e41c87b7366e49ef0a19f4f8f89b5bf.png'}\n",
            "$4.50\n"
          ]
        }
      ]
    },
    {
      "cell_type": "code",
      "source": [],
      "metadata": {
        "id": "_jMbCkfQClKk"
      },
      "execution_count": null,
      "outputs": []
    },
    {
      "cell_type": "code",
      "source": [],
      "metadata": {
        "id": "8WaWZP91Ck_l"
      },
      "execution_count": null,
      "outputs": []
    },
    {
      "cell_type": "code",
      "source": [
        "#\n",
        "# PRODUCTS INVENTORY (OPTION A - HARD CODED)\n",
        "# ... use this variable as a default products inventory\n",
        "# ... or comment it out / remove if you end up choosing a different option\n",
        "#\n",
        "\n",
        "products = [\n",
        "    {\"id\":1, \"name\": \"Chocolate Sandwich Cookies\", \"department\": \"snacks\", \"aisle\": \"cookies cakes\", \"price\": 3.50},\n",
        "    {\"id\":2, \"name\": \"All-Seasons Salt\", \"department\": \"pantry\", \"aisle\": \"spices seasonings\", \"price\": 4.99},\n",
        "    {\"id\":3, \"name\": \"Robust Golden Unsweetened Oolong Tea\", \"department\": \"beverages\", \"aisle\": \"tea\", \"price\": 2.49},\n",
        "    {\"id\":4, \"name\": \"Smart Ones Classic Favorites Mini Rigatoni With Vodka Cream Sauce\", \"department\": \"frozen\", \"aisle\": \"frozen meals\", \"price\": 6.99},\n",
        "    {\"id\":5, \"name\": \"Green Chile Anytime Sauce\", \"department\": \"pantry\", \"aisle\": \"marinades meat preparation\", \"price\": 7.99},\n",
        "    {\"id\":6, \"name\": \"Dry Nose Oil\", \"department\": \"personal care\", \"aisle\": \"cold flu allergy\", \"price\": 21.99},\n",
        "    {\"id\":7, \"name\": \"Pure Coconut Water With Orange\", \"department\": \"beverages\", \"aisle\": \"juice nectars\", \"price\": 3.50},\n",
        "    {\"id\":8, \"name\": \"Cut Russet Potatoes Steam N' Mash\", \"department\": \"frozen\", \"aisle\": \"frozen produce\", \"price\": 4.25},\n",
        "    {\"id\":9, \"name\": \"Light Strawberry Blueberry Yogurt\", \"department\": \"dairy eggs\", \"aisle\": \"yogurt\", \"price\": 6.50},\n",
        "    {\"id\":10, \"name\": \"Sparkling Orange Juice & Prickly Pear Beverage\", \"department\": \"beverages\", \"aisle\": \"water seltzer sparkling water\", \"price\": 2.99},\n",
        "    {\"id\":11, \"name\": \"Peach Mango Juice\", \"department\": \"beverages\", \"aisle\": \"refrigerated\", \"price\": 1.99},\n",
        "    {\"id\":12, \"name\": \"Chocolate Fudge Layer Cake\", \"department\": \"frozen\", \"aisle\": \"frozen dessert\", \"price\": 18.50},\n",
        "    {\"id\":13, \"name\": \"Saline Nasal Mist\", \"department\": \"personal care\", \"aisle\": \"cold flu allergy\", \"price\": 16.00},\n",
        "    {\"id\":14, \"name\": \"Fresh Scent Dishwasher Cleaner\", \"department\": \"household\", \"aisle\": \"dish detergents\", \"price\": 4.99},\n",
        "    {\"id\":15, \"name\": \"Overnight Diapers Size 6\", \"department\": \"babies\", \"aisle\": \"diapers wipes\", \"price\": 25.50},\n",
        "    {\"id\":16, \"name\": \"Mint Chocolate Flavored Syrup\", \"department\": \"snacks\", \"aisle\": \"ice cream toppings\", \"price\": 4.50},\n",
        "    {\"id\":17, \"name\": \"Rendered Duck Fat\", \"department\": \"meat seafood\", \"aisle\": \"poultry counter\", \"price\": 9.99},\n",
        "    {\"id\":18, \"name\": \"Pizza for One Suprema Frozen Pizza\", \"department\": \"frozen\", \"aisle\": \"frozen pizza\", \"price\": 12.50},\n",
        "    {\"id\":19, \"name\": \"Gluten Free Quinoa Three Cheese & Mushroom Blend\", \"department\": \"dry goods pasta\", \"aisle\": \"grains rice dried goods\", \"price\": 3.99},\n",
        "    {\"id\":20, \"name\": \"Pomegranate Cranberry & Aloe Vera Enrich Drink\", \"department\": \"beverages\", \"aisle\": \"juice nectars\", \"price\": 4.25}\n",
        "] # based on data from Instacart: https://www.instacart.com/datasets/grocery-shopping-2017\n",
        "\n",
        "print(type(products))\n",
        "print(len(products))\n",
        "print(products)"
      ],
      "metadata": {
        "id": "WARR5j5LrziR"
      },
      "execution_count": null,
      "outputs": []
    },
    {
      "cell_type": "code",
      "source": [],
      "metadata": {
        "id": "g0rKaEtYCk2W"
      },
      "execution_count": null,
      "outputs": []
    },
    {
      "cell_type": "code",
      "source": [],
      "metadata": {
        "id": "UbU0_o61Cjas"
      },
      "execution_count": null,
      "outputs": []
    },
    {
      "cell_type": "markdown",
      "source": [
        "### Image Display Examples"
      ],
      "metadata": {
        "id": "NznIzPBWfxMt"
      }
    },
    {
      "cell_type": "markdown",
      "source": [
        "Use this code if you would like to display product images (only applicable for certain inventory options that contain image URLs)."
      ],
      "metadata": {
        "id": "RveFByS50zPG"
      }
    },
    {
      "cell_type": "code",
      "source": [
        "#\n",
        "# IMAGE DISPLAY\n",
        "# ... run this cell to display some example images\n",
        "# ... (and feel free to adapt the approach if you'd like to display the product images later)\n",
        "#\n",
        "\n",
        "from IPython.display import Image, display\n",
        "\n",
        "print(\"-----------\")\n",
        "print(\"EXAMPLE IMAGES:\")\n",
        "\n",
        "print(\"-----------\")\n",
        "#image_url = \"https://upload.wikimedia.org/wikipedia/commons/thumb/9/9f/Georgetown_Hoyas_logo.svg/64px-Georgetown_Hoyas_logo.svg.png\"\n",
        "image_url = \"https://smartdesignworldwide.com/wp-content/uploads/2018/05/nyu-logo.jpg\"\n",
        "display(Image(url=image_url, height=100))\n",
        "\n",
        "print(\"-----------\")\n",
        "display(Image(url=\"https://www.python.org/static/community_logos/python-powered-w-200x80.png\"))\n",
        "\n",
        "print(\"-----------\")\n",
        "display(Image(url=\"https://www.shareicon.net/data/128x128/2016/05/04/759867_food_512x512.png\", height=100))"
      ],
      "metadata": {
        "id": "fUgRCt3Gfygc",
        "colab": {
          "base_uri": "https://localhost:8080/",
          "height": 398
        },
        "outputId": "44db2661-2788-444f-c1c9-15d5c99e519b"
      },
      "execution_count": 8,
      "outputs": [
        {
          "output_type": "stream",
          "name": "stdout",
          "text": [
            "-----------\n",
            "EXAMPLE IMAGES:\n",
            "-----------\n"
          ]
        },
        {
          "output_type": "display_data",
          "data": {
            "text/html": [
              "<img src=\"https://smartdesignworldwide.com/wp-content/uploads/2018/05/nyu-logo.jpg\" height=\"100\"/>"
            ],
            "text/plain": [
              "<IPython.core.display.Image object>"
            ]
          },
          "metadata": {}
        },
        {
          "output_type": "stream",
          "name": "stdout",
          "text": [
            "-----------\n"
          ]
        },
        {
          "output_type": "display_data",
          "data": {
            "text/html": [
              "<img src=\"https://www.python.org/static/community_logos/python-powered-w-200x80.png\"/>"
            ],
            "text/plain": [
              "<IPython.core.display.Image object>"
            ]
          },
          "metadata": {}
        },
        {
          "output_type": "stream",
          "name": "stdout",
          "text": [
            "-----------\n"
          ]
        },
        {
          "output_type": "display_data",
          "data": {
            "text/html": [
              "<img src=\"https://www.shareicon.net/data/128x128/2016/05/04/759867_food_512x512.png\" height=\"100\"/>"
            ],
            "text/plain": [
              "<IPython.core.display.Image object>"
            ]
          },
          "metadata": {}
        }
      ]
    },
    {
      "cell_type": "markdown",
      "source": [
        "### Price Formatting Function"
      ],
      "metadata": {
        "id": "D2_cqRlx9yas"
      }
    },
    {
      "cell_type": "markdown",
      "source": [
        "Use this function to format prices as USD."
      ],
      "metadata": {
        "id": "l8PasQKB0w8h"
      }
    },
    {
      "cell_type": "code",
      "source": [
        "#\n",
        "# DOLLAR FORMATTING FUNCTION\n",
        "# ... use this function later if you find it helpful :-)\n",
        "#\n",
        "\n",
        "def to_usd(my_price):\n",
        "    \"\"\"\n",
        "    Converts a numeric value to usd-formatted string, for printing and display purposes.\n",
        "\n",
        "    Param: my_price (int or float) like 4000.444444\n",
        "\n",
        "    Example: to_usd(4000.444444)\n",
        "\n",
        "    Returns: $4,000.44\n",
        "    \"\"\"\n",
        "    return f\"${my_price:,.2f}\" #> $12,000.71\n",
        "\n",
        "\n",
        "\n",
        "assert to_usd(4.5) == \"$4.50\"\n",
        "assert to_usd(1234567890.98765) == \"$1,234,567,890.99\""
      ],
      "metadata": {
        "id": "SGztgSOT6ttE"
      },
      "execution_count": 37,
      "outputs": []
    },
    {
      "cell_type": "markdown",
      "source": [
        "### Inventory Option C) Google Sheets"
      ],
      "metadata": {
        "id": "A-yI-FT4-Nwb"
      }
    },
    {
      "cell_type": "markdown",
      "source": [
        "## Product Lookup Function"
      ],
      "metadata": {
        "id": "sHZ7P8hsyr8g"
      }
    },
    {
      "cell_type": "markdown",
      "source": [
        "## Email Sending Function"
      ],
      "metadata": {
        "id": "HAD7Vc6j_Nq1"
      }
    },
    {
      "cell_type": "markdown",
      "source": [
        "### Inventory Option B) CSV File\n",
        "\n"
      ],
      "metadata": {
        "id": "MVhv3dwV97KX"
      }
    }
  ]
}