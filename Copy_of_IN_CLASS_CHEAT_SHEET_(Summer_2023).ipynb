{
  "nbformat": 4,
  "nbformat_minor": 0,
  "metadata": {
    "colab": {
      "provenance": [],
      "collapsed_sections": [
        "rpnQEg_YeMeQ",
        "ds6ET5i4eQO7",
        "4-bfhqcNeSLL",
        "ytBi6NpGl4u7",
        "pEtmrNUCvIyv",
        "ain7Gqu-iTYU"
      ],
      "toc_visible": true,
      "include_colab_link": true
    },
    "kernelspec": {
      "name": "python3",
      "display_name": "Python 3"
    },
    "language_info": {
      "name": "python"
    }
  },
  "cells": [
    {
      "cell_type": "markdown",
      "metadata": {
        "id": "view-in-github",
        "colab_type": "text"
      },
      "source": [
        "<a href=\"https://colab.research.google.com/github/mlr8658/my-notebooks-2023/blob/main/Copy_of_IN_CLASS_CHEAT_SHEET_(Summer_2023).ipynb\" target=\"_parent\"><img src=\"https://colab.research.google.com/assets/colab-badge.svg\" alt=\"Open In Colab\"/></a>"
      ]
    },
    {
      "cell_type": "markdown",
      "source": [
        "# Built In Functions\n",
        "\n",
        "https://docs.python.org/3/library/functions.html"
      ],
      "metadata": {
        "id": "rpnQEg_YeMeQ"
      }
    },
    {
      "cell_type": "markdown",
      "source": [
        "## Print Function"
      ],
      "metadata": {
        "id": "1vgU4Tf6eOh3"
      }
    },
    {
      "cell_type": "markdown",
      "source": [
        "Printing a single item:"
      ],
      "metadata": {
        "id": "4rTK6ZImFJ3B"
      }
    },
    {
      "cell_type": "code",
      "source": [
        "print(10)"
      ],
      "metadata": {
        "colab": {
          "base_uri": "https://localhost:8080/"
        },
        "id": "AQYyb4ByDWrj",
        "outputId": "c08c7bff-a22e-4021-defe-e1f060e19ba5"
      },
      "execution_count": null,
      "outputs": [
        {
          "output_type": "stream",
          "name": "stdout",
          "text": [
            "10\n"
          ]
        }
      ]
    },
    {
      "cell_type": "code",
      "source": [
        "x = 5\n",
        "\n",
        "print(x)"
      ],
      "metadata": {
        "id": "VAcLU07seUHl",
        "colab": {
          "base_uri": "https://localhost:8080/"
        },
        "outputId": "61af6f48-7fee-436c-93d8-003fcd322eb7"
      },
      "execution_count": null,
      "outputs": [
        {
          "output_type": "stream",
          "name": "stdout",
          "text": [
            "5\n"
          ]
        }
      ]
    },
    {
      "cell_type": "markdown",
      "source": [
        "Printing comma separated items:"
      ],
      "metadata": {
        "id": "JwLKM3DfFHsi"
      }
    },
    {
      "cell_type": "code",
      "source": [
        "print(x, \"hello\", 8)"
      ],
      "metadata": {
        "id": "4X6qG1YNeTxZ",
        "colab": {
          "base_uri": "https://localhost:8080/"
        },
        "outputId": "e59813a6-f76a-419a-9f14-6034fa68f30b"
      },
      "execution_count": null,
      "outputs": [
        {
          "output_type": "stream",
          "name": "stdout",
          "text": [
            "5 hello 8\n"
          ]
        }
      ]
    },
    {
      "cell_type": "markdown",
      "source": [
        "Printing vs displaying the last thing in a code cell:"
      ],
      "metadata": {
        "id": "Qkxvf2-NFXJR"
      }
    },
    {
      "cell_type": "code",
      "source": [
        "1000"
      ],
      "metadata": {
        "colab": {
          "base_uri": "https://localhost:8080/"
        },
        "id": "sv6kr2NmDlSv",
        "outputId": "7452e19a-cc5f-4e85-fe42-cfde68d81c8b"
      },
      "execution_count": null,
      "outputs": [
        {
          "output_type": "execute_result",
          "data": {
            "text/plain": [
              "1000"
            ]
          },
          "metadata": {},
          "execution_count": 6
        }
      ]
    },
    {
      "cell_type": "code",
      "source": [
        "z = 10\n",
        "#print(z)\n",
        "\n",
        "z"
      ],
      "metadata": {
        "id": "a43sZfNoFZ57",
        "colab": {
          "base_uri": "https://localhost:8080/"
        },
        "outputId": "bd8181d6-f173-41fa-a90a-234a07e9a29d"
      },
      "execution_count": null,
      "outputs": [
        {
          "output_type": "execute_result",
          "data": {
            "text/plain": [
              "10"
            ]
          },
          "metadata": {},
          "execution_count": 10
        }
      ]
    },
    {
      "cell_type": "code",
      "source": [],
      "metadata": {
        "id": "IOeYv7ZcFaZy"
      },
      "execution_count": null,
      "outputs": []
    },
    {
      "cell_type": "markdown",
      "source": [
        "## Input Function"
      ],
      "metadata": {
        "id": "cvThiz1bjZaU"
      }
    },
    {
      "cell_type": "markdown",
      "source": [
        "Capturing user inputs:"
      ],
      "metadata": {
        "id": "t6lsWIhRFbfR"
      }
    },
    {
      "cell_type": "code",
      "source": [
        "my_name = input(\"Please input your name: \")\n",
        "print(\"NAME:\", my_name)"
      ],
      "metadata": {
        "id": "F3QYFp9fjbDD",
        "colab": {
          "base_uri": "https://localhost:8080/"
        },
        "outputId": "7d4ae1c6-38f8-405b-acd4-12741a1fc61e"
      },
      "execution_count": null,
      "outputs": [
        {
          "output_type": "stream",
          "name": "stdout",
          "text": [
            "Please input your name: MJR\n",
            "NAME: MJR\n"
          ]
        }
      ]
    },
    {
      "cell_type": "code",
      "source": [],
      "metadata": {
        "id": "ces3qthFkFCb"
      },
      "execution_count": null,
      "outputs": []
    },
    {
      "cell_type": "markdown",
      "source": [
        "# Variables"
      ],
      "metadata": {
        "id": "RXwftOtN3Kw3"
      }
    },
    {
      "cell_type": "markdown",
      "source": [
        "We use the single equals sign for variable assignment.\n",
        "\n"
      ],
      "metadata": {
        "id": "aRwxqg5S3mXO"
      }
    },
    {
      "cell_type": "markdown",
      "source": [
        "A variable's value can change over time (i.e. be overwritten / reset):\n",
        "\n"
      ],
      "metadata": {
        "id": "s7MWWl1u3L_i"
      }
    },
    {
      "cell_type": "code",
      "source": [
        "x = 5\n",
        "\n",
        "x = 100\n",
        "\n",
        "print(x)"
      ],
      "metadata": {
        "colab": {
          "base_uri": "https://localhost:8080/"
        },
        "id": "1qZrHvNU3xao",
        "outputId": "d5757aad-2f5c-4e1a-a876-3327b00907e7"
      },
      "execution_count": null,
      "outputs": [
        {
          "output_type": "stream",
          "name": "stdout",
          "text": [
            "100\n"
          ]
        }
      ]
    },
    {
      "cell_type": "code",
      "source": [],
      "metadata": {
        "id": "IXoBCnxe3R4S"
      },
      "execution_count": null,
      "outputs": []
    },
    {
      "cell_type": "code",
      "source": [],
      "metadata": {
        "id": "4vza3RDX3SN3"
      },
      "execution_count": null,
      "outputs": []
    },
    {
      "cell_type": "markdown",
      "source": [
        "Whatever value is to the right of the equals sign will be assigned to the variable to the left of the equals sign.\n",
        "\n",
        "We can reference the variable's previous value during our process of assigning a new value:"
      ],
      "metadata": {
        "id": "LnxTDTl53UOM"
      }
    },
    {
      "cell_type": "code",
      "source": [
        "x = 5\n",
        "print(x)\n",
        "\n",
        "x = 20\n",
        "print(x)\n",
        "\n",
        "x = x * 10\n",
        "print(x)\n",
        "\n",
        "# x = x + 10\n",
        "x += 10\n",
        "print(x)"
      ],
      "metadata": {
        "colab": {
          "base_uri": "https://localhost:8080/"
        },
        "id": "bz30841j3Shz",
        "outputId": "9d4e1e78-3c6b-477a-f948-23dc97e77cee"
      },
      "execution_count": null,
      "outputs": [
        {
          "output_type": "stream",
          "name": "stdout",
          "text": [
            "5\n",
            "20\n",
            "200\n",
            "210\n"
          ]
        }
      ]
    },
    {
      "cell_type": "markdown",
      "source": [
        "Tangent about vertical column select (editor trick, not python):"
      ],
      "metadata": {
        "id": "8QdYqmVIFcvE"
      }
    },
    {
      "cell_type": "code",
      "source": [
        "#x = 5\n",
        "#print(x)\n",
        "#\n",
        "#x = 20\n",
        "#print(x)\n",
        "#\n",
        "#x = x * 10\n",
        "#print(x)\n",
        "#\n",
        "## x = x + 10\n",
        "#x += 10\n",
        "#print(x)"
      ],
      "metadata": {
        "id": "vm9glTJm54pa"
      },
      "execution_count": null,
      "outputs": []
    },
    {
      "cell_type": "markdown",
      "source": [
        "Variable naming conventions:"
      ],
      "metadata": {
        "id": "qcHbSdH3GSwN"
      }
    },
    {
      "cell_type": "code",
      "source": [
        "# my thing = 5\n",
        "\n",
        "thing = 5\n",
        "weight_pounds = 5\n",
        "\n",
        "# raInBow = 10 # DON'T\n",
        "\n",
        "MY_CONSTANT = 10 # use sparingly for constants (values we don't expect to change)\n",
        "\n",
        "# AVOID CAMELCASE THAT A JAVASCRIPT THING\n",
        "# rainBow = 10 # avoid\n",
        "\n",
        "# Pascal Case / title case for classes ONLY\n",
        "# RainBow = 10\n"
      ],
      "metadata": {
        "colab": {
          "base_uri": "https://localhost:8080/"
        },
        "id": "YkARIBizGUR2",
        "outputId": "9f62d439-a4b8-41f1-ad20-be54d215cf65"
      },
      "execution_count": null,
      "outputs": [
        {
          "output_type": "stream",
          "name": "stdout",
          "text": [
            "10\n"
          ]
        }
      ]
    },
    {
      "cell_type": "markdown",
      "source": [
        "# Basic Datatypes"
      ],
      "metadata": {
        "id": "ds6ET5i4eQO7"
      }
    },
    {
      "cell_type": "code",
      "source": [
        "type(\"Hello\")"
      ],
      "metadata": {
        "colab": {
          "base_uri": "https://localhost:8080/"
        },
        "id": "4rnKvMXqIsZW",
        "outputId": "d4325014-b6c1-4542-ed24-f3b0ecb8b714"
      },
      "execution_count": null,
      "outputs": [
        {
          "output_type": "execute_result",
          "data": {
            "text/plain": [
              "str"
            ]
          },
          "metadata": {},
          "execution_count": 20
        }
      ]
    },
    {
      "cell_type": "code",
      "source": [
        "x = \"Hello\"\n",
        "type(x)"
      ],
      "metadata": {
        "colab": {
          "base_uri": "https://localhost:8080/"
        },
        "id": "28bhX8i9Iz91",
        "outputId": "7ab2c743-e462-41ce-cd91-b1ca0fb4eb0f"
      },
      "execution_count": null,
      "outputs": [
        {
          "output_type": "execute_result",
          "data": {
            "text/plain": [
              "str"
            ]
          },
          "metadata": {},
          "execution_count": 21
        }
      ]
    },
    {
      "cell_type": "code",
      "source": [
        "print(type(\"Hello\"))\n",
        "print(type(\"100\"))\n",
        "print(type('Hello World'))"
      ],
      "metadata": {
        "id": "xNPqUtULeUqV",
        "colab": {
          "base_uri": "https://localhost:8080/"
        },
        "outputId": "79dd4354-06e0-465c-b8bb-ed5292d6be0b"
      },
      "execution_count": null,
      "outputs": [
        {
          "output_type": "stream",
          "name": "stdout",
          "text": [
            "<class 'str'>\n",
            "<class 'str'>\n",
            "<class 'str'>\n"
          ]
        }
      ]
    },
    {
      "cell_type": "code",
      "source": [
        "print(type(100))\n",
        "print(type(0.45))"
      ],
      "metadata": {
        "id": "wWpcgzNUf5bB",
        "colab": {
          "base_uri": "https://localhost:8080/"
        },
        "outputId": "b97d4efd-9f01-4062-f196-2b71e08fbae4"
      },
      "execution_count": null,
      "outputs": [
        {
          "output_type": "stream",
          "name": "stdout",
          "text": [
            "<class 'int'>\n",
            "<class 'float'>\n"
          ]
        }
      ]
    },
    {
      "cell_type": "code",
      "source": [
        "print(type(True))\n",
        "print(type(False))"
      ],
      "metadata": {
        "id": "IdDGpVF9f6YP",
        "colab": {
          "base_uri": "https://localhost:8080/"
        },
        "outputId": "49a60a37-891a-40f8-fd54-55d0ce36e2fa"
      },
      "execution_count": null,
      "outputs": [
        {
          "output_type": "stream",
          "name": "stdout",
          "text": [
            "<class 'bool'>\n",
            "<class 'bool'>\n"
          ]
        }
      ]
    },
    {
      "cell_type": "code",
      "source": [
        "print(type(None))"
      ],
      "metadata": {
        "id": "-i_yPrk1gPQc",
        "colab": {
          "base_uri": "https://localhost:8080/"
        },
        "outputId": "53fb85cd-1271-4030-d0ec-f6c2fb6595d8"
      },
      "execution_count": null,
      "outputs": [
        {
          "output_type": "stream",
          "name": "stdout",
          "text": [
            "<class 'NoneType'>\n"
          ]
        }
      ]
    },
    {
      "cell_type": "code",
      "source": [
        "print(type({\"a\":1, \"b\":2, \"c\":3}))"
      ],
      "metadata": {
        "id": "6Z8VhXbUgq0J",
        "colab": {
          "base_uri": "https://localhost:8080/"
        },
        "outputId": "b2dae6af-ec28-4340-a4d2-53dd4f1e5f78"
      },
      "execution_count": null,
      "outputs": [
        {
          "output_type": "stream",
          "name": "stdout",
          "text": [
            "<class 'dict'>\n"
          ]
        }
      ]
    },
    {
      "cell_type": "code",
      "source": [
        "print(type([1,2,3]))"
      ],
      "metadata": {
        "id": "C0auybWTg5Hw",
        "colab": {
          "base_uri": "https://localhost:8080/"
        },
        "outputId": "99c4c70d-a0e6-4f57-a258-ae5201a39e0d"
      },
      "execution_count": null,
      "outputs": [
        {
          "output_type": "stream",
          "name": "stdout",
          "text": [
            "<class 'list'>\n"
          ]
        }
      ]
    },
    {
      "cell_type": "markdown",
      "source": [
        "## Numbers"
      ],
      "metadata": {
        "id": "eZX7YN3mhNE-"
      }
    },
    {
      "cell_type": "code",
      "source": [
        "x = 6\n",
        "print(x)"
      ],
      "metadata": {
        "id": "EppTCFpThPup",
        "colab": {
          "base_uri": "https://localhost:8080/"
        },
        "outputId": "86113bac-ae43-48ae-8460-88c4cff80f7a"
      },
      "execution_count": null,
      "outputs": [
        {
          "output_type": "stream",
          "name": "stdout",
          "text": [
            "6\n"
          ]
        }
      ]
    },
    {
      "cell_type": "code",
      "source": [
        "print(200 + 5)"
      ],
      "metadata": {
        "id": "SgDQWTqmhY4e",
        "colab": {
          "base_uri": "https://localhost:8080/"
        },
        "outputId": "15e8eb5e-3490-448c-d9f4-a1c966f85f74"
      },
      "execution_count": null,
      "outputs": [
        {
          "output_type": "stream",
          "name": "stdout",
          "text": [
            "205\n"
          ]
        }
      ]
    },
    {
      "cell_type": "code",
      "source": [
        "speed_mph = 100\n",
        "print(speed_mph)"
      ],
      "metadata": {
        "id": "EibqXWDFhrjM",
        "colab": {
          "base_uri": "https://localhost:8080/"
        },
        "outputId": "ec6936bc-fd80-4228-fcab-e3cdda18d322"
      },
      "execution_count": null,
      "outputs": [
        {
          "output_type": "stream",
          "name": "stdout",
          "text": [
            "100\n"
          ]
        }
      ]
    },
    {
      "cell_type": "code",
      "source": [
        "# variable names need underscores (no spaces)\n",
        "# speed mph = 100\n"
      ],
      "metadata": {
        "id": "GbqMf5F3iHDv",
        "colab": {
          "base_uri": "https://localhost:8080/",
          "height": 131
        },
        "outputId": "30dcbe49-931d-4ed5-f9d3-7c76a78b5346"
      },
      "execution_count": null,
      "outputs": [
        {
          "output_type": "error",
          "ename": "SyntaxError",
          "evalue": "ignored",
          "traceback": [
            "\u001b[0;36m  File \u001b[0;32m\"<ipython-input-7-878f77983298>\"\u001b[0;36m, line \u001b[0;32m1\u001b[0m\n\u001b[0;31m    speed mph = 100\u001b[0m\n\u001b[0m          ^\u001b[0m\n\u001b[0;31mSyntaxError\u001b[0m\u001b[0;31m:\u001b[0m invalid syntax\n"
          ]
        }
      ]
    },
    {
      "cell_type": "code",
      "source": [],
      "metadata": {
        "id": "b5QmsHpuiQNu"
      },
      "execution_count": null,
      "outputs": []
    },
    {
      "cell_type": "code",
      "source": [],
      "metadata": {
        "id": "U0kyZ5k3iS55"
      },
      "execution_count": null,
      "outputs": []
    },
    {
      "cell_type": "markdown",
      "source": [
        "## Strings"
      ],
      "metadata": {
        "id": "lQpbh3TJhL3i"
      }
    },
    {
      "cell_type": "code",
      "source": [
        "message = \"write anything with space\"\n",
        "print(message)\n",
        "\n",
        "message = 'write anything with space'\n",
        "print(message)\n",
        "\n",
        "message = \"don't do that\"\n",
        "print(message)\n",
        "\n",
        "# message = 'don't do that' # DONT\n",
        "#print(message)"
      ],
      "metadata": {
        "id": "vxuepNBzhPVq",
        "colab": {
          "base_uri": "https://localhost:8080/"
        },
        "outputId": "86a1d3d7-2d1d-4a63-d416-251d11206015"
      },
      "execution_count": null,
      "outputs": [
        {
          "output_type": "stream",
          "name": "stdout",
          "text": [
            "write anything with space\n",
            "write anything with space\n",
            "don't do that\n"
          ]
        }
      ]
    },
    {
      "cell_type": "code",
      "source": [
        "message = \"\"\"\n",
        "Now whatever is inside\n",
        "\n",
        "Is on multiple lines\n",
        "\n",
        "\"\"\"\n",
        "\n",
        "print(message)"
      ],
      "metadata": {
        "id": "qA9iEHWgig9h",
        "colab": {
          "base_uri": "https://localhost:8080/"
        },
        "outputId": "b58142c5-bbf6-4d55-d887-b61e88f62f3c"
      },
      "execution_count": null,
      "outputs": [
        {
          "output_type": "stream",
          "name": "stdout",
          "text": [
            "\n",
            "Now whatever is inside\n",
            "\n",
            "Is on multiple lines\n",
            "\n",
            "\n"
          ]
        }
      ]
    },
    {
      "cell_type": "markdown",
      "source": [
        "Concatenation"
      ],
      "metadata": {
        "id": "EJiMWAnZi6ED"
      }
    },
    {
      "cell_type": "code",
      "source": [
        "\"HELLO\" + \"WORLD\""
      ],
      "metadata": {
        "id": "nYNh3PuVilWV",
        "colab": {
          "base_uri": "https://localhost:8080/",
          "height": 35
        },
        "outputId": "7182ac60-1ba3-4793-97b3-8a0d6f39c34a"
      },
      "execution_count": null,
      "outputs": [
        {
          "output_type": "execute_result",
          "data": {
            "text/plain": [
              "'HELLOWORLD'"
            ],
            "application/vnd.google.colaboratory.intrinsic+json": {
              "type": "string"
            }
          },
          "metadata": {},
          "execution_count": 33
        }
      ]
    },
    {
      "cell_type": "code",
      "source": [
        "\"HELLO \" + \"WORLD\""
      ],
      "metadata": {
        "id": "0rdw3_fEi_Pv",
        "colab": {
          "base_uri": "https://localhost:8080/",
          "height": 35
        },
        "outputId": "8d6f5eb3-9f9b-4ad4-f49e-db2eafeda63e"
      },
      "execution_count": null,
      "outputs": [
        {
          "output_type": "execute_result",
          "data": {
            "text/plain": [
              "'HELLO WORLD'"
            ],
            "application/vnd.google.colaboratory.intrinsic+json": {
              "type": "string"
            }
          },
          "metadata": {},
          "execution_count": 34
        }
      ]
    },
    {
      "cell_type": "code",
      "source": [
        "\"HELLO\" + \" WORLD\""
      ],
      "metadata": {
        "id": "05kwow1tjF0d",
        "colab": {
          "base_uri": "https://localhost:8080/",
          "height": 35
        },
        "outputId": "7483b8ed-5d2d-4865-d81c-b8cd957e9227"
      },
      "execution_count": null,
      "outputs": [
        {
          "output_type": "execute_result",
          "data": {
            "text/plain": [
              "'HELLO WORLD'"
            ],
            "application/vnd.google.colaboratory.intrinsic+json": {
              "type": "string"
            }
          },
          "metadata": {},
          "execution_count": 35
        }
      ]
    },
    {
      "cell_type": "code",
      "source": [
        "\"HELLO\" + \" \" + \"WORLD\""
      ],
      "metadata": {
        "id": "vA6PGIb1jHb5",
        "colab": {
          "base_uri": "https://localhost:8080/",
          "height": 35
        },
        "outputId": "b6f9790f-7a5f-43d8-83fe-f8f91db4b8ee"
      },
      "execution_count": null,
      "outputs": [
        {
          "output_type": "execute_result",
          "data": {
            "text/plain": [
              "'HELLO WORLD'"
            ],
            "application/vnd.google.colaboratory.intrinsic+json": {
              "type": "string"
            }
          },
          "metadata": {},
          "execution_count": 36
        }
      ]
    },
    {
      "cell_type": "markdown",
      "source": [
        "Why datatypes matter. We can perform the same operation, but it will do different things depending on which type of data we are working with:"
      ],
      "metadata": {
        "id": "sjgqCZAf6RtF"
      }
    },
    {
      "cell_type": "code",
      "source": [
        "print(2 + 2)\n",
        "\n",
        "print(\"2\" + \"2\")\n",
        "\n",
        "# print(2 + \"2\") #> TypeError: unsupported operand type(s) for +: 'int' and 'str'"
      ],
      "metadata": {
        "id": "NUDc7DuyjSax",
        "colab": {
          "base_uri": "https://localhost:8080/"
        },
        "outputId": "8bab691a-4868-4431-e5b3-fd0e42a3a272"
      },
      "execution_count": null,
      "outputs": [
        {
          "output_type": "stream",
          "name": "stdout",
          "text": [
            "4\n",
            "22\n"
          ]
        }
      ]
    },
    {
      "cell_type": "markdown",
      "source": [
        "Format strings:"
      ],
      "metadata": {
        "id": "JE2Rju_J6Yeg"
      }
    },
    {
      "cell_type": "code",
      "source": [
        "print(\"HELLO\" + \" \" + \"WORLD\")\n",
        "print(\"HELLO\", \"WORLD\")\n",
        "\n",
        "# format string:\n",
        "x = \"WORLD\"\n",
        "print(f\"HELLO {x}\")\n",
        "\n",
        "price = 4.5\n",
        "print(f\"THE PRICE IS: ${price}\")\n",
        "print(\"THE PRICE IS: $\" + str(price) )"
      ],
      "metadata": {
        "colab": {
          "base_uri": "https://localhost:8080/"
        },
        "id": "cb5OBuHi6ZkK",
        "outputId": "0cc46924-90a4-493a-e625-5681af4882bc"
      },
      "execution_count": null,
      "outputs": [
        {
          "output_type": "stream",
          "name": "stdout",
          "text": [
            "HELLO WORLD\n",
            "HELLO WORLD\n",
            "HELLO WORLD\n",
            "THE PRICE IS: $4.5\n",
            "THE PRICE IS: $4.5\n"
          ]
        }
      ]
    },
    {
      "cell_type": "code",
      "source": [],
      "metadata": {
        "id": "ou7O9UhE7SYX"
      },
      "execution_count": null,
      "outputs": []
    },
    {
      "cell_type": "markdown",
      "source": [
        "String case manipulation:"
      ],
      "metadata": {
        "id": "BvXhgnda6aaC"
      }
    },
    {
      "cell_type": "code",
      "source": [
        "# to upper case:\n",
        "\n",
        "print(\"heLLo\".upper())\n",
        "\n",
        "# to lower case:\n",
        "print(\"heLLo\".lower())\n",
        "\n",
        "# to title case:\n",
        "\n",
        "x = \"HelLo\"\n",
        "x = x.lower()\n",
        "print(x)"
      ],
      "metadata": {
        "colab": {
          "base_uri": "https://localhost:8080/"
        },
        "id": "qvwz0ruD6ejK",
        "outputId": "fbc58bd4-813c-4af4-98e7-1a60734daa11"
      },
      "execution_count": null,
      "outputs": [
        {
          "output_type": "stream",
          "name": "stdout",
          "text": [
            "HELLO\n",
            "hello\n",
            "hello\n"
          ]
        }
      ]
    },
    {
      "cell_type": "markdown",
      "source": [
        "Strings are somewhat list-like, so we can convert them to lists of their characters, and perform operations such as list slicing (revisit after covering lists):"
      ],
      "metadata": {
        "id": "RvhJcbg76fXP"
      }
    },
    {
      "cell_type": "code",
      "source": [
        "# \"HELLO\"[0:3]"
      ],
      "metadata": {
        "id": "uzqkloCW6icH"
      },
      "execution_count": null,
      "outputs": []
    },
    {
      "cell_type": "code",
      "source": [
        "# list(\"HELLO\")"
      ],
      "metadata": {
        "id": "jFWYLzDF6omD"
      },
      "execution_count": null,
      "outputs": []
    },
    {
      "cell_type": "markdown",
      "source": [
        "## Booleans"
      ],
      "metadata": {
        "id": "iOmDak3chOVb"
      }
    },
    {
      "cell_type": "code",
      "source": [
        "print(True)\n",
        "\n",
        "print(False)"
      ],
      "metadata": {
        "id": "_F9koW6PhQMa",
        "colab": {
          "base_uri": "https://localhost:8080/"
        },
        "outputId": "1755d744-c287-420b-9794-f9b330bf6f4b"
      },
      "execution_count": null,
      "outputs": [
        {
          "output_type": "stream",
          "name": "stdout",
          "text": [
            "True\n",
            "False\n"
          ]
        }
      ]
    },
    {
      "cell_type": "markdown",
      "source": [
        "# Logical Operators"
      ],
      "metadata": {
        "id": "-yI9zLV1Fkuj"
      }
    },
    {
      "cell_type": "markdown",
      "source": [
        "https://www.w3schools.com/python/python_operators.asp"
      ],
      "metadata": {
        "id": "p-LOAbkK7g3L"
      }
    },
    {
      "cell_type": "markdown",
      "source": [
        "Equality checking:"
      ],
      "metadata": {
        "id": "FAAjPriY7iwS"
      }
    },
    {
      "cell_type": "code",
      "source": [
        "print(4 == 5)\n",
        "print(4 != 5)"
      ],
      "metadata": {
        "id": "l614JVvIkq4f",
        "colab": {
          "base_uri": "https://localhost:8080/"
        },
        "outputId": "5dd647f9-d6ff-4012-aa20-9e6b0581d3e7"
      },
      "execution_count": null,
      "outputs": [
        {
          "output_type": "stream",
          "name": "stdout",
          "text": [
            "False\n",
            "True\n"
          ]
        }
      ]
    },
    {
      "cell_type": "code",
      "source": [
        "True == False"
      ],
      "metadata": {
        "id": "5H_nbLDfkhRc",
        "colab": {
          "base_uri": "https://localhost:8080/"
        },
        "outputId": "db35b27a-d9f8-4919-b357-3e518687ba27"
      },
      "execution_count": null,
      "outputs": [
        {
          "output_type": "execute_result",
          "data": {
            "text/plain": [
              "False"
            ]
          },
          "metadata": {},
          "execution_count": 58
        }
      ]
    },
    {
      "cell_type": "code",
      "source": [
        "2 + 2 == 4"
      ],
      "metadata": {
        "id": "pTp8u8sGkkxD",
        "colab": {
          "base_uri": "https://localhost:8080/"
        },
        "outputId": "4006ff61-70a1-4530-bb35-773f6a11ea07"
      },
      "execution_count": null,
      "outputs": [
        {
          "output_type": "execute_result",
          "data": {
            "text/plain": [
              "True"
            ]
          },
          "metadata": {},
          "execution_count": 59
        }
      ]
    },
    {
      "cell_type": "markdown",
      "source": [
        "Arithmetic comparisons:"
      ],
      "metadata": {
        "id": "1GZBOhqq7nxX"
      }
    },
    {
      "cell_type": "code",
      "source": [
        "print(4 > 5)\n",
        "print(4 >= 5)\n",
        "print(4 < 5)\n",
        "print(4 <= 5)"
      ],
      "metadata": {
        "id": "XgYrqur1kwn2",
        "colab": {
          "base_uri": "https://localhost:8080/"
        },
        "outputId": "39c52d33-1f59-4e3a-fc68-e25f11715a45"
      },
      "execution_count": null,
      "outputs": [
        {
          "output_type": "stream",
          "name": "stdout",
          "text": [
            "False\n",
            "False\n",
            "True\n",
            "True\n"
          ]
        }
      ]
    },
    {
      "cell_type": "markdown",
      "source": [
        "Inclusion checking (checking if substring in larger string, checking if item included in a list):"
      ],
      "metadata": {
        "id": "R2VshZ2n7tLn"
      }
    },
    {
      "cell_type": "code",
      "source": [
        "message = \"HELLO\"\n",
        "\n",
        "print(\"HEL\" in message)\n",
        "print(\"h\" in message)\n",
        "print(\"HEL\" not in message)"
      ],
      "metadata": {
        "colab": {
          "base_uri": "https://localhost:8080/"
        },
        "id": "XNNARLjW7ukn",
        "outputId": "19d7bfcb-f5fa-4452-da22-1304db0b137d"
      },
      "execution_count": null,
      "outputs": [
        {
          "output_type": "stream",
          "name": "stdout",
          "text": [
            "True\n",
            "False\n",
            "False\n"
          ]
        }
      ]
    },
    {
      "cell_type": "code",
      "source": [
        "selection = \"rock\"\n",
        "valid_options = [\"rock\", \"paper\", \"scissors\"]\n",
        "selection in valid_options"
      ],
      "metadata": {
        "colab": {
          "base_uri": "https://localhost:8080/"
        },
        "id": "zi8PvyPu7vNw",
        "outputId": "4593033f-c7fe-430a-87f9-144f5000d64d"
      },
      "execution_count": null,
      "outputs": [
        {
          "output_type": "execute_result",
          "data": {
            "text/plain": [
              "True"
            ]
          },
          "metadata": {},
          "execution_count": 63
        }
      ]
    },
    {
      "cell_type": "markdown",
      "source": [
        "Compound expressions:"
      ],
      "metadata": {
        "id": "rIT2RY9zQUpX"
      }
    },
    {
      "cell_type": "code",
      "source": [
        "print(True and True)\n",
        "print(True and False)\n",
        "print(False and True)"
      ],
      "metadata": {
        "colab": {
          "base_uri": "https://localhost:8080/"
        },
        "id": "PSMcMpdFQWLx",
        "outputId": "874d0117-5cac-4c5f-a07d-b66351a012a9"
      },
      "execution_count": null,
      "outputs": [
        {
          "output_type": "stream",
          "name": "stdout",
          "text": [
            "True\n",
            "False\n",
            "False\n"
          ]
        }
      ]
    },
    {
      "cell_type": "code",
      "source": [
        "print(True or False)\n",
        "print(False or True)\n",
        "print(False or False)"
      ],
      "metadata": {
        "colab": {
          "base_uri": "https://localhost:8080/"
        },
        "id": "BqOTvmoEQsxQ",
        "outputId": "eab803c4-d675-48b7-880d-37c20fc508f4"
      },
      "execution_count": null,
      "outputs": [
        {
          "output_type": "stream",
          "name": "stdout",
          "text": [
            "True\n",
            "True\n",
            "False\n"
          ]
        }
      ]
    },
    {
      "cell_type": "code",
      "source": [
        "x = 5\n",
        "\n",
        "print(x < 10 and x > 8)\n",
        "print(x < 10 or x > 8)"
      ],
      "metadata": {
        "colab": {
          "base_uri": "https://localhost:8080/"
        },
        "id": "Ih4jy0lHQ6Hm",
        "outputId": "7b211392-d47e-496c-b019-8d5f11048d09"
      },
      "execution_count": null,
      "outputs": [
        {
          "output_type": "stream",
          "name": "stdout",
          "text": [
            "False\n",
            "True\n"
          ]
        }
      ]
    },
    {
      "cell_type": "markdown",
      "source": [
        "# Conditional Logic"
      ],
      "metadata": {
        "id": "4-bfhqcNeSLL"
      }
    },
    {
      "cell_type": "code",
      "source": [
        "# if __________:\n",
        "#     ________________\n"
      ],
      "metadata": {
        "id": "sTnGMIiRWFaW"
      },
      "execution_count": null,
      "outputs": []
    },
    {
      "cell_type": "code",
      "source": [
        "# if __________:\n",
        "#     ________________\n",
        "# else:\n",
        "#     ______________"
      ],
      "metadata": {
        "id": "XDVUFJYtV-CG"
      },
      "execution_count": null,
      "outputs": []
    },
    {
      "cell_type": "code",
      "source": [
        "if False:\n",
        "    print(\"YEP\")\n",
        "else:\n",
        "    print(\"NOPE\")\n",
        "\n",
        "print(\"BOTTOM\")"
      ],
      "metadata": {
        "colab": {
          "base_uri": "https://localhost:8080/"
        },
        "id": "StOsagjrWUa0",
        "outputId": "1c49e0ac-d7ac-43b9-dee7-ab65af071c78"
      },
      "execution_count": null,
      "outputs": [
        {
          "output_type": "stream",
          "name": "stdout",
          "text": [
            "NOPE\n",
            "BOTTOM\n"
          ]
        }
      ]
    },
    {
      "cell_type": "code",
      "execution_count": null,
      "metadata": {
        "id": "aFccr05KeB5j",
        "colab": {
          "base_uri": "https://localhost:8080/"
        },
        "outputId": "45c7297f-397a-4c31-82b9-b91c812c1aab"
      },
      "outputs": [
        {
          "output_type": "stream",
          "name": "stdout",
          "text": [
            "YEP\n",
            "BOTTOM\n"
          ]
        }
      ],
      "source": [
        "x = 5\n",
        "\n",
        "if x > 1:\n",
        "    print(\"YEP\")\n",
        "\n",
        "print(\"BOTTOM\")"
      ]
    },
    {
      "cell_type": "code",
      "source": [
        "x = 5\n",
        "\n",
        "if x > 10:\n",
        "    print(\"YEP\")\n",
        "\n",
        "print(\"BOTTOM\")"
      ],
      "metadata": {
        "id": "nx0QG-ANmMTb",
        "colab": {
          "base_uri": "https://localhost:8080/"
        },
        "outputId": "a35fe3b0-51ca-49b2-c058-e8664008c0fc"
      },
      "execution_count": null,
      "outputs": [
        {
          "output_type": "stream",
          "name": "stdout",
          "text": [
            "BOTTOM\n"
          ]
        }
      ]
    },
    {
      "cell_type": "code",
      "source": [
        "x = 5\n",
        "\n",
        "if x > 10:\n",
        "    print(\"YEP\")\n",
        "else:\n",
        "    print(\"NOPE\")\n",
        "\n",
        "print(\"BOTTOM\")"
      ],
      "metadata": {
        "id": "md5Utgs5mcNo",
        "colab": {
          "base_uri": "https://localhost:8080/"
        },
        "outputId": "a691d1dc-5b1c-4fcb-a31e-7e5edff16bc2"
      },
      "execution_count": null,
      "outputs": [
        {
          "output_type": "stream",
          "name": "stdout",
          "text": [
            "NOPE\n",
            "BOTTOM\n"
          ]
        }
      ]
    },
    {
      "cell_type": "code",
      "source": [
        "x = 5\n",
        "\n",
        "if x > 10:\n",
        "    print(\"YEP\")\n",
        "    print(\"-----------\")\n",
        "    print(\"YEAH\")\n",
        "else:\n",
        "    print(\"NOPE\")\n",
        "    print(\"..........\")\n",
        "    print(\"NO\")\n",
        "\n",
        "print(\"BOTTOM\")"
      ],
      "metadata": {
        "colab": {
          "base_uri": "https://localhost:8080/"
        },
        "id": "CXZ5loRrXfKs",
        "outputId": "65b02d1e-a514-4faf-ff50-ff9dd11e570d"
      },
      "execution_count": null,
      "outputs": [
        {
          "output_type": "stream",
          "name": "stdout",
          "text": [
            "NOPE\n",
            "..........\n",
            "NO\n",
            "BOTTOM\n"
          ]
        }
      ]
    },
    {
      "cell_type": "code",
      "source": [
        "x = 5\n",
        "\n",
        "if x > 10:\n",
        "    print(\"GREATER THAN TEN\")\n",
        "elif x > 2:\n",
        "    print(\"GREATER THAN TWO\")\n",
        "else:\n",
        "    print(\"NOPE\")\n",
        "\n",
        "print(\"BOTTOM\")"
      ],
      "metadata": {
        "colab": {
          "base_uri": "https://localhost:8080/"
        },
        "id": "FJdVeOJuXyns",
        "outputId": "c21b6750-7beb-4e29-9f94-01dddf0915e3"
      },
      "execution_count": null,
      "outputs": [
        {
          "output_type": "stream",
          "name": "stdout",
          "text": [
            "GREATER THAN TWO\n",
            "BOTTOM\n"
          ]
        }
      ]
    },
    {
      "cell_type": "code",
      "source": [
        "x = 5\n",
        "\n",
        "if x > 10:\n",
        "    print(\"GREATER THAN TEN\")\n",
        "elif x > 1:\n",
        "    print(\"GREATER THAN ONE\")\n",
        "elif x > 2:\n",
        "    print(\"GREATER THAN TWO\")\n",
        "else:\n",
        "    print(\"NOPE\")\n",
        "\n",
        "print(\"BOTTOM\")"
      ],
      "metadata": {
        "colab": {
          "base_uri": "https://localhost:8080/"
        },
        "id": "Mkm3-mlMYR25",
        "outputId": "864e5671-044c-457f-e542-d777d0cac124"
      },
      "execution_count": null,
      "outputs": [
        {
          "output_type": "stream",
          "name": "stdout",
          "text": [
            "GREATER THAN ONE\n",
            "BOTTOM\n"
          ]
        }
      ]
    },
    {
      "cell_type": "markdown",
      "source": [
        "Using compound expressions:"
      ],
      "metadata": {
        "id": "XtjFchJrnn1X"
      }
    },
    {
      "cell_type": "code",
      "source": [],
      "metadata": {
        "id": "ekllDKernpOw"
      },
      "execution_count": null,
      "outputs": []
    },
    {
      "cell_type": "code",
      "source": [],
      "metadata": {
        "id": "cl6QX6MbnvCo"
      },
      "execution_count": null,
      "outputs": []
    },
    {
      "cell_type": "markdown",
      "source": [
        "# Python Modules"
      ],
      "metadata": {
        "id": "ytBi6NpGl4u7"
      }
    },
    {
      "cell_type": "markdown",
      "source": [
        "https://docs.python.org/3/library/"
      ],
      "metadata": {
        "id": "PTUXJWJzOv6k"
      }
    },
    {
      "cell_type": "markdown",
      "source": [
        "## The `random` Module\n",
        "\n",
        "https://docs.python.org/3/library/random.html"
      ],
      "metadata": {
        "id": "nFy7Z_KXnlRn"
      }
    },
    {
      "cell_type": "code",
      "source": [
        "import random\n",
        "\n",
        "# generate a random number\n",
        "x = random.random()\n",
        "print(x)"
      ],
      "metadata": {
        "colab": {
          "base_uri": "https://localhost:8080/"
        },
        "id": "zUmIzJ3qoVag",
        "outputId": "c76bdb92-a245-4a12-8967-01c06b15c524"
      },
      "execution_count": null,
      "outputs": [
        {
          "output_type": "stream",
          "name": "stdout",
          "text": [
            "0.0262227638044501\n"
          ]
        }
      ]
    },
    {
      "cell_type": "code",
      "source": [
        "flavors = [\"vanilla bean\", \"chocolate\", \"strawberry\"]\n",
        "\n",
        "# how can we print one of these at random?\n",
        "\n",
        "random.choice(flavors)"
      ],
      "metadata": {
        "id": "QBezh0ffpXbZ",
        "colab": {
          "base_uri": "https://localhost:8080/",
          "height": 35
        },
        "outputId": "eeb92bab-132e-4acf-c50b-0e27e1c37dc1"
      },
      "execution_count": null,
      "outputs": [
        {
          "output_type": "execute_result",
          "data": {
            "text/plain": [
              "'chocolate'"
            ],
            "application/vnd.google.colaboratory.intrinsic+json": {
              "type": "string"
            }
          },
          "metadata": {},
          "execution_count": 102
        }
      ]
    },
    {
      "cell_type": "markdown",
      "source": [
        "## The `statistics` Module"
      ],
      "metadata": {
        "id": "I2E2ONoYGcWd"
      }
    },
    {
      "cell_type": "markdown",
      "source": [
        "https://docs.python.org/3/library/statistics.html"
      ],
      "metadata": {
        "id": "470VA2LrF5yH"
      }
    },
    {
      "cell_type": "code",
      "source": [
        "import statistics\n",
        "\n",
        "statistics.mean([1, 2, 3, 4, 4])"
      ],
      "metadata": {
        "colab": {
          "base_uri": "https://localhost:8080/"
        },
        "id": "iNsRLV9Ean_z",
        "outputId": "5ea2804b-d76e-450f-d0ce-100c94c80ab8"
      },
      "execution_count": null,
      "outputs": [
        {
          "output_type": "execute_result",
          "data": {
            "text/plain": [
              "2.8"
            ]
          },
          "metadata": {},
          "execution_count": 5
        }
      ]
    },
    {
      "cell_type": "code",
      "source": [
        "from statistics import mean #, median, mode\n",
        "\n",
        "print(mean([1, 2, 3, 4, 4]))\n",
        "\n",
        "print(mean([1, 2, 3, 4, 4]))\n",
        "\n",
        "#mean = mean([1, 2, 3, 4, 4])\n",
        "#print(mean)\n",
        "\n",
        "#my_func = mean\n",
        "#my_func([1,3,5])"
      ],
      "metadata": {
        "colab": {
          "base_uri": "https://localhost:8080/"
        },
        "id": "Vv5gwUJGaNRe",
        "outputId": "06532cd1-440d-4884-e0d1-d703eb09dfc7"
      },
      "execution_count": null,
      "outputs": [
        {
          "output_type": "stream",
          "name": "stdout",
          "text": [
            "2.8\n",
            "2.8\n"
          ]
        }
      ]
    },
    {
      "cell_type": "code",
      "source": [
        "prices = [100, 150, 200, 500]\n",
        "\n"
      ],
      "metadata": {
        "id": "V-7rdKYRF68m"
      },
      "execution_count": null,
      "outputs": []
    },
    {
      "cell_type": "markdown",
      "source": [
        "Aliasing:"
      ],
      "metadata": {
        "id": "Hajd5ZufaBe8"
      }
    },
    {
      "cell_type": "code",
      "source": [
        "import statistics as st\n",
        "\n",
        "st.mean([1, 2, 3, 4, 4])\n",
        "\n",
        "#aliasing the module"
      ],
      "metadata": {
        "id": "ie1ljqwMF7UG",
        "outputId": "408df970-3232-4832-af72-792fc6055980",
        "colab": {
          "base_uri": "https://localhost:8080/"
        }
      },
      "execution_count": null,
      "outputs": [
        {
          "output_type": "execute_result",
          "data": {
            "text/plain": [
              "2.8"
            ]
          },
          "metadata": {},
          "execution_count": 2
        }
      ]
    },
    {
      "cell_type": "code",
      "source": [
        "from statistics import mean as st_mean\n",
        "\n",
        "st_mean([1, 2, 3, 4, 4])\n",
        "\n",
        "#aliasing the function"
      ],
      "metadata": {
        "id": "v-73cOc4atJS",
        "outputId": "f87aca46-4561-4664-994f-81a520fb3290",
        "colab": {
          "base_uri": "https://localhost:8080/"
        }
      },
      "execution_count": null,
      "outputs": [
        {
          "output_type": "execute_result",
          "data": {
            "text/plain": [
              "2.8"
            ]
          },
          "metadata": {},
          "execution_count": 7
        }
      ]
    },
    {
      "cell_type": "markdown",
      "source": [
        "# Custom Functions"
      ],
      "metadata": {
        "id": "ub34JcW029qz"
      }
    },
    {
      "cell_type": "code",
      "source": [
        "# DEFINITION\n",
        "\n",
        "def enlarge(n):      #define some function with parameters, colin\n",
        "    print(\"inside the scope of the function\")   #indent, then\n",
        "    #print(n)         #these things are printed inside the function until its called later (next cell)\n",
        "\n",
        "    return n * 100  #return statement gives us a value back to refer to later\n"
      ],
      "metadata": {
        "id": "tGPml6pstvPc"
      },
      "execution_count": 3,
      "outputs": []
    },
    {
      "cell_type": "code",
      "source": [
        "# INVOCATION / CALL\n",
        "\n",
        "result = enlarge(4)\n",
        "print(result)\n",
        "#you must run the first cell above in order to get the function defined in the notebooks memory"
      ],
      "metadata": {
        "id": "7iKBkvxBcRr9",
        "outputId": "a1999ca7-e988-485a-b625-dd5dd59b0f3f",
        "colab": {
          "base_uri": "https://localhost:8080/"
        }
      },
      "execution_count": 4,
      "outputs": [
        {
          "output_type": "stream",
          "name": "stdout",
          "text": [
            "inside the scope of the function\n",
            "400\n"
          ]
        }
      ]
    },
    {
      "cell_type": "markdown",
      "source": [
        "UNIT TESTS:"
      ],
      "metadata": {
        "id": "8zLf9pOKfCiw"
      }
    },
    {
      "cell_type": "code",
      "source": [
        "assert 2+2 == 4\n",
        "\n",
        "#assert 2+2 == 5"
      ],
      "metadata": {
        "id": "rzb8Fen-9fd0",
        "colab": {
          "base_uri": "https://localhost:8080/",
          "height": 204
        },
        "outputId": "3fe85306-4a9d-4263-afb2-17ef2ffa2497"
      },
      "execution_count": 5,
      "outputs": [
        {
          "output_type": "error",
          "ename": "AssertionError",
          "evalue": "ignored",
          "traceback": [
            "\u001b[0;31m---------------------------------------------------------------------------\u001b[0m",
            "\u001b[0;31mAssertionError\u001b[0m                            Traceback (most recent call last)",
            "\u001b[0;32m<ipython-input-5-dd327a01cf69>\u001b[0m in \u001b[0;36m<cell line: 3>\u001b[0;34m()\u001b[0m\n\u001b[1;32m      1\u001b[0m \u001b[0;32massert\u001b[0m \u001b[0;36m2\u001b[0m\u001b[0;34m+\u001b[0m\u001b[0;36m2\u001b[0m \u001b[0;34m==\u001b[0m \u001b[0;36m4\u001b[0m\u001b[0;34m\u001b[0m\u001b[0;34m\u001b[0m\u001b[0m\n\u001b[1;32m      2\u001b[0m \u001b[0;34m\u001b[0m\u001b[0m\n\u001b[0;32m----> 3\u001b[0;31m \u001b[0;32massert\u001b[0m \u001b[0;36m2\u001b[0m\u001b[0;34m+\u001b[0m\u001b[0;36m2\u001b[0m \u001b[0;34m==\u001b[0m \u001b[0;36m5\u001b[0m\u001b[0;34m\u001b[0m\u001b[0;34m\u001b[0m\u001b[0m\n\u001b[0m",
            "\u001b[0;31mAssertionError\u001b[0m: "
          ]
        }
      ]
    },
    {
      "cell_type": "code",
      "source": [
        "assert enlarge(5) == 500"
      ],
      "metadata": {
        "colab": {
          "base_uri": "https://localhost:8080/"
        },
        "id": "MCyg2BL8ftGO",
        "outputId": "c292d71b-b3ad-4fa2-edd4-3290c461d930"
      },
      "execution_count": 6,
      "outputs": [
        {
          "output_type": "stream",
          "name": "stdout",
          "text": [
            "inside the scope of the function\n"
          ]
        }
      ]
    },
    {
      "cell_type": "code",
      "source": [
        "result = enlarge(5) #will only run the function if the assertion is correct\n",
        "assert result == 500 #can test if the enlarge function we made actually works"
      ],
      "metadata": {
        "colab": {
          "base_uri": "https://localhost:8080/"
        },
        "id": "EmfBaLIxfzB5",
        "outputId": "ac431482-3624-40ed-8161-f6d7ff452e72"
      },
      "execution_count": 8,
      "outputs": [
        {
          "output_type": "stream",
          "name": "stdout",
          "text": [
            "inside the scope of the function\n"
          ]
        }
      ]
    },
    {
      "cell_type": "code",
      "source": [],
      "metadata": {
        "id": "dUw-6m089fU7"
      },
      "execution_count": null,
      "outputs": []
    },
    {
      "cell_type": "markdown",
      "source": [
        "# Container Datatypes"
      ],
      "metadata": {
        "id": "ain7Gqu-iTYU"
      }
    },
    {
      "cell_type": "markdown",
      "source": [
        "## List"
      ],
      "metadata": {
        "id": "wLY9q4MoiVWI"
      }
    },
    {
      "cell_type": "code",
      "source": [
        "flavors = [\"vanilla bean\", \"chocolate\", \"strawberry\"]\n",
        "print(type(flavors)) #sometimes when you have errors, it doesn't hurt to check the data type\n",
        "print(flavors)"
      ],
      "metadata": {
        "id": "Qq451QqgiZ7W",
        "colab": {
          "base_uri": "https://localhost:8080/"
        },
        "outputId": "ce2388d7-855a-497e-b23d-cdee61072ea9"
      },
      "execution_count": 12,
      "outputs": [
        {
          "output_type": "stream",
          "name": "stdout",
          "text": [
            "<class 'list'>\n",
            "['vanilla bean', 'chocolate', 'strawberry']\n"
          ]
        }
      ]
    },
    {
      "cell_type": "code",
      "source": [
        "len (flavors)    #len function tells you the length of something\n",
        "                 #ie how many flavors"
      ],
      "metadata": {
        "colab": {
          "base_uri": "https://localhost:8080/"
        },
        "id": "Ghr2pO26qJdI",
        "outputId": "16449e7f-9c88-471f-f774-9fcc4dfd7760"
      },
      "execution_count": 15,
      "outputs": [
        {
          "output_type": "execute_result",
          "data": {
            "text/plain": [
              "5"
            ]
          },
          "metadata": {},
          "execution_count": 15
        }
      ]
    },
    {
      "cell_type": "code",
      "source": [
        "len (\"HELLO\") #how many letters"
      ],
      "metadata": {
        "id": "_-iNbEdPqik3"
      },
      "execution_count": null,
      "outputs": []
    },
    {
      "cell_type": "code",
      "source": [],
      "metadata": {
        "id": "6ucjBxn-qX3v"
      },
      "execution_count": null,
      "outputs": []
    },
    {
      "cell_type": "markdown",
      "source": [
        "Counting items in a list:"
      ],
      "metadata": {
        "id": "TkQas4VAjJWU"
      }
    },
    {
      "cell_type": "code",
      "source": [],
      "metadata": {
        "id": "bqOckJAHim1H"
      },
      "execution_count": 9,
      "outputs": []
    },
    {
      "cell_type": "markdown",
      "source": [
        "Access any item in a list by its numeric position.\n",
        "\n",
        "List index starts at 0."
      ],
      "metadata": {
        "id": "4MHhFt1xjQQw"
      }
    },
    {
      "cell_type": "code",
      "source": [
        "print(flavors)\n",
        "print(flavors [0]) #starts at 0\n",
        "print(flavors [1]) #you can print the item in the list with its index # place\n",
        "print(flavors [-1]) #you can use -1 to get the last item in the index"
      ],
      "metadata": {
        "colab": {
          "base_uri": "https://localhost:8080/"
        },
        "id": "0L6jv4cbqmNK",
        "outputId": "b4b30e36-0e6a-4b70-b94a-41b28540feeb"
      },
      "execution_count": 19,
      "outputs": [
        {
          "output_type": "stream",
          "name": "stdout",
          "text": [
            "['vanilla bean', 'chocolate', 'strawberry']\n",
            "vanilla bean\n",
            "chocolate\n",
            "strawberry\n"
          ]
        }
      ]
    },
    {
      "cell_type": "code",
      "source": [
        "#list slicing (cutting the deck and taking the first chunk or the last chunk or a middle)\n",
        "\n",
        "print(flavors[0:2]) #0:2 means start there at item in index position 0 and give us 2 items"
      ],
      "metadata": {
        "colab": {
          "base_uri": "https://localhost:8080/"
        },
        "id": "QiFr4UFDrL3L",
        "outputId": "f7066a0f-df32-4388-8ccd-81dca7a09a50"
      },
      "execution_count": 20,
      "outputs": [
        {
          "output_type": "stream",
          "name": "stdout",
          "text": [
            "['vanilla bean', 'chocolate']\n"
          ]
        }
      ]
    },
    {
      "cell_type": "code",
      "source": [],
      "metadata": {
        "id": "0uiihkx-jUNe"
      },
      "execution_count": 9,
      "outputs": []
    },
    {
      "cell_type": "code",
      "source": [],
      "metadata": {
        "id": "h8zcIna1IKjf"
      },
      "execution_count": 9,
      "outputs": []
    },
    {
      "cell_type": "code",
      "source": [
        "#print(flavors[5]) #> IndexError: list index out of range"
      ],
      "metadata": {
        "id": "RSJ7FPgWkA04"
      },
      "execution_count": 10,
      "outputs": []
    },
    {
      "cell_type": "code",
      "source": [],
      "metadata": {
        "id": "ZmgWztKvkVuP"
      },
      "execution_count": 10,
      "outputs": []
    },
    {
      "cell_type": "markdown",
      "source": [
        "Add an item to the end of a list:"
      ],
      "metadata": {
        "id": "ZXQLVEPGkdk_"
      }
    },
    {
      "cell_type": "code",
      "source": [
        "flavors = [\"vanilla bean\", \"chocolate\", \"strawberry\"]\n",
        "print(flavors)\n",
        "\n",
        "flavors.append(\"mocha\") #MUTATING (change underlying variable in place)\n",
        "\n",
        "print(flavors)"
      ],
      "metadata": {
        "id": "kEzHynsJkdH7",
        "colab": {
          "base_uri": "https://localhost:8080/"
        },
        "outputId": "900b8319-ea16-476d-a1ed-f66aacb1ed0a"
      },
      "execution_count": 22,
      "outputs": [
        {
          "output_type": "stream",
          "name": "stdout",
          "text": [
            "['vanilla bean', 'chocolate', 'strawberry']\n",
            "['vanilla bean', 'chocolate', 'strawberry', 'mocha']\n"
          ]
        }
      ]
    },
    {
      "cell_type": "markdown",
      "source": [
        "Conditionally add an item to the list (only if it doesn't already exist in the list):"
      ],
      "metadata": {
        "id": "gE8UyaAilPkw"
      }
    },
    {
      "cell_type": "code",
      "source": [
        "flavors = [\"vanilla bean\", \"chocolate\", \"strawberry\"]\n",
        "print(flavors)\n",
        "\n",
        "x = \"mocha\"\n",
        "if x not in flavors:\n",
        "    print(\"LETS ADD IT\")\n",
        "    flavors.append(x) #MUTATING (change underlying variable in place)\n",
        "\n",
        "print(flavors)"
      ],
      "metadata": {
        "id": "8c8s99FtlRMq",
        "colab": {
          "base_uri": "https://localhost:8080/"
        },
        "outputId": "f61713ff-5bfc-4f8d-9f86-cbb4220f34d7"
      },
      "execution_count": 24,
      "outputs": [
        {
          "output_type": "stream",
          "name": "stdout",
          "text": [
            "['vanilla bean', 'chocolate', 'strawberry']\n",
            "LETS ADD IT\n",
            "['vanilla bean', 'chocolate', 'strawberry', 'mocha']\n"
          ]
        }
      ]
    },
    {
      "cell_type": "markdown",
      "source": [
        "Add multiple items to a list (joining lists):"
      ],
      "metadata": {
        "id": "7qnodlwPk85R"
      }
    },
    {
      "cell_type": "code",
      "source": [
        "flavors = [\"vanilla bean\", \"chocolate\", \"strawberry\"]\n",
        "\n",
        "flavors += [\"mocha\", \"mint\"] # += just means itself plus whatever you add next\n",
        "print(flavors)"
      ],
      "metadata": {
        "id": "ZzO08PvVlAVC",
        "colab": {
          "base_uri": "https://localhost:8080/"
        },
        "outputId": "3ac648f4-4686-4d87-fe1a-b744a373d5f3"
      },
      "execution_count": 25,
      "outputs": [
        {
          "output_type": "stream",
          "name": "stdout",
          "text": [
            "['vanilla bean', 'chocolate', 'strawberry', 'mocha', 'mint']\n"
          ]
        }
      ]
    },
    {
      "cell_type": "code",
      "source": [],
      "metadata": {
        "id": "g3wcz44_l2aM"
      },
      "execution_count": 10,
      "outputs": []
    },
    {
      "cell_type": "markdown",
      "source": [
        "Removing items from a list:\n"
      ],
      "metadata": {
        "id": "wyTOdVCFn_Hz"
      }
    },
    {
      "cell_type": "code",
      "source": [
        "letters = [\"a\", \"b\", \"c\"]\n",
        "print(letters)\n",
        "\n",
        "del letters[0] # MUTATING\n",
        "\n",
        "print(letters)"
      ],
      "metadata": {
        "id": "KxifcLYvoBY3",
        "colab": {
          "base_uri": "https://localhost:8080/"
        },
        "outputId": "d8b1399f-d5db-4733-c828-fa05aed04d50"
      },
      "execution_count": 11,
      "outputs": [
        {
          "output_type": "stream",
          "name": "stdout",
          "text": [
            "['a', 'b', 'c']\n",
            "['b', 'c']\n"
          ]
        }
      ]
    },
    {
      "cell_type": "markdown",
      "source": [
        "## Dictionary"
      ],
      "metadata": {
        "id": "q3Buq6ByiXx7"
      }
    },
    {
      "cell_type": "code",
      "source": [
        "person = {\n",
        "    \"first_name\": \"Ophelia\",\n",
        "    \"last_name\": \"Clarke\",\n",
        "    \"message\": \"Hi, thanks for the ice cream!\",\n",
        "    \"fav_flavors\": [\"Vanilla Bean\", \"Mocha\", \"Strawberry\"]\n",
        "}\n",
        "\n",
        "#you can separate your dictionary into as many lines as you need to visually make it make sense\n",
        "\n",
        "print(type(person))\n",
        "print(person)"
      ],
      "metadata": {
        "id": "dI3Sm_2FiZlN",
        "colab": {
          "base_uri": "https://localhost:8080/"
        },
        "outputId": "61991e8a-0536-45ad-cd11-9764ba4547d9"
      },
      "execution_count": 26,
      "outputs": [
        {
          "output_type": "stream",
          "name": "stdout",
          "text": [
            "<class 'dict'>\n",
            "{'first_name': 'Ophelia', 'last_name': 'Clarke', 'message': 'Hi, thanks for the ice cream!', 'fav_flavors': ['Vanilla Bean', 'Mocha', 'Strawberry']}\n"
          ]
        }
      ]
    },
    {
      "cell_type": "markdown",
      "source": [
        "What keys are in this dictionary?"
      ],
      "metadata": {
        "id": "uTBcASqoo36L"
      }
    },
    {
      "cell_type": "code",
      "source": [
        "person.keys()"
      ],
      "metadata": {
        "id": "llLEfRTio6Ay",
        "colab": {
          "base_uri": "https://localhost:8080/"
        },
        "outputId": "16138471-1e56-4550-8b0c-ac4d19b84149"
      },
      "execution_count": 27,
      "outputs": [
        {
          "output_type": "execute_result",
          "data": {
            "text/plain": [
              "dict_keys(['first_name', 'last_name', 'message', 'fav_flavors'])"
            ]
          },
          "metadata": {},
          "execution_count": 27
        }
      ]
    },
    {
      "cell_type": "markdown",
      "source": [
        "What are the values in this dictionary?"
      ],
      "metadata": {
        "id": "aH5ymfKIpGhG"
      }
    },
    {
      "cell_type": "code",
      "source": [
        "person.values()"
      ],
      "metadata": {
        "id": "rALUlH_ZpJc2",
        "colab": {
          "base_uri": "https://localhost:8080/"
        },
        "outputId": "6d16ceff-efd8-41e1-a9af-43fb445fa1a8"
      },
      "execution_count": 28,
      "outputs": [
        {
          "output_type": "execute_result",
          "data": {
            "text/plain": [
              "dict_values(['Ophelia', 'Clarke', 'Hi, thanks for the ice cream!', ['Vanilla Bean', 'Mocha', 'Strawberry']])"
            ]
          },
          "metadata": {},
          "execution_count": 28
        }
      ]
    },
    {
      "cell_type": "markdown",
      "source": [
        "What are the pairs in this dictionary:"
      ],
      "metadata": {
        "id": "4YcWBMjSpcUU"
      }
    },
    {
      "cell_type": "code",
      "source": [
        "person.items()\n",
        "#outputs the items in a tupol ??? (spelling) in a list like way"
      ],
      "metadata": {
        "id": "7PgdsMHophEX",
        "colab": {
          "base_uri": "https://localhost:8080/"
        },
        "outputId": "312f4998-a655-4fb6-c4db-14756f63e53f"
      },
      "execution_count": 29,
      "outputs": [
        {
          "output_type": "execute_result",
          "data": {
            "text/plain": [
              "dict_items([('first_name', 'Ophelia'), ('last_name', 'Clarke'), ('message', 'Hi, thanks for the ice cream!'), ('fav_flavors', ['Vanilla Bean', 'Mocha', 'Strawberry'])])"
            ]
          },
          "metadata": {},
          "execution_count": 29
        }
      ]
    },
    {
      "cell_type": "markdown",
      "source": [
        "Accessing items in a dictionary, by the key name / attribute name:"
      ],
      "metadata": {
        "id": "ePuyUoOqpwRt"
      }
    },
    {
      "cell_type": "code",
      "source": [
        "person[\"first_name\"]"
      ],
      "metadata": {
        "id": "6vSjEyZdp4Qo",
        "colab": {
          "base_uri": "https://localhost:8080/",
          "height": 35
        },
        "outputId": "46322683-2f86-4720-a341-e0a979fa7c69"
      },
      "execution_count": 30,
      "outputs": [
        {
          "output_type": "execute_result",
          "data": {
            "text/plain": [
              "'Ophelia'"
            ],
            "application/vnd.google.colaboratory.intrinsic+json": {
              "type": "string"
            }
          },
          "metadata": {},
          "execution_count": 30
        }
      ]
    },
    {
      "cell_type": "code",
      "source": [
        "person['last_name']"
      ],
      "metadata": {
        "id": "M2e0r-IpqDmq",
        "colab": {
          "base_uri": "https://localhost:8080/",
          "height": 35
        },
        "outputId": "0def5ec6-0564-4a84-ad74-64598a7fe575"
      },
      "execution_count": 31,
      "outputs": [
        {
          "output_type": "execute_result",
          "data": {
            "text/plain": [
              "'Clarke'"
            ],
            "application/vnd.google.colaboratory.intrinsic+json": {
              "type": "string"
            }
          },
          "metadata": {},
          "execution_count": 31
        }
      ]
    },
    {
      "cell_type": "code",
      "source": [
        "person['message']"
      ],
      "metadata": {
        "id": "Lyz1Z2kcqGUh",
        "colab": {
          "base_uri": "https://localhost:8080/",
          "height": 35
        },
        "outputId": "9b08bf39-531a-4dd2-a853-89dfd2f7e494"
      },
      "execution_count": 32,
      "outputs": [
        {
          "output_type": "execute_result",
          "data": {
            "text/plain": [
              "'Hi, thanks for the ice cream!'"
            ],
            "application/vnd.google.colaboratory.intrinsic+json": {
              "type": "string"
            }
          },
          "metadata": {},
          "execution_count": 32
        }
      ]
    },
    {
      "cell_type": "code",
      "source": [
        "#person[\"OOPS\"] #> KeyError: 'OOPS' that says that key doesnt exist"
      ],
      "metadata": {
        "id": "aPQBFcouqIun"
      },
      "execution_count": 34,
      "outputs": []
    },
    {
      "cell_type": "markdown",
      "source": [
        "How can we access some value that's nested deeply inside this structure? For example this person's second favorite flavor?"
      ],
      "metadata": {
        "id": "3k2ncr1oqqnq"
      }
    },
    {
      "cell_type": "code",
      "source": [
        "person[\"fav_flavors\"][1] #chained accessors\n",
        "\n",
        "# or print(person[\"fav_flavors\"][1])\n"
      ],
      "metadata": {
        "id": "xsQlfl2_qxRg",
        "colab": {
          "base_uri": "https://localhost:8080/",
          "height": 35
        },
        "outputId": "8538a9fb-45f9-402f-fab3-2836b77bb49a"
      },
      "execution_count": 44,
      "outputs": [
        {
          "output_type": "execute_result",
          "data": {
            "text/plain": [
              "'Mocha'"
            ],
            "application/vnd.google.colaboratory.intrinsic+json": {
              "type": "string"
            }
          },
          "metadata": {},
          "execution_count": 44
        }
      ]
    },
    {
      "cell_type": "code",
      "source": [
        "#another method different than above is to take it one step at a time\n",
        "favs = person[\"fav_flavors\"]\n",
        "print(favs)\n",
        "print(type(favs))"
      ],
      "metadata": {
        "colab": {
          "base_uri": "https://localhost:8080/"
        },
        "id": "PPwmWIXywgNJ",
        "outputId": "3e9edc97-fd85-4b85-9361-ce9f8d6683ab"
      },
      "execution_count": 42,
      "outputs": [
        {
          "output_type": "stream",
          "name": "stdout",
          "text": [
            "['Vanilla Bean', 'Mocha', 'Strawberry']\n",
            "<class 'list'>\n"
          ]
        }
      ]
    },
    {
      "cell_type": "code",
      "source": [
        "favs[1]"
      ],
      "metadata": {
        "id": "JLLpFVOuq9km",
        "colab": {
          "base_uri": "https://localhost:8080/",
          "height": 35
        },
        "outputId": "b5b27105-8a1b-4ceb-c10e-cd71fa74af01"
      },
      "execution_count": 43,
      "outputs": [
        {
          "output_type": "execute_result",
          "data": {
            "text/plain": [
              "'Mocha'"
            ],
            "application/vnd.google.colaboratory.intrinsic+json": {
              "type": "string"
            }
          },
          "metadata": {},
          "execution_count": 43
        }
      ]
    },
    {
      "cell_type": "code",
      "source": [],
      "metadata": {
        "id": "Z0h3yBfVxxJ8"
      },
      "execution_count": null,
      "outputs": []
    },
    {
      "cell_type": "markdown",
      "source": [
        "# List Operations\n",
        "\n",
        "\n",
        "\n",
        "\n",
        "\n"
      ],
      "metadata": {
        "id": "8LKiMgIB5dtZ"
      }
    },
    {
      "cell_type": "code",
      "source": [
        "flavors = [\"vanilla bean\", \"chocolate\", \"strawberry\"]\n",
        "\n",
        "print(flavors)\n",
        "#print(flavors[0])\n",
        "#print(flavors[1])\n",
        "#print(flavors[2])"
      ],
      "metadata": {
        "id": "6y3sdXrNrRf-"
      },
      "execution_count": null,
      "outputs": []
    },
    {
      "cell_type": "code",
      "source": [
        "#for _______ in ________ :\n",
        "#...______________"
      ],
      "metadata": {
        "id": "qRMKhJxGxrdF"
      },
      "execution_count": null,
      "outputs": []
    },
    {
      "cell_type": "markdown",
      "source": [
        "## Looping"
      ],
      "metadata": {
        "id": "FbIGL_tR8MWV"
      }
    },
    {
      "cell_type": "code",
      "source": [
        "for item in flavors:\n",
        "    print(item)\n",
        "         #will continue to loop until its done with the list"
      ],
      "metadata": {
        "colab": {
          "base_uri": "https://localhost:8080/"
        },
        "id": "Z36dbsqayVVh",
        "outputId": "9055f47d-e1d4-43da-8ebd-a5165fcf7ce6"
      },
      "execution_count": 47,
      "outputs": [
        {
          "output_type": "stream",
          "name": "stdout",
          "text": [
            "vanilla bean\n",
            "chocolate\n",
            "strawberry\n",
            "mocha\n",
            "mint\n"
          ]
        }
      ]
    },
    {
      "cell_type": "markdown",
      "source": [
        "Loop through a list and access each item one at a time:"
      ],
      "metadata": {
        "id": "U4XBlPJOmQud"
      }
    },
    {
      "cell_type": "code",
      "source": [
        "for item in flavors:\n",
        "    print(\"--------------\")\n",
        "    print(item)\n",
        "    print(\"MORE STUFF\")\n",
        "    # NOTHING ELSE\n",
        "print(\"BOTTOM\")"
      ],
      "metadata": {
        "id": "lbHw1PdcrmId",
        "colab": {
          "base_uri": "https://localhost:8080/"
        },
        "outputId": "9beb3f25-1bfb-4b6c-cf87-ef9b66074670"
      },
      "execution_count": 46,
      "outputs": [
        {
          "output_type": "stream",
          "name": "stdout",
          "text": [
            "--------------\n",
            "vanilla bean\n",
            "MORE STUFF\n",
            "--------------\n",
            "chocolate\n",
            "MORE STUFF\n",
            "--------------\n",
            "strawberry\n",
            "MORE STUFF\n",
            "--------------\n",
            "mocha\n",
            "MORE STUFF\n",
            "--------------\n",
            "mint\n",
            "MORE STUFF\n",
            "BOTTOM\n"
          ]
        }
      ]
    },
    {
      "cell_type": "code",
      "source": [],
      "metadata": {
        "id": "UtdWjgGbmTmq"
      },
      "execution_count": null,
      "outputs": []
    },
    {
      "cell_type": "code",
      "source": [],
      "metadata": {
        "id": "ExTeIS1fmsOu"
      },
      "execution_count": null,
      "outputs": []
    },
    {
      "cell_type": "code",
      "source": [],
      "metadata": {
        "id": "JHDICDEOnlHY"
      },
      "execution_count": null,
      "outputs": []
    },
    {
      "cell_type": "code",
      "source": [],
      "metadata": {
        "id": "KZ9qmTw_nwRX"
      },
      "execution_count": null,
      "outputs": []
    },
    {
      "cell_type": "markdown",
      "source": [
        "## Sorting\n"
      ],
      "metadata": {
        "id": "awiLFMcr5guz"
      }
    },
    {
      "cell_type": "markdown",
      "source": [
        "https://docs.python.org/3/library/functions.html#sorted\n"
      ],
      "metadata": {
        "id": "VHon7HOVNzsa"
      }
    },
    {
      "cell_type": "markdown",
      "source": [
        "\n",
        "Sorting simple lists, like list of strings or numbers:"
      ],
      "metadata": {
        "id": "lqwoJ9e57M_f"
      }
    },
    {
      "cell_type": "code",
      "source": [
        "nums = [5, 100, 87, 45]\n",
        "print(nums)\n",
        "\n",
        "sorted(nums)    #python knows how to sort numbers in numberical numbers"
      ],
      "metadata": {
        "id": "iynQpwRM5iW8",
        "colab": {
          "base_uri": "https://localhost:8080/"
        },
        "outputId": "9be84dd6-eac4-49e5-f7b3-31321b24dfcf"
      },
      "execution_count": 48,
      "outputs": [
        {
          "output_type": "stream",
          "name": "stdout",
          "text": [
            "[5, 100, 87, 45]\n"
          ]
        },
        {
          "output_type": "execute_result",
          "data": {
            "text/plain": [
              "[5, 45, 87, 100]"
            ]
          },
          "metadata": {},
          "execution_count": 48
        }
      ]
    },
    {
      "cell_type": "code",
      "source": [
        "letters = [\"a\", \"z\", \"g\", \"p\", \"j\"]\n",
        "print(letters)\n",
        "\n",
        "sorted(letters) #python also knows how to sort letters in alphabetical order"
      ],
      "metadata": {
        "id": "v2Cl8o5L5iBl",
        "colab": {
          "base_uri": "https://localhost:8080/"
        },
        "outputId": "1b32bc1e-01f6-4eeb-ef23-799fc76bc68a"
      },
      "execution_count": 49,
      "outputs": [
        {
          "output_type": "stream",
          "name": "stdout",
          "text": [
            "['a', 'z', 'g', 'p', 'j']\n"
          ]
        },
        {
          "output_type": "execute_result",
          "data": {
            "text/plain": [
              "['a', 'g', 'j', 'p', 'z']"
            ]
          },
          "metadata": {},
          "execution_count": 49
        }
      ]
    },
    {
      "cell_type": "code",
      "source": [
        "letters = [\"a\", \"z\", \"g\", \"p\", \"j\"]\n",
        "print(letters)\n",
        "\n",
        "print(sorted(letters)) # NOT MUTATING\n",
        "\n",
        "print(letters)\n",
        "\n",
        "# storing the sorted list in another variable (or overwriting the original variable),\n",
        "# ... for later reference:\n",
        "sorted_letters = sorted(letters)\n",
        "print(sorted_letters)"
      ],
      "metadata": {
        "id": "uPXsLvXFNLj8",
        "colab": {
          "base_uri": "https://localhost:8080/"
        },
        "outputId": "bb2685a8-55a9-420c-e38d-5f08612955e2"
      },
      "execution_count": 50,
      "outputs": [
        {
          "output_type": "stream",
          "name": "stdout",
          "text": [
            "['a', 'z', 'g', 'p', 'j']\n",
            "['a', 'g', 'j', 'p', 'z']\n",
            "['a', 'z', 'g', 'p', 'j']\n",
            "['a', 'g', 'j', 'p', 'z']\n"
          ]
        }
      ]
    },
    {
      "cell_type": "markdown",
      "source": [
        "Sorting in descending order (using the `reverse` parameter):"
      ],
      "metadata": {
        "id": "GtY59JbzMyEW"
      }
    },
    {
      "cell_type": "code",
      "source": [
        "nums = [5, 100, 87, 45]\n",
        "\n",
        "sorted(nums, reverse=True)"
      ],
      "metadata": {
        "id": "CV2mJ1v-7Es9",
        "colab": {
          "base_uri": "https://localhost:8080/"
        },
        "outputId": "4258cc66-b68d-44b3-9e78-c35a19b965aa"
      },
      "execution_count": 52,
      "outputs": [
        {
          "output_type": "execute_result",
          "data": {
            "text/plain": [
              "[100, 87, 45, 5]"
            ]
          },
          "metadata": {},
          "execution_count": 52
        }
      ]
    },
    {
      "cell_type": "markdown",
      "source": [
        "Sorting more complex lists (like a list of dict), using the `key` parameter, in conjunction with a custom function or the `operator.itemgetter` function to specify how the list should be sorted:"
      ],
      "metadata": {
        "id": "Sx-NaQd-7ZkK"
      }
    },
    {
      "cell_type": "code",
      "source": [
        "teams = [\n",
        "    {\"city\": \"New York\", \"name\": \"Yankees\"},\n",
        "    {\"city\": \"New York\", \"name\": \"Mets\"},\n",
        "    {\"city\": \"Boston\", \"name\": \"Red Sox\"},\n",
        "    {\"city\": \"New Haven\", \"name\": \"Ravens\"}\n",
        "]\n",
        "print(type(teams))\n",
        "print(teams)"
      ],
      "metadata": {
        "colab": {
          "base_uri": "https://localhost:8080/"
        },
        "id": "tHNGbaUc7ceu",
        "outputId": "90e359b7-4910-4121-d04e-597813b5a6a7"
      },
      "execution_count": 53,
      "outputs": [
        {
          "output_type": "stream",
          "name": "stdout",
          "text": [
            "<class 'list'>\n",
            "[{'city': 'New York', 'name': 'Yankees'}, {'city': 'New York', 'name': 'Mets'}, {'city': 'Boston', 'name': 'Red Sox'}, {'city': 'New Haven', 'name': 'Ravens'}]\n"
          ]
        }
      ]
    },
    {
      "cell_type": "code",
      "source": [
        "# sorted(teams) #> TypeError: '<' not supported between instances of 'dict' and 'dict'"
      ],
      "metadata": {
        "id": "L-FBCjLo7c9E"
      },
      "execution_count": null,
      "outputs": []
    },
    {
      "cell_type": "markdown",
      "source": [
        "https://docs.python.org/3/library/operator.html#operator.itemgetter"
      ],
      "metadata": {
        "id": "Nfo7eaAnPZMD"
      }
    },
    {
      "cell_type": "code",
      "source": [
        "from operator import itemgetter #same as us defining our own custom function\n",
        "\n",
        "sorted(teams, key=itemgetter(\"city\"))"
      ],
      "metadata": {
        "id": "1n3HkuRW7ct0",
        "colab": {
          "base_uri": "https://localhost:8080/"
        },
        "outputId": "1719418f-232d-432e-e8eb-38f1c7b546be"
      },
      "execution_count": 54,
      "outputs": [
        {
          "output_type": "execute_result",
          "data": {
            "text/plain": [
              "[{'city': 'Boston', 'name': 'Red Sox'},\n",
              " {'city': 'New Haven', 'name': 'Ravens'},\n",
              " {'city': 'New York', 'name': 'Yankees'},\n",
              " {'city': 'New York', 'name': 'Mets'}]"
            ]
          },
          "metadata": {},
          "execution_count": 54
        }
      ]
    },
    {
      "cell_type": "code",
      "source": [
        "#this is what the item getter function is doing\n",
        "def team_city(team):\n",
        "    return teams(\"city\")"
      ],
      "metadata": {
        "id": "yce94DME1o1t"
      },
      "execution_count": 55,
      "outputs": []
    },
    {
      "cell_type": "code",
      "source": [
        "from operator import itemgetter\n",
        "\n",
        "sorted(teams, key=itemgetter(\"city\"), reverse=True)"
      ],
      "metadata": {
        "id": "4Cv9C0MD8sbE"
      },
      "execution_count": null,
      "outputs": []
    },
    {
      "cell_type": "code",
      "source": [
        "from operator import itemgetter\n",
        "\n",
        "sorted(teams, key=itemgetter(\"name\"))"
      ],
      "metadata": {
        "id": "nkmHF3Dd8z-F"
      },
      "execution_count": null,
      "outputs": []
    },
    {
      "cell_type": "code",
      "source": [
        "from operator import itemgetter\n",
        "\n",
        "# sort by city then name ASC\n",
        "\n",
        "def custom_sort(item):\n",
        "    return item[\"city\"] + \"-\" + item[\"name\"]\n",
        "\n",
        "sorted(teams, key=custom_sort)"
      ],
      "metadata": {
        "id": "HjfXDbcP9E8j"
      },
      "execution_count": null,
      "outputs": []
    },
    {
      "cell_type": "markdown",
      "source": [
        "## Mapping / Tranformation"
      ],
      "metadata": {
        "id": "p9MUVXSh5j2H"
      }
    },
    {
      "cell_type": "markdown",
      "source": [
        "Transform each and every item in the list, to a new \"mapped\" version of itself."
      ],
      "metadata": {
        "id": "6bryDD51ImWl"
      }
    },
    {
      "cell_type": "code",
      "source": [
        "nums = [5, 100, 87, 45]\n",
        "print(nums)\n",
        "print('---------')\n",
        "\n",
        "# transform each number, multipling it by 100\n",
        "# save the transformed value for later\n",
        "# sum of all transformed numbers\n",
        "\n",
        "big_nums = [] #create an empty list so we can save the list we make\n",
        "\n",
        "for n in nums:\n",
        "    #print(n)\n",
        "    #print(n*100)\n",
        "    big_nums.append(n*100)\n",
        "\n",
        "print(big_nums)\n",
        "sum(big_nums)"
      ],
      "metadata": {
        "id": "lFeES-Nd5mQF",
        "colab": {
          "base_uri": "https://localhost:8080/"
        },
        "outputId": "54aa6a50-edc4-4f5c-d17b-d97b88948c40"
      },
      "execution_count": 67,
      "outputs": [
        {
          "output_type": "stream",
          "name": "stdout",
          "text": [
            "[5, 100, 87, 45]\n",
            "---------\n",
            "[500, 10000, 8700, 4500]\n"
          ]
        }
      ]
    },
    {
      "cell_type": "markdown",
      "source": [
        "## Filtering"
      ],
      "metadata": {
        "id": "jzDH4iTH5m_2"
      }
    },
    {
      "cell_type": "markdown",
      "source": [
        "Select a subset of the items, only ones that match some logical condition."
      ],
      "metadata": {
        "id": "fg1KGmAGIik0"
      }
    },
    {
      "cell_type": "code",
      "source": [
        "nums = [5, 100, 87, 45]\n",
        "\n",
        "matching_nums = []\n",
        "\n",
        "for n in nums:\n",
        "   # matching_nums.append(n) this alone will give you the entire list\n",
        "   # what if we only want the numbers greater than 20?\n",
        "\n",
        "   if n > 20:\n",
        "    matching_nums.append(n)\n",
        "\n",
        "print(matching_nums)"
      ],
      "metadata": {
        "id": "VvUe54FO5oUk",
        "colab": {
          "base_uri": "https://localhost:8080/"
        },
        "outputId": "0f2302d6-994b-40e1-87b3-eb4dd5838d6d"
      },
      "execution_count": 69,
      "outputs": [
        {
          "output_type": "stream",
          "name": "stdout",
          "text": [
            "[100, 87, 45]\n"
          ]
        }
      ]
    },
    {
      "cell_type": "markdown",
      "source": [
        "## List Comprehensions"
      ],
      "metadata": {
        "id": "1PwLeSsu31E5"
      }
    },
    {
      "cell_type": "code",
      "source": [
        "# list comprehension for mapping:\n",
        "\n",
        "nums = [5, 100, 87, 45]\n",
        "\n",
        "#what we did earlier\n",
        "#big_nums = [] #create an empty list so we can save the list we make\n",
        "#\n",
        "#for n in nums:\n",
        "    #print(n)\n",
        "    #print(n*100)\n",
        "#    big_nums.append(n*100)\n",
        "\n",
        "\n",
        "#big_nums = [___ for ___ in____]      now were doing this in one line\n",
        "big_nums = [n * 100 for n in nums]\n",
        "\n",
        "print(big_nums)\n"
      ],
      "metadata": {
        "id": "VhBponZj5oqf",
        "colab": {
          "base_uri": "https://localhost:8080/"
        },
        "outputId": "709eca84-ccbc-48ba-9e6c-4b8140321dd1"
      },
      "execution_count": 70,
      "outputs": [
        {
          "output_type": "stream",
          "name": "stdout",
          "text": [
            "[500, 10000, 8700, 4500]\n"
          ]
        }
      ]
    },
    {
      "cell_type": "code",
      "source": [
        "# list comprehension for filtering:\n",
        "\n",
        "nums = [5, 100, 87, 45]\n",
        "\n",
        "#matching_nums = []\n",
        "#\n",
        "#for n in nums:\n",
        "#    #matching_nums.append(n)\n",
        "#    if n > 20:\n",
        "#        matching_nums.append(n)\n",
        "\n",
        "#matching_nums = [____ for ____ in _______ if _______]\n",
        "matching_nums = [n for n in nums if n > 20]\n",
        "print(matching_nums)"
      ],
      "metadata": {
        "id": "WZ7f3huJ6Au5"
      },
      "execution_count": null,
      "outputs": []
    },
    {
      "cell_type": "code",
      "source": [
        "#list comprehension for mapping and filtering\n",
        "nums = [5, 100, 87, 45]\n",
        "\n",
        "matching_nums = [n*100 for n in nums if n > 20]\n",
        "print(matching_nums)"
      ],
      "metadata": {
        "id": "QywHteI-6d4j"
      },
      "execution_count": null,
      "outputs": []
    }
  ]
}