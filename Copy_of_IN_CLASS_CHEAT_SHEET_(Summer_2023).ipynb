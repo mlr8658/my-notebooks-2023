{
  "nbformat": 4,
  "nbformat_minor": 0,
  "metadata": {
    "colab": {
      "provenance": [],
      "collapsed_sections": [
        "rpnQEg_YeMeQ",
        "ds6ET5i4eQO7",
        "4-bfhqcNeSLL",
        "ytBi6NpGl4u7",
        "pEtmrNUCvIyv",
        "ain7Gqu-iTYU"
      ],
      "toc_visible": true,
      "include_colab_link": true
    },
    "kernelspec": {
      "name": "python3",
      "display_name": "Python 3"
    },
    "language_info": {
      "name": "python"
    }
  },
  "cells": [
    {
      "cell_type": "markdown",
      "metadata": {
        "id": "view-in-github",
        "colab_type": "text"
      },
      "source": [
        "<a href=\"https://colab.research.google.com/github/mlr8658/my-notebooks-2023/blob/main/Copy_of_IN_CLASS_CHEAT_SHEET_(Summer_2023).ipynb\" target=\"_parent\"><img src=\"https://colab.research.google.com/assets/colab-badge.svg\" alt=\"Open In Colab\"/></a>"
      ]
    },
    {
      "cell_type": "markdown",
      "source": [
        "# Built In Functions\n",
        "\n",
        "https://docs.python.org/3/library/functions.html"
      ],
      "metadata": {
        "id": "rpnQEg_YeMeQ"
      }
    },
    {
      "cell_type": "markdown",
      "source": [
        "## Print Function"
      ],
      "metadata": {
        "id": "1vgU4Tf6eOh3"
      }
    },
    {
      "cell_type": "markdown",
      "source": [
        "Printing a single item:"
      ],
      "metadata": {
        "id": "4rTK6ZImFJ3B"
      }
    },
    {
      "cell_type": "code",
      "source": [
        "x = 5\n",
        "\n",
        "print(x)\n",
        "x # only if something is displayed as the last statement will it print its value - best practice to use print function tho"
      ],
      "metadata": {
        "id": "VAcLU07seUHl",
        "colab": {
          "base_uri": "https://localhost:8080/"
        },
        "outputId": "cfb966ff-71cd-41d7-bc48-3d0870bb1578"
      },
      "execution_count": 9,
      "outputs": [
        {
          "output_type": "stream",
          "name": "stdout",
          "text": [
            "5\n"
          ]
        },
        {
          "output_type": "execute_result",
          "data": {
            "text/plain": [
              "5"
            ]
          },
          "metadata": {},
          "execution_count": 9
        }
      ]
    },
    {
      "cell_type": "markdown",
      "source": [
        "Printing comma separated items:"
      ],
      "metadata": {
        "id": "JwLKM3DfFHsi"
      }
    },
    {
      "cell_type": "code",
      "source": [
        "print (x, \"hello\", 8)\n",
        "print (\"speed:\", x, \"mph\")"
      ],
      "metadata": {
        "id": "4X6qG1YNeTxZ",
        "colab": {
          "base_uri": "https://localhost:8080/"
        },
        "outputId": "9648cbb8-1afd-4d6b-bb23-c2e54c012807"
      },
      "execution_count": 4,
      "outputs": [
        {
          "output_type": "stream",
          "name": "stdout",
          "text": [
            "5 hello 8\n",
            "speed: 5 mph\n"
          ]
        }
      ]
    },
    {
      "cell_type": "markdown",
      "source": [
        "Printing vs displaying the last thing in a code cell:"
      ],
      "metadata": {
        "id": "Qkxvf2-NFXJR"
      }
    },
    {
      "cell_type": "markdown",
      "source": [
        "## Input Function"
      ],
      "metadata": {
        "id": "cvThiz1bjZaU"
      }
    },
    {
      "cell_type": "markdown",
      "source": [
        "Capturing user inputs:"
      ],
      "metadata": {
        "id": "t6lsWIhRFbfR"
      }
    },
    {
      "cell_type": "code",
      "source": [
        "my_name = input(\"please enter your name\")\n",
        "print(\"NAME:\", my_name)"
      ],
      "metadata": {
        "id": "F3QYFp9fjbDD",
        "colab": {
          "base_uri": "https://localhost:8080/"
        },
        "outputId": "0984b7a3-7ec1-4749-e5bd-77b4ac8b4b8a"
      },
      "execution_count": 12,
      "outputs": [
        {
          "output_type": "stream",
          "name": "stdout",
          "text": [
            "please enter your nameMegan\n",
            "NAME: Megan\n"
          ]
        }
      ]
    },
    {
      "cell_type": "code",
      "source": [],
      "metadata": {
        "id": "ces3qthFkFCb"
      },
      "execution_count": null,
      "outputs": []
    },
    {
      "cell_type": "markdown",
      "source": [
        "# Basic Datatypes"
      ],
      "metadata": {
        "id": "ds6ET5i4eQO7"
      }
    },
    {
      "cell_type": "code",
      "source": [
        "print(type(\"Hello\"))\n",
        "print(type(\"100\"))"
      ],
      "metadata": {
        "id": "xNPqUtULeUqV"
      },
      "execution_count": null,
      "outputs": []
    },
    {
      "cell_type": "code",
      "source": [
        "print(type(100))\n",
        "print(type(0.45))"
      ],
      "metadata": {
        "id": "wWpcgzNUf5bB"
      },
      "execution_count": null,
      "outputs": []
    },
    {
      "cell_type": "code",
      "source": [
        "print(type(True))\n",
        "print(type(False))"
      ],
      "metadata": {
        "id": "IdDGpVF9f6YP"
      },
      "execution_count": null,
      "outputs": []
    },
    {
      "cell_type": "code",
      "source": [
        "print(type(None))"
      ],
      "metadata": {
        "id": "-i_yPrk1gPQc"
      },
      "execution_count": null,
      "outputs": []
    },
    {
      "cell_type": "code",
      "source": [
        "print(type({\"a\":1, \"b\":2, \"c\":3}))"
      ],
      "metadata": {
        "id": "6Z8VhXbUgq0J"
      },
      "execution_count": null,
      "outputs": []
    },
    {
      "cell_type": "code",
      "source": [
        "print(type([1,2,3]))"
      ],
      "metadata": {
        "id": "C0auybWTg5Hw"
      },
      "execution_count": null,
      "outputs": []
    },
    {
      "cell_type": "markdown",
      "source": [
        "## Numbers"
      ],
      "metadata": {
        "id": "eZX7YN3mhNE-"
      }
    },
    {
      "cell_type": "code",
      "source": [
        "print(200 + 5)"
      ],
      "metadata": {
        "id": "a43sZfNoFZ57",
        "colab": {
          "base_uri": "https://localhost:8080/"
        },
        "outputId": "0f251332-1f88-4a48-a3f4-210a63c18718"
      },
      "execution_count": 5,
      "outputs": [
        {
          "output_type": "stream",
          "name": "stdout",
          "text": [
            "205\n"
          ]
        }
      ]
    },
    {
      "cell_type": "code",
      "source": [
        "speed_mph = 100\n",
        "print(speed_mph)\n"
      ],
      "metadata": {
        "id": "IOeYv7ZcFaZy",
        "colab": {
          "base_uri": "https://localhost:8080/"
        },
        "outputId": "e4299dd7-7046-41ff-9f39-d23d9ac30b87"
      },
      "execution_count": 6,
      "outputs": [
        {
          "output_type": "stream",
          "name": "stdout",
          "text": [
            "100\n"
          ]
        }
      ]
    },
    {
      "cell_type": "code",
      "source": [],
      "metadata": {
        "id": "EppTCFpThPup"
      },
      "execution_count": null,
      "outputs": []
    },
    {
      "cell_type": "code",
      "source": [],
      "metadata": {
        "id": "SgDQWTqmhY4e"
      },
      "execution_count": null,
      "outputs": []
    },
    {
      "cell_type": "code",
      "source": [],
      "metadata": {
        "id": "EibqXWDFhrjM"
      },
      "execution_count": null,
      "outputs": []
    },
    {
      "cell_type": "code",
      "source": [],
      "metadata": {
        "id": "GbqMf5F3iHDv"
      },
      "execution_count": null,
      "outputs": []
    },
    {
      "cell_type": "code",
      "source": [],
      "metadata": {
        "id": "b5QmsHpuiQNu"
      },
      "execution_count": null,
      "outputs": []
    },
    {
      "cell_type": "code",
      "source": [],
      "metadata": {
        "id": "U0kyZ5k3iS55"
      },
      "execution_count": null,
      "outputs": []
    },
    {
      "cell_type": "markdown",
      "source": [
        "## Strings"
      ],
      "metadata": {
        "id": "lQpbh3TJhL3i"
      }
    },
    {
      "cell_type": "code",
      "source": [
        "message = \"write anything with space\"\n",
        "print (message)"
      ],
      "metadata": {
        "id": "vxuepNBzhPVq",
        "colab": {
          "base_uri": "https://localhost:8080/"
        },
        "outputId": "d7bd6ff2-037d-4c62-d794-1788b545d529"
      },
      "execution_count": 8,
      "outputs": [
        {
          "output_type": "stream",
          "name": "stdout",
          "text": [
            "write anything with space\n"
          ]
        }
      ]
    },
    {
      "cell_type": "code",
      "source": [],
      "metadata": {
        "id": "qA9iEHWgig9h"
      },
      "execution_count": null,
      "outputs": []
    },
    {
      "cell_type": "markdown",
      "source": [
        "Concatenation"
      ],
      "metadata": {
        "id": "EJiMWAnZi6ED"
      }
    },
    {
      "cell_type": "code",
      "source": [
        "\"HELLO\" + \"WORLD\""
      ],
      "metadata": {
        "id": "nYNh3PuVilWV"
      },
      "execution_count": null,
      "outputs": []
    },
    {
      "cell_type": "code",
      "source": [
        "\"HELLO \" + \"WORLD\""
      ],
      "metadata": {
        "id": "0rdw3_fEi_Pv"
      },
      "execution_count": null,
      "outputs": []
    },
    {
      "cell_type": "code",
      "source": [
        "\"HELLO\" + \" WORLD\""
      ],
      "metadata": {
        "id": "05kwow1tjF0d"
      },
      "execution_count": null,
      "outputs": []
    },
    {
      "cell_type": "code",
      "source": [
        "\"HELLO\" + \" \" + \"WORLD\""
      ],
      "metadata": {
        "id": "vA6PGIb1jHb5"
      },
      "execution_count": null,
      "outputs": []
    },
    {
      "cell_type": "code",
      "source": [
        "print(2 + 2)\n",
        "\n",
        "print(\"2\" + \"2\")\n",
        "\n",
        "# print(2 + \"2\") #> TypeError: unsupported operand type(s) for +: 'int' and 'str'"
      ],
      "metadata": {
        "id": "NUDc7DuyjSax"
      },
      "execution_count": null,
      "outputs": []
    },
    {
      "cell_type": "markdown",
      "source": [
        "## Booleans"
      ],
      "metadata": {
        "id": "iOmDak3chOVb"
      }
    },
    {
      "cell_type": "code",
      "source": [
        "print(True)\n",
        "\n",
        "print(False)"
      ],
      "metadata": {
        "id": "_F9koW6PhQMa"
      },
      "execution_count": null,
      "outputs": []
    },
    {
      "cell_type": "markdown",
      "source": [
        "Logical operators:"
      ],
      "metadata": {
        "id": "-yI9zLV1Fkuj"
      }
    },
    {
      "cell_type": "code",
      "source": [
        "True == False"
      ],
      "metadata": {
        "id": "5H_nbLDfkhRc"
      },
      "execution_count": null,
      "outputs": []
    },
    {
      "cell_type": "code",
      "source": [
        "2+2 == 4"
      ],
      "metadata": {
        "id": "pTp8u8sGkkxD"
      },
      "execution_count": null,
      "outputs": []
    },
    {
      "cell_type": "code",
      "source": [
        "x = 5 # variable assignment using single =\n",
        "print(x)\n",
        "\n",
        "print(x == 4) # comparing\n",
        "print(x != 4)\n",
        "print(x > 4)\n",
        "print(x < 4)"
      ],
      "metadata": {
        "id": "l614JVvIkq4f"
      },
      "execution_count": null,
      "outputs": []
    },
    {
      "cell_type": "code",
      "source": [],
      "metadata": {
        "id": "XgYrqur1kwn2"
      },
      "execution_count": null,
      "outputs": []
    },
    {
      "cell_type": "markdown",
      "source": [
        "# Conditional Logic"
      ],
      "metadata": {
        "id": "4-bfhqcNeSLL"
      }
    },
    {
      "cell_type": "code",
      "execution_count": null,
      "metadata": {
        "id": "aFccr05KeB5j"
      },
      "outputs": [],
      "source": []
    },
    {
      "cell_type": "code",
      "source": [],
      "metadata": {
        "id": "nx0QG-ANmMTb"
      },
      "execution_count": null,
      "outputs": []
    },
    {
      "cell_type": "code",
      "source": [],
      "metadata": {
        "id": "md5Utgs5mcNo"
      },
      "execution_count": null,
      "outputs": []
    },
    {
      "cell_type": "markdown",
      "source": [
        "Using compound expressions:"
      ],
      "metadata": {
        "id": "XtjFchJrnn1X"
      }
    },
    {
      "cell_type": "code",
      "source": [],
      "metadata": {
        "id": "ekllDKernpOw"
      },
      "execution_count": null,
      "outputs": []
    },
    {
      "cell_type": "code",
      "source": [],
      "metadata": {
        "id": "cl6QX6MbnvCo"
      },
      "execution_count": null,
      "outputs": []
    },
    {
      "cell_type": "markdown",
      "source": [
        "# Python Modules"
      ],
      "metadata": {
        "id": "ytBi6NpGl4u7"
      }
    },
    {
      "cell_type": "markdown",
      "source": [
        "## The `random` Module\n",
        "\n",
        "https://docs.python.org/3/library/random.html"
      ],
      "metadata": {
        "id": "nFy7Z_KXnlRn"
      }
    },
    {
      "cell_type": "code",
      "source": [
        "import random\n",
        "\n",
        "# generate a random number\n",
        "x = random.random()\n",
        "print(x)"
      ],
      "metadata": {
        "colab": {
          "base_uri": "https://localhost:8080/"
        },
        "id": "zUmIzJ3qoVag",
        "outputId": "9f7431b5-b4bf-4f90-9485-f32f6b7fe4b4"
      },
      "execution_count": null,
      "outputs": [
        {
          "output_type": "stream",
          "name": "stdout",
          "text": [
            "0.25236309836064164\n"
          ]
        }
      ]
    },
    {
      "cell_type": "code",
      "source": [
        "flavors = [\"vanilla bean\", \"chocolate\", \"strawberry\"]\n",
        "\n",
        "# how can we print one of these at random?\n",
        "\n"
      ],
      "metadata": {
        "id": "QBezh0ffpXbZ"
      },
      "execution_count": null,
      "outputs": []
    },
    {
      "cell_type": "markdown",
      "source": [
        "## The `statistics` Module"
      ],
      "metadata": {
        "id": "I2E2ONoYGcWd"
      }
    },
    {
      "cell_type": "markdown",
      "source": [
        "https://docs.python.org/3/library/statistics.html"
      ],
      "metadata": {
        "id": "470VA2LrF5yH"
      }
    },
    {
      "cell_type": "code",
      "source": [],
      "metadata": {
        "id": "V-7rdKYRF68m"
      },
      "execution_count": null,
      "outputs": []
    },
    {
      "cell_type": "code",
      "source": [],
      "metadata": {
        "id": "ie1ljqwMF7UG"
      },
      "execution_count": null,
      "outputs": []
    }
  ]
}